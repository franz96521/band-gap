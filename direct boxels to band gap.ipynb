{
 "cells": [
  {
   "cell_type": "code",
   "execution_count": 1,
   "metadata": {},
   "outputs": [],
   "source": [
    "import torch\n",
    "import torch.nn as nn\n",
    "import pytorch_lightning as pl\n",
    "from pytorch_lightning.callbacks import ModelCheckpoint, EarlyStopping\n",
    "from pytorch_lightning.callbacks import ModelCheckpoint\n",
    "import BandGapPredictor as bgp\n",
    "import numpy as np\n",
    "\n",
    "import importlib"
   ]
  },
  {
   "cell_type": "code",
   "execution_count": 2,
   "metadata": {},
   "outputs": [
    {
     "name": "stdout",
     "output_type": "stream",
     "text": [
      "cuda\n"
     ]
    }
   ],
   "source": [
    "from torch.multiprocessing import Pool, Process, set_start_method\n",
    "try:\n",
    "     set_start_method('spawn')\n",
    "except RuntimeError:\n",
    "    pass\n",
    "dev = torch.device(\n",
    "    \"cuda\") if torch.cuda.is_available() else torch.device(\"cpu\")\n",
    "torch.set_float32_matmul_precision('high')\n",
    "print(dev)"
   ]
  },
  {
   "cell_type": "code",
   "execution_count": 3,
   "metadata": {},
   "outputs": [
    {
     "name": "stderr",
     "output_type": "stream",
     "text": [
      "GPU available: True (cuda), used: True\n",
      "TPU available: False, using: 0 TPU cores\n",
      "IPU available: False, using: 0 IPUs\n",
      "HPU available: False, using: 0 HPUs\n"
     ]
    }
   ],
   "source": [
    "\n",
    "checkpoint_callback = ModelCheckpoint(\n",
    "    dirpath='./checkpoints',\n",
    "    filename='{epoch}-{val_loss:.2f}-{val_r2:.2f}',\n",
    "    save_top_k=1,\n",
    "    monitor='val_loss',\n",
    "    every_n_epochs =1,\n",
    ")\n",
    "early_stop_callback = EarlyStopping(\n",
    "    monitor='val_loss',\n",
    "    min_delta=0.01,\n",
    "    patience=10,\n",
    "    verbose=False,\n",
    "    mode='min'\n",
    ")\n",
    "# reload bgp \n",
    "# importlib.reload(bgp)\n",
    "\n",
    "# model = bgp.CNN.BandGap(lr=1e-3,model = bgp.CNN.CNNModelBig)\n",
    "\n",
    "# model = model.load_from_checkpoint(checkpoint_path=\"checkpoints\\epoch=0-val_loss=1.16-val_r2=-0.43.ckpt\")\n",
    "\n",
    "trainer = pl.Trainer(accelerator='gpu', devices=1, max_epochs=100,log_every_n_steps=1,callbacks=[checkpoint_callback])"
   ]
  },
  {
   "cell_type": "code",
   "execution_count": 4,
   "metadata": {},
   "outputs": [
    {
     "data": {
      "text/plain": [
       "tensor([[-0.5470],\n",
       "        [ 0.5470]], grad_fn=<MulBackward0>)"
      ]
     },
     "execution_count": 4,
     "metadata": {},
     "output_type": "execute_result"
    }
   ],
   "source": [
    "# random tensor of 3x128x128x128\n",
    "import BandGapPredictor as bgp\n",
    "importlib.reload(bgp)\n",
    "\n",
    "model = bgp.CNN.BandGap(lr=1e-3,model = bgp.CNN.CNNModelBig)\n",
    "x = torch.rand(2,3, 128, 128, 128)\n",
    "model(x)"
   ]
  },
  {
   "cell_type": "code",
   "execution_count": 5,
   "metadata": {},
   "outputs": [],
   "source": [
    "torch.cuda.empty_cache()"
   ]
  },
  {
   "cell_type": "code",
   "execution_count": 6,
   "metadata": {},
   "outputs": [
    {
     "ename": "FileNotFoundError",
     "evalue": "[WinError 3] The system cannot find the path specified: 'T:\\\\BandGap\\\\3d-boxels-molecule-for-bandgap-prediction\\\\Data'",
     "output_type": "error",
     "traceback": [
      "\u001b[1;31m---------------------------------------------------------------------------\u001b[0m",
      "\u001b[1;31mFileNotFoundError\u001b[0m                         Traceback (most recent call last)",
      "\u001b[1;32mc:\\Users\\franz\\Documents\\GitHub\\band-gap\\direct boxels to band gap.ipynb Cell 6\u001b[0m in \u001b[0;36m<cell line: 1>\u001b[1;34m()\u001b[0m\n\u001b[1;32m----> <a href='vscode-notebook-cell:/c%3A/Users/franz/Documents/GitHub/band-gap/direct%20boxels%20to%20band%20gap.ipynb#W4sZmlsZQ%3D%3D?line=0'>1</a>\u001b[0m data  \u001b[39m=\u001b[39m bgp\u001b[39m.\u001b[39;49mdataloaders\u001b[39m.\u001b[39;49mLoadMolecules(molecules_root \u001b[39m=\u001b[39;49m \u001b[39mr\u001b[39;49m\u001b[39m\"\u001b[39;49m\u001b[39mT:\u001b[39;49m\u001b[39m\\\u001b[39;49m\u001b[39mBandGap\u001b[39;49m\u001b[39m\\\u001b[39;49m\u001b[39m3d-boxels-molecule-for-bandgap-prediction\u001b[39;49m\u001b[39m\\\u001b[39;49m\u001b[39mData\u001b[39;49m\u001b[39m\"\u001b[39;49m,band_root \u001b[39m=\u001b[39;49m\u001b[39mr\u001b[39;49m\u001b[39m\"\u001b[39;49m\u001b[39mE:\u001b[39;49m\u001b[39m\\\u001b[39;49m\u001b[39mDatasets\u001b[39;49m\u001b[39m\\\u001b[39;49m\u001b[39mBandGap\u001b[39;49m\u001b[39m\\\u001b[39;49m\u001b[39m3d-boxels-molecule-for-bandgap-prediction\u001b[39;49m\u001b[39m\"\u001b[39;49m , max_samples\u001b[39m=\u001b[39;49m\u001b[39m12500\u001b[39;49m)\n\u001b[0;32m      <a href='vscode-notebook-cell:/c%3A/Users/franz/Documents/GitHub/band-gap/direct%20boxels%20to%20band%20gap.ipynb#W4sZmlsZQ%3D%3D?line=1'>2</a>\u001b[0m \u001b[39m# data = [x for x in data]\u001b[39;00m\n\u001b[0;32m      <a href='vscode-notebook-cell:/c%3A/Users/franz/Documents/GitHub/band-gap/direct%20boxels%20to%20band%20gap.ipynb#W4sZmlsZQ%3D%3D?line=2'>3</a>\u001b[0m \u001b[39mprint\u001b[39m(\u001b[39mlen\u001b[39m(data))\n",
      "File \u001b[1;32mc:\\Users\\franz\\Documents\\GitHub\\band-gap\\BandGapPredictor\\Dataloaders\\dataloaders.py:12\u001b[0m, in \u001b[0;36mLoadMolecules.__init__\u001b[1;34m(self, molecules_root, band_root, max_samples)\u001b[0m\n\u001b[0;32m     10\u001b[0m \u001b[39mdef\u001b[39;00m \u001b[39m__init__\u001b[39m(\u001b[39mself\u001b[39m, molecules_root, band_root, max_samples\u001b[39m=\u001b[39m\u001b[39m100\u001b[39m):\n\u001b[0;32m     11\u001b[0m     \u001b[39mself\u001b[39m\u001b[39m.\u001b[39mroot \u001b[39m=\u001b[39m molecules_root\n\u001b[1;32m---> 12\u001b[0m     \u001b[39mself\u001b[39m\u001b[39m.\u001b[39mfiles \u001b[39m=\u001b[39m \u001b[39mlist\u001b[39m(os\u001b[39m.\u001b[39;49mlistdir(molecules_root))\n\u001b[0;32m     13\u001b[0m     \u001b[39mif\u001b[39;00m max_samples:\n\u001b[0;32m     14\u001b[0m         \u001b[39mself\u001b[39m\u001b[39m.\u001b[39mfiles \u001b[39m=\u001b[39m \u001b[39mself\u001b[39m\u001b[39m.\u001b[39mfiles[:\u001b[39mmin\u001b[39m(max_samples, \u001b[39mlen\u001b[39m(\u001b[39mself\u001b[39m\u001b[39m.\u001b[39mfiles))]\n",
      "\u001b[1;31mFileNotFoundError\u001b[0m: [WinError 3] The system cannot find the path specified: 'T:\\\\BandGap\\\\3d-boxels-molecule-for-bandgap-prediction\\\\Data'"
     ]
    }
   ],
   "source": [
    "data  = bgp.dataloaders.LoadMolecules(molecules_root = r\"T:\\BandGap\\3d-boxels-molecule-for-bandgap-prediction\\Data\",band_root =r\"E:\\Datasets\\BandGap\\3d-boxels-molecule-for-bandgap-prediction\" , max_samples=12500)\n",
    "# data = [x for x in data]\n",
    "print(len(data))\n",
    "data_module = bgp.dataloaders.InMemoryDataModule(data,32,4)\n"
   ]
  },
  {
   "cell_type": "code",
   "execution_count": null,
   "metadata": {},
   "outputs": [
    {
     "name": "stderr",
     "output_type": "stream",
     "text": [
      "e:\\miniconda3\\envs\\AI\\lib\\site-packages\\pytorch_lightning\\callbacks\\model_checkpoint.py:613: UserWarning: Checkpoint directory E:\\Github\\band-gap\\checkpoints exists and is not empty.\n",
      "  rank_zero_warn(f\"Checkpoint directory {dirpath} exists and is not empty.\")\n",
      "LOCAL_RANK: 0 - CUDA_VISIBLE_DEVICES: [0]\n",
      "\n",
      "  | Name    | Type     | Params\n",
      "-------------------------------------\n",
      "0 | loss    | RMSELoss | 0     \n",
      "1 | r2score | R2Score  | 0     \n",
      "2 | model   | CNNModel | 9.6 M \n",
      "-------------------------------------\n",
      "9.6 M     Trainable params\n",
      "0         Non-trainable params\n",
      "9.6 M     Total params\n",
      "38.452    Total estimated model params size (MB)\n"
     ]
    },
    {
     "data": {
      "application/vnd.jupyter.widget-view+json": {
       "model_id": "5523af4d9f774b2a9c58a47775e4148c",
       "version_major": 2,
       "version_minor": 0
      },
      "text/plain": [
       "Sanity Checking: 0it [00:00, ?it/s]"
      ]
     },
     "metadata": {},
     "output_type": "display_data"
    },
    {
     "name": "stderr",
     "output_type": "stream",
     "text": [
      "e:\\miniconda3\\envs\\AI\\lib\\site-packages\\pytorch_lightning\\trainer\\call.py:48: UserWarning: Detected KeyboardInterrupt, attempting graceful shutdown...\n",
      "  rank_zero_warn(\"Detected KeyboardInterrupt, attempting graceful shutdown...\")\n"
     ]
    }
   ],
   "source": [
    "# trainer.fit(model,data_module)"
   ]
  },
  {
   "cell_type": "code",
   "execution_count": null,
   "metadata": {},
   "outputs": [],
   "source": []
  },
  {
   "cell_type": "code",
   "execution_count": null,
   "metadata": {},
   "outputs": [
    {
     "ename": "TypeError",
     "evalue": "object of type 'NoneType' has no len()",
     "output_type": "error",
     "traceback": [
      "\u001b[1;31m---------------------------------------------------------------------------\u001b[0m",
      "\u001b[1;31mTypeError\u001b[0m                                 Traceback (most recent call last)",
      "Cell \u001b[1;32mIn[11], line 2\u001b[0m\n\u001b[0;32m      1\u001b[0m \u001b[39mimport\u001b[39;00m \u001b[39mnumpy\u001b[39;00m \u001b[39mas\u001b[39;00m \u001b[39mnp\u001b[39;00m\n\u001b[1;32m----> 2\u001b[0m x , y \u001b[39m=\u001b[39m data_module\u001b[39m.\u001b[39mtest_data[np\u001b[39m.\u001b[39mrandom\u001b[39m.\u001b[39mrandint(\u001b[39m0\u001b[39m, \u001b[39mlen\u001b[39;49m(data_module\u001b[39m.\u001b[39;49mtest_data))]\n\u001b[0;32m      3\u001b[0m x \u001b[39m=\u001b[39m torch\u001b[39m.\u001b[39mtensor(x)\u001b[39m.\u001b[39munsqueeze(\u001b[39m0\u001b[39m)\n\u001b[0;32m      4\u001b[0m model\u001b[39m.\u001b[39meval()\n",
      "\u001b[1;31mTypeError\u001b[0m: object of type 'NoneType' has no len()"
     ]
    }
   ],
   "source": [
    "import numpy as np\n",
    "x , y = data_module.test_data[np.random.randint(0, len(data_module.test_data))]\n",
    "x = torch.tensor(x).unsqueeze(0)\n",
    "model.eval()\n",
    "out = model(x)\n",
    "print(out, y)\n",
    "print(out-y)"
   ]
  },
  {
   "cell_type": "code",
   "execution_count": null,
   "metadata": {},
   "outputs": [
    {
     "name": "stdout",
     "output_type": "stream",
     "text": [
      "tensor([[2.4216]], device='cuda:0', grad_fn=<NativeBatchNormBackward0>) 3.400346\n",
      "0.003538370132446289\n"
     ]
    }
   ],
   "source": [
    "x , y = data_module.test_data[742]\n",
    "# x to tensor\n",
    "x = torch.tensor(x).unsqueeze(0).to(dev)\n",
    "# model to eval\n",
    "model.eval()\n",
    "import time\n",
    "start = time.time()\n",
    "out = model(x)\n",
    "end = time.time()\n",
    "print(out, y)\n",
    "print(end-start)"
   ]
  },
  {
   "cell_type": "code",
   "execution_count": null,
   "metadata": {},
   "outputs": [
    {
     "name": "stderr",
     "output_type": "stream",
     "text": [
      "LOCAL_RANK: 0 - CUDA_VISIBLE_DEVICES: [0]\n"
     ]
    },
    {
     "data": {
      "application/vnd.jupyter.widget-view+json": {
       "model_id": "d421013b935b44fd9e45af67047752a7",
       "version_major": 2,
       "version_minor": 0
      },
      "text/plain": [
       "Testing: 0it [00:00, ?it/s]"
      ]
     },
     "metadata": {},
     "output_type": "display_data"
    },
    {
     "name": "stdout",
     "output_type": "stream",
     "text": [
      "────────────────────────────────────────────────────────────────────────────────────────────────────────────────────────\n",
      "       Test metric             DataLoader 0\n",
      "────────────────────────────────────────────────────────────────────────────────────────────────────────────────────────\n",
      "     test_MAE_epoch         0.9259928464889526\n",
      "     test_loss_epoch        1.1936712265014648\n",
      "      test_r2_epoch        -0.40385499596595764\n",
      "────────────────────────────────────────────────────────────────────────────────────────────────────────────────────────\n"
     ]
    }
   ],
   "source": [
    "e = trainer.test(model, data_module)"
   ]
  },
  {
   "cell_type": "code",
   "execution_count": null,
   "metadata": {},
   "outputs": [
    {
     "name": "stderr",
     "output_type": "stream",
     "text": [
      "LOCAL_RANK: 0 - CUDA_VISIBLE_DEVICES: [0]\n"
     ]
    },
    {
     "data": {
      "application/vnd.jupyter.widget-view+json": {
       "model_id": "0e74158c3a2a4588b47c54ab942605c2",
       "version_major": 2,
       "version_minor": 0
      },
      "text/plain": [
       "Validation: 0it [00:00, ?it/s]"
      ]
     },
     "metadata": {},
     "output_type": "display_data"
    },
    {
     "name": "stdout",
     "output_type": "stream",
     "text": [
      "────────────────────────────────────────────────────────────────────────────────────────────────────────────────────────\n",
      "     Validate metric           DataLoader 0\n",
      "────────────────────────────────────────────────────────────────────────────────────────────────────────────────────────\n",
      "      val_MAE_epoch         0.9531973600387573\n",
      "     val_loss_epoch         1.2372808456420898\n",
      "      val_r2_epoch         -0.47746211290359497\n",
      "────────────────────────────────────────────────────────────────────────────────────────────────────────────────────────\n"
     ]
    }
   ],
   "source": [
    "e = trainer.validate(model, data_module)\n"
   ]
  }
 ],
 "metadata": {
  "kernelspec": {
   "display_name": "band-gap",
   "language": "python",
   "name": "python3"
  },
  "language_info": {
   "codemirror_mode": {
    "name": "ipython",
    "version": 3
   },
   "file_extension": ".py",
   "mimetype": "text/x-python",
   "name": "python",
   "nbconvert_exporter": "python",
   "pygments_lexer": "ipython3",
   "version": "3.10.4"
  },
  "orig_nbformat": 4
 },
 "nbformat": 4,
 "nbformat_minor": 2
}
