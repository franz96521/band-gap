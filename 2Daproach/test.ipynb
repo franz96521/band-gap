{
 "cells": [
  {
   "cell_type": "code",
   "execution_count": 1,
   "metadata": {},
   "outputs": [
    {
     "name": "stderr",
     "output_type": "stream",
     "text": [
      "e:\\miniconda3\\envs\\AI\\lib\\site-packages\\torch\\distributed\\_shard\\partial_tensor.py:40: UserWarning: Please use DTensor instead and we are deprecating ShardedTensor.\n",
      "  warnings.warn(DEPRECATE_MSG)\n",
      "e:\\miniconda3\\envs\\AI\\lib\\site-packages\\torch\\distributed\\_shard\\replicated_tensor.py:20: UserWarning: Please use DTensor instead and we are deprecating ShardedTensor.\n",
      "  warnings.warn(DEPRECATE_MSG)\n"
     ]
    }
   ],
   "source": [
    "import torch \n",
    "import torch.nn as nn\n",
    "import torch.nn.functional as F\n",
    "from torch.utils.data import Dataset, DataLoader, Subset\n",
    "import os\n",
    "import numpy as np\n",
    "import torch\n",
    "import pytorch_lightning as pl\n",
    "from models.modeling import VisionTransformer, CONFIGS\n",
    "\n",
    "\n",
    "import torch\n",
    "import torch.nn as nn\n",
    "\n",
    "from torchmetrics import R2Score\n"
   ]
  },
  {
   "cell_type": "code",
   "execution_count": 2,
   "metadata": {},
   "outputs": [],
   "source": [
    "class RMSELoss(nn.Module):\n",
    "    def __init__(self, eps=1e-10):\n",
    "        super().__init__()\n",
    "        self.mse = nn.MSELoss()\n",
    "        self.eps = eps\n",
    "        \n",
    "    def forward(self,yhat,y):\n",
    "        loss = torch.sqrt(self.mse(yhat,y) + self.eps)\n",
    "        return loss"
   ]
  },
  {
   "cell_type": "code",
   "execution_count": 3,
   "metadata": {},
   "outputs": [],
   "source": [
    "from PIL import Image\n",
    "class data(Dataset):\n",
    "    def __init__(self, Img_path , band_path,imageformat='jpg',imageSize=256):\n",
    "        super(data,self).__init__()\n",
    "        self.path = Img_path\n",
    "        self.imageSize = imageSize\n",
    "        self.imageformat = imageformat\n",
    "        self.bandgap = np.loadtxt(band_path, dtype=np.float32)\n",
    "    def __len__(self):        \n",
    "        return 12499\n",
    "    def __getitem__(self, idx):\n",
    "        # print(idx)\n",
    "        img1 = Image.open(f'{self.path}/{idx}_zx.{self.imageformat}').resize((self.imageSize ,self.imageSize ))\n",
    "        img1 = torch.from_numpy(np.array(img1)).permute(2,0,1).type(torch.float32)\n",
    "        img2 = Image.open(f'{self.path}/{idx}_yz.{self.imageformat}').resize((self.imageSize ,self.imageSize ))\n",
    "        img2 = torch.from_numpy(np.array(img2)).permute(2,0,1).type(torch.float32)\n",
    "        img3 = Image.open(f'{self.path}/{idx}_yx.{self.imageformat}').resize((self.imageSize ,self.imageSize ))\n",
    "        img3 = torch.from_numpy(np.array(img3)).permute(2,0,1).type(torch.float32)\n",
    "\n",
    "        return torch.stack([img1, img2, img3], dim=0), self.bandgap[idx]\n"
   ]
  },
  {
   "cell_type": "code",
   "execution_count": 4,
   "metadata": {},
   "outputs": [],
   "source": [
    "class BANGap(nn.Module):\n",
    "    def __init__(self, img_size,num_classes=256):\n",
    "        super(BANGap, self).__init__()\n",
    "        self.img_size = img_size\n",
    "\n",
    "        self.Vit = VisionTransformer(CONFIGS['ViT-B_16'], self.img_size, zero_head=True, num_classes=num_classes)\n",
    "        self.seq = nn.Sequential(\n",
    "            nn.Linear(num_classes*3, 512),\n",
    "            nn.BatchNorm1d(512),\n",
    "            nn.LeakyReLU(),\n",
    "            nn.Linear(512, 256),\n",
    "            nn.BatchNorm1d(256),\n",
    "            nn.LeakyReLU(),\n",
    "            nn.Linear(256, 1)\n",
    "        )\n",
    "    def forward(self, x):\n",
    "        x,y,z = x[:,0,:,:,:],x[:,1,:,:,:],x[:,2,:,:,:]\n",
    "        x ,_= self.Vit(x)\n",
    "        y ,_= self.Vit(y)\n",
    "        z ,_= self.Vit(z)\n",
    "        x = torch.cat([x,y,z],dim=1)\n",
    "        x = self.seq(x)        \n",
    "        return x\n",
    "\n",
    "\n",
    "\n"
   ]
  },
  {
   "cell_type": "code",
   "execution_count": 5,
   "metadata": {},
   "outputs": [],
   "source": [
    "class BandGap(pl.LightningModule):\n",
    "    def __init__(self, lr=1e-3,model=None):\n",
    "        super(BandGap,self).__init__()\n",
    "        print(\"Model Initialized\")\n",
    "        self.lr = lr\n",
    "        self.save_hyperparameters()        \n",
    "        self.RMSELoss = RMSELoss()\n",
    "        self.r2score = R2Score()\n",
    "        self.MAE = nn.L1Loss()\n",
    "        self.model = model\n",
    "    def forward(self, x):\n",
    "        return self.model(x)\n",
    "\n",
    "    def configure_optimizers(self):\n",
    "        optimizer = torch.optim.Adam(self.parameters(), lr=self.lr)\n",
    "        sch = torch.optim.lr_scheduler.ReduceLROnPlateau(optimizer, mode='min', factor=0.1, patience=5, verbose=True, threshold=0.0001, threshold_mode='rel', cooldown=0, min_lr=0, eps=1e-010)\n",
    "        return {\n",
    "            \"optimizer\":optimizer,\n",
    "            \"lr_scheduler\" : {\n",
    "                \"scheduler\" : sch,\n",
    "                \"monitor\" : \"val_RMSELoss\",                \n",
    "            }\n",
    "        }\n",
    "\n",
    "    def training_step(self, batch, batch_idx):\n",
    "        x, y = batch\n",
    "        y = y.unsqueeze(1)\n",
    "        y_hat = self(x)\n",
    "        loss = self.RMSELoss(y_hat, y)\n",
    "        r2 = self.r2score(y_hat, y)\n",
    "        mae = self.MAE(y_hat, y)\n",
    "        self.log(\"train_RMSELoss\", loss, prog_bar=True, on_step=True)\n",
    "        self.log(\"train_r2\", r2, prog_bar=True, on_step=True)\n",
    "        self.log(\"train_MAE\",mae , prog_bar=True, on_step=True)\n",
    "        return {\"loss\": loss, \"log\": {\"train_RMSELoss\": loss, \"train_r2\": r2}}\n",
    "\n",
    "    def validation_step(self, batch, batch_idx):\n",
    "        x, y = batch\n",
    "        y = y.unsqueeze(1)\n",
    "        y_hat = self(x)\n",
    "        loss = self.RMSELoss(y_hat, y)\n",
    "        r2 = self.r2score(y_hat, y)\n",
    "        mae = self.MAE(y_hat, y)\n",
    "        self.log(\"val_RMSELoss\", loss, prog_bar=True, on_step=True)\n",
    "        self.log(\"val_r2\", r2, prog_bar=True, on_step=True)\n",
    "        self.log(\"val_MAE\",mae , prog_bar=True, on_step=True)\n",
    "        return {\"loss\": loss, \"log\": {\"val_RMSELoss\": loss, \"val_r2\": r2}}\n",
    "\n",
    "    def test_step(self, batch, batch_idx):\n",
    "        x, y = batch\n",
    "        y = y.unsqueeze(1)\n",
    "        y_hat = self(x)\n",
    "        loss = self.RMSELoss(y_hat, y)\n",
    "        r2 = self.r2score(y_hat, y)\n",
    "        mae = self.MAE(y_hat, y)\n",
    "        self.log(\"test_RMSELoss\", loss, prog_bar=True, on_step=True)\n",
    "        self.log(\"test_r2\", r2, prog_bar=True, on_step=True)\n",
    "        self.log(\"test_MAE\",mae , prog_bar=True, on_step=True)\n",
    "        return {\"loss\": loss, \"log\": {\"test_RMSELoss\": loss, \"test_r2\": r2}}\n",
    "    \n"
   ]
  },
  {
   "cell_type": "code",
   "execution_count": 6,
   "metadata": {},
   "outputs": [],
   "source": [
    "class DataLoaderBA(pl.LightningDataModule):\n",
    "    def __init__(self,data, batch_size=32, num_workers=4):\n",
    "        super().__init__()\n",
    "        self.data = data\n",
    "        self.batch_size = batch_size\n",
    "        self.num_workers = num_workers\n",
    "        self.pin_memory = True if torch.cuda.is_available() else False\n",
    "        \n",
    "    def setup(self, stage=None):\n",
    "        self.train_data = Subset(self.data, np.arange(int(len(self.data)*0.8)))\n",
    "        self.val_data = Subset(self.data, np.arange(int(len(self.data)*0.8),int(len(self.data)*0.9)))\n",
    "        self.test_data = Subset(self.data, np.arange(int(len(self.data)*0.9),len(self.data)))\n",
    "    def train_dataloader(self):\n",
    "        return DataLoader(self.train_data, batch_size=self.batch_size, num_workers=self.num_workers, shuffle=True,pin_memory=self.pin_memory)\n",
    "    def val_dataloader(self):\n",
    "        return DataLoader(self.val_data, batch_size=self.batch_size, num_workers=self.num_workers, shuffle=False,pin_memory=self.pin_memory)\n",
    "    def test_dataloader(self):\n",
    "        return DataLoader(self.test_data, batch_size=self.batch_size, num_workers=self.num_workers, shuffle=False,pin_memory=self.pin_memory)\n",
    "    \n",
    "\n",
    "        "
   ]
  },
  {
   "cell_type": "code",
   "execution_count": 7,
   "metadata": {},
   "outputs": [],
   "source": [
    "from pytorch_lightning.callbacks import ModelCheckpoint, EarlyStopping\n",
    "\n",
    "checkpoint_callback = ModelCheckpoint(\n",
    "    dirpath='./checkpoints',\n",
    "    filename='{epoch}-{val_RMSELoss:.4f}-{val_r2:.4f}-{val_MAE:.4f}',\n",
    "    save_top_k=1,\n",
    "    monitor='val_RMSELoss',\n",
    "    every_n_epochs =1,\n",
    ")\n",
    "early_stop_callback = EarlyStopping(\n",
    "    monitor='val_RMSELoss',\n",
    "    min_delta=0.001,\n",
    "    patience=10,\n",
    "    verbose=False,\n",
    "    mode='min'\n",
    ")\n"
   ]
  },
  {
   "cell_type": "code",
   "execution_count": 8,
   "metadata": {},
   "outputs": [
    {
     "name": "stdout",
     "output_type": "stream",
     "text": [
      "Model Initialized\n"
     ]
    },
    {
     "name": "stderr",
     "output_type": "stream",
     "text": [
      "e:\\miniconda3\\envs\\AI\\lib\\site-packages\\pytorch_lightning\\utilities\\parsing.py:269: UserWarning: Attribute 'model' is an instance of `nn.Module` and is already saved during checkpointing. It is recommended to ignore them using `self.save_hyperparameters(ignore=['model'])`.\n",
      "  rank_zero_warn(\n"
     ]
    },
    {
     "name": "stdout",
     "output_type": "stream",
     "text": [
      "Model Initialized\n"
     ]
    },
    {
     "name": "stderr",
     "output_type": "stream",
     "text": [
      "GPU available: True (cuda), used: True\n",
      "TPU available: False, using: 0 TPU cores\n",
      "IPU available: False, using: 0 IPUs\n",
      "HPU available: False, using: 0 HPUs\n"
     ]
    }
   ],
   "source": [
    "d = data(\"./Images/images_06092020\", \"./Images/bandgaps.csv\")\n",
    "m = BANGap(256)\n",
    "model = BandGap(lr=1e-4,model=m)\n",
    "model = model.load_from_checkpoint(\"checkpoints\\epoch=29-val_loss=0.95-val_r2=0.11-val_MAE=0.75.ckpt\")\n",
    "dataset = DataLoaderBA(d, batch_size=32, num_workers=0)\n",
    "dataset.setup(None)\n",
    "trainer = pl.Trainer(accelerator='gpu', num_sanity_val_steps=0,devices=1, max_epochs=100,accumulate_grad_batches=1,log_every_n_steps=1,callbacks=[checkpoint_callback,early_stop_callback])\n"
   ]
  },
  {
   "cell_type": "code",
   "execution_count": 9,
   "metadata": {},
   "outputs": [],
   "source": [
    "# trainer.fit(model, dataset)"
   ]
  },
  {
   "cell_type": "code",
   "execution_count": 15,
   "metadata": {},
   "outputs": [
    {
     "name": "stdout",
     "output_type": "stream",
     "text": [
      "1.1501328945159912\n"
     ]
    }
   ],
   "source": [
    "import time\n",
    "for i in dataset.train_dataloader():\n",
    "    x,y = i\n",
    "    x = x[0].unsqueeze(0)\n",
    "    start = time.time()\n",
    "    model.eval()\n",
    "    model(x)\n",
    "    end = time.time()\n",
    "    print(end-start)\n",
    "    break\n"
   ]
  },
  {
   "cell_type": "code",
   "execution_count": 10,
   "metadata": {},
   "outputs": [
    {
     "name": "stderr",
     "output_type": "stream",
     "text": [
      "You are using a CUDA device ('NVIDIA GeForce RTX 4090') that has Tensor Cores. To properly utilize them, you should set `torch.set_float32_matmul_precision('medium' | 'high')` which will trade-off precision for performance. For more details, read https://pytorch.org/docs/stable/generated/torch.set_float32_matmul_precision.html#torch.set_float32_matmul_precision\n",
      "LOCAL_RANK: 0 - CUDA_VISIBLE_DEVICES: [0]\n",
      "e:\\miniconda3\\envs\\AI\\lib\\site-packages\\pytorch_lightning\\trainer\\connectors\\data_connector.py:224: PossibleUserWarning: The dataloader, test_dataloader 0, does not have many workers which may be a bottleneck. Consider increasing the value of the `num_workers` argument` (try 32 which is the number of cpus on this machine) in the `DataLoader` init to improve performance.\n",
      "  rank_zero_warn(\n"
     ]
    },
    {
     "data": {
      "application/vnd.jupyter.widget-view+json": {
       "model_id": "ba7df45f92214eb1bd193cb146d542b2",
       "version_major": 2,
       "version_minor": 0
      },
      "text/plain": [
       "Testing: 0it [00:00, ?it/s]"
      ]
     },
     "metadata": {},
     "output_type": "display_data"
    },
    {
     "data": {
      "text/html": [
       "<pre style=\"white-space:pre;overflow-x:auto;line-height:normal;font-family:Menlo,'DejaVu Sans Mono',consolas,'Courier New',monospace\">┏━━━━━━━━━━━━━━━━━━━━━━━━━━━┳━━━━━━━━━━━━━━━━━━━━━━━━━━━┓\n",
       "┃<span style=\"font-weight: bold\">        Test metric        </span>┃<span style=\"font-weight: bold\">       DataLoader 0        </span>┃\n",
       "┡━━━━━━━━━━━━━━━━━━━━━━━━━━━╇━━━━━━━━━━━━━━━━━━━━━━━━━━━┩\n",
       "│<span style=\"color: #008080; text-decoration-color: #008080\">      test_MAE_epoch       </span>│<span style=\"color: #800080; text-decoration-color: #800080\">    0.6952968835830688     </span>│\n",
       "│<span style=\"color: #008080; text-decoration-color: #008080\">    test_RMSELoss_epoch    </span>│<span style=\"color: #800080; text-decoration-color: #800080\">    0.8814917206764221     </span>│\n",
       "│<span style=\"color: #008080; text-decoration-color: #008080\">       test_r2_epoch       </span>│<span style=\"color: #800080; text-decoration-color: #800080\">    0.07794919610023499    </span>│\n",
       "└───────────────────────────┴───────────────────────────┘\n",
       "</pre>\n"
      ],
      "text/plain": [
       "┏━━━━━━━━━━━━━━━━━━━━━━━━━━━┳━━━━━━━━━━━━━━━━━━━━━━━━━━━┓\n",
       "┃\u001b[1m \u001b[0m\u001b[1m       Test metric       \u001b[0m\u001b[1m \u001b[0m┃\u001b[1m \u001b[0m\u001b[1m      DataLoader 0       \u001b[0m\u001b[1m \u001b[0m┃\n",
       "┡━━━━━━━━━━━━━━━━━━━━━━━━━━━╇━━━━━━━━━━━━━━━━━━━━━━━━━━━┩\n",
       "│\u001b[36m \u001b[0m\u001b[36m     test_MAE_epoch      \u001b[0m\u001b[36m \u001b[0m│\u001b[35m \u001b[0m\u001b[35m   0.6952968835830688    \u001b[0m\u001b[35m \u001b[0m│\n",
       "│\u001b[36m \u001b[0m\u001b[36m   test_RMSELoss_epoch   \u001b[0m\u001b[36m \u001b[0m│\u001b[35m \u001b[0m\u001b[35m   0.8814917206764221    \u001b[0m\u001b[35m \u001b[0m│\n",
       "│\u001b[36m \u001b[0m\u001b[36m      test_r2_epoch      \u001b[0m\u001b[36m \u001b[0m│\u001b[35m \u001b[0m\u001b[35m   0.07794919610023499   \u001b[0m\u001b[35m \u001b[0m│\n",
       "└───────────────────────────┴───────────────────────────┘\n"
      ]
     },
     "metadata": {},
     "output_type": "display_data"
    }
   ],
   "source": [
    "test = trainer.test(model, dataset.test_dataloader())\n"
   ]
  }
 ],
 "metadata": {
  "kernelspec": {
   "display_name": "band-gap",
   "language": "python",
   "name": "python3"
  },
  "language_info": {
   "codemirror_mode": {
    "name": "ipython",
    "version": 3
   },
   "file_extension": ".py",
   "mimetype": "text/x-python",
   "name": "python",
   "nbconvert_exporter": "python",
   "pygments_lexer": "ipython3",
   "version": "3.10.9"
  },
  "orig_nbformat": 4
 },
 "nbformat": 4,
 "nbformat_minor": 2
}
