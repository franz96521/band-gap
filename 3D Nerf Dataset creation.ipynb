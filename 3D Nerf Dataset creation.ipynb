{
 "cells": [
  {
   "cell_type": "code",
   "execution_count": 3,
   "metadata": {},
   "outputs": [],
   "source": [
    "import numpy as np\n",
    "import matplotlib.pyplot as plt\n",
    "# import src.mogli as mogli\n",
    "import os\n",
    "# from ipywidgets import IntProgress\n",
    "from IPython.display import display, clear_output\n",
    "from PIL import Image\n",
    "import BandGapPredictor as bgp\n",
    "\n",
    "# from src.CameraPoseVisualizer import CameraPoseVisualizer\n",
    "# import numpy as np\n",
    "\n",
    "import importlib\n",
    "import json\n",
    "import time\n"
   ]
  },
  {
   "cell_type": "code",
   "execution_count": 5,
   "metadata": {},
   "outputs": [],
   "source": [
    "bandgaps = np.loadtxt(r'E:\\Datasets\\BandGap\\3d-boxels-molecule-for-bandgap-prediction\\bandgaps.csv')\n",
    "cods = np.loadtxt(r'E:\\Datasets\\BandGap\\3d-boxels-molecule-for-bandgap-prediction\\CODids.csv', dtype=int)\n",
    "\n",
    "materials = bgp.mogli.read(r'E:\\Datasets\\BandGap\\3d-boxels-molecule-for-bandgap-prediction\\structures.xyz')"
   ]
  },
  {
   "cell_type": "code",
   "execution_count": 6,
   "metadata": {},
   "outputs": [],
   "source": [
    "def circle(radius, n):\n",
    "    theta = np.linspace(0, 2*np.pi, n)\n",
    "    x = radius*np.cos(theta)\n",
    "    y = radius*np.sin(theta)\n",
    "    z = np.zeros_like(theta)\n",
    "    # put x,y, and z as columns in a matrix\n",
    "\n",
    "    return np.column_stack((x.flatten(), y.flatten(), z.flatten()))\n",
    "\n"
   ]
  },
  {
   "cell_type": "code",
   "execution_count": 7,
   "metadata": {},
   "outputs": [],
   "source": [
    "def sphere (radius, n):\n",
    "    theta = np.linspace(0, 2*np.pi, n)\n",
    "    phi = np.linspace(0, np.pi, n)\n",
    "    x = radius*np.outer(np.cos(theta), np.sin(phi)).flatten()\n",
    "    y = radius*np.outer(np.sin(theta), np.sin(phi)).flatten()\n",
    "    z = radius*np.outer(np.ones(np.size(theta)), np.cos(phi)).flatten()\n",
    "    \n",
    "    \n",
    "    mask = np.logical_and(x != 0, y != 0)\n",
    "    x = x[mask]\n",
    "    y = y[mask]\n",
    "    z = z[mask]\n",
    "    \n",
    "    # print(x.shape)\n",
    "    \n",
    "    return np.column_stack((x,y,z))\n"
   ]
  },
  {
   "cell_type": "code",
   "execution_count": 8,
   "metadata": {},
   "outputs": [],
   "source": [
    "class Cameraframe():\n",
    "    def __init__(self,filePath,transform_matrix, sharpness=5725):\n",
    "        self.file_path = filePath\n",
    "        self.sharpness= sharpness\n",
    "        self.transform_matrix = transform_matrix\n",
    "    def toJson(self):\n",
    "        return {\n",
    "            \"file_path\": self.file_path,\n",
    "            # \"sharpness\": self.sharpness,\n",
    "            \"transform_matrix\": self.transform_matrix.tolist()\n",
    "        }\n",
    "    \n",
    "class dataset():\n",
    "    def __init__(self, w, h ,angle_degrees = 45):        \n",
    "        self.camera_angle_x= np.radians(angle_degrees)\n",
    "        self.camera_angle_y= np.radians(angle_degrees)   \n",
    "        self.w= w\n",
    "        self.h= h\n",
    "        self.frames = []\n",
    "    def toJson(self):\n",
    "        return {\n",
    "            \"camera_angle_x\": self.camera_angle_x,\n",
    "            \"camera_angle_y\": self.camera_angle_y,           \n",
    "            \"cx\": self.w / 2,\n",
    "            \"cy\": self.h / 2,\n",
    "            \"w\": self.w,\n",
    "            \"h\": self.h,\n",
    "            \"frames\": [frame.toJson() for frame in self.frames]             \n",
    "        }\n",
    "    def save(self, path):\n",
    "        with open(path, 'w') as outfile:\n",
    "            json.dump(self.toJson(), outfile)\n",
    "        "
   ]
  },
  {
   "cell_type": "code",
   "execution_count": 9,
   "metadata": {},
   "outputs": [],
   "source": [
    "def run(scene_path, train_steps):\n",
    "    snapshot_path = os.path.join(scene_path, f\"snapshot.ingp\")    \n",
    "    !python ./instant-ngp/scripts/run.py {scene_path} --n_steps {train_steps} --save_snapshot {snapshot_path}  --save_raw_volumes\n",
    "def open_snapshot(scene_path):\n",
    "    train_steps = 10\n",
    "    snapshot_path = os.path.join(scene_path, f\"snapshot.ingp\")\n",
    "    !python ./instant-ngp/scripts/run.py {scene_path} --n_steps {train_steps} --load_snapshot {snapshot_path} --gui\n",
    "\n",
    "def save_raw_volumes(scene_path):\n",
    "    snapshot_path = os.path.join(scene_path, f\"snapshot.ingp\")    \n",
    "    !python ./instant-ngp/scripts/run.py {scene_path} --load_snapshot {snapshot_path} --save_raw_volumes"
   ]
  },
  {
   "cell_type": "code",
   "execution_count": 12,
   "metadata": {},
   "outputs": [
    {
     "name": "stdout",
     "output_type": "stream",
     "text": [
      "molecule 0 finished--- 1931.73917222023seconds ---\n"
     ]
    }
   ],
   "source": [
    "bonds_param = 1.5\n",
    "width = 100\n",
    "height = 100\n",
    "distance = 25\n",
    "formatFile = \"jpg\"\n",
    "train_steps = 4000  \n",
    "start_molecue = 0 \n",
    "path = f'E:\\Datasets\\BandGap\\{width}x{height}_BP{bonds_param}/'\n",
    "if not os.path.exists(path):\n",
    "    os.makedirs(path)    \n",
    "for i, molecule in enumerate(materials[start_molecue:]):  \n",
    "    # if i == 34:\n",
    "    #     break\n",
    "    start_time = time.time()\n",
    "    i+=start_molecue\n",
    "    print(f'molecule {i} stated')  \n",
    "    pathmolecule = f'{path}/{i}'\n",
    "    if not os.path.exists(pathmolecule):\n",
    "        os.makedirs(pathmolecule)   \n",
    "    Nerf = dataset(width,height)\n",
    "    data  = {}\n",
    "    sp = sphere(distance, 15)\n",
    "    for n , (x,y,z) in enumerate(sp):              \n",
    "        img_path = f\"{pathmolecule}/molecula_x_{i}_{n}.{formatFile}\"\n",
    "        camerapos = np.array([x,y,z])\n",
    "        camera = bgp.mogli.export(molecule,img_path,bonds_param=bonds_param,camera=((x,y,z),(0, 0, 0),(0 , 0 , 1)), width=width, height=height,distance=distance,scale=2)\n",
    "        # camera[:3,3] =  camerapos / distance\n",
    "        Nerf.frames.append(Cameraframe(f\"molecula_x_{i}_{n}.{formatFile}\",camera))\n",
    "    Nerf.save(f\"{pathmolecule}/nerf.json\")   \n",
    "    # viewCameras(Nerf.frames)    \n",
    "     \n",
    "    # open_snapshot(pathmolecule) \n",
    "    # save_raw_volumes(pathmolecule)\n",
    "    \n",
    "    # run(pathmolecule, train_steps)\n",
    "    clear_output(wait=True)  \n",
    "\n",
    "    print(f'molecule {i} finished--- {time.time() - start_time}seconds ---'  )\n",
    "    break"
   ]
  },
  {
   "cell_type": "code",
   "execution_count": null,
   "metadata": {},
   "outputs": [],
   "source": [
    "\n",
    "img_path = r\"E:\\Datasets\\BandGap\\100x100_BP1.5\\1\\volume_raw\\128x128x128_0.bin\"\n",
    "\n",
    "data =None\n",
    "with open(img_path, \"rb\") as f:\n",
    "    data = f.read()\n",
    "\n",
    "data = np.frombuffer(data, dtype=np.float32)\n",
    "size = np.cbrt(data.shape[0]/4).astype(int)\n",
    "data = data.reshape((size,size,size,4))\n",
    "data.shape\n",
    "for i in range(size):\n",
    "    img = data[i]\n",
    "    plt.imshow(img)\n",
    "    \n",
    "    plt.show()\n"
   ]
  }
 ],
 "metadata": {
  "kernelspec": {
   "display_name": "band-gap",
   "language": "python",
   "name": "python3"
  },
  "language_info": {
   "codemirror_mode": {
    "name": "ipython",
    "version": 3
   },
   "file_extension": ".py",
   "mimetype": "text/x-python",
   "name": "python",
   "nbconvert_exporter": "python",
   "pygments_lexer": "ipython3",
   "version": "3.10.9"
  },
  "orig_nbformat": 4,
  "vscode": {
   "interpreter": {
    "hash": "c501a9e2f27050cdfbe443c99ecee669c6f759c67735d8e3a090baa58611bfdd"
   }
  }
 },
 "nbformat": 4,
 "nbformat_minor": 2
}
