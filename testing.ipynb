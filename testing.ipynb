{
 "cells": [
  {
   "cell_type": "code",
   "execution_count": null,
   "metadata": {},
   "outputs": [],
   "source": [
    "import numpy as np\n",
    "import matplotlib.pyplot as plt"
   ]
  },
  {
   "cell_type": "code",
   "execution_count": null,
   "metadata": {},
   "outputs": [],
   "source": [
    "img_path = r\"E:\\Datasets\\BandGap\\100x100_BP1.5\\100\\volume_raw\\128x128x128_0.bin\"\n",
    "\n",
    "data =None\n",
    "with open(img_path, \"rb\") as f:\n",
    "    data = f.read()\n",
    "\n",
    "data = np.frombuffer(data, dtype=np.float32)\n",
    "size = np.cbrt(data.shape[0]/4).astype(int)\n",
    "data = data.reshape((size,size,size,4))\n",
    "data.shape\n",
    "for i in range(size):\n",
    "    img = data[i]\n",
    "    plt.imshow(img)\n",
    "    \n",
    "    plt.show()\n"
   ]
  }
 ],
 "metadata": {
  "kernelspec": {
   "display_name": "band-gap",
   "language": "python",
   "name": "python3"
  },
  "language_info": {
   "codemirror_mode": {
    "name": "ipython",
    "version": 3
   },
   "file_extension": ".py",
   "mimetype": "text/x-python",
   "name": "python",
   "nbconvert_exporter": "python",
   "pygments_lexer": "ipython3",
   "version": "3.10.9"
  },
  "orig_nbformat": 4
 },
 "nbformat": 4,
 "nbformat_minor": 2
}
