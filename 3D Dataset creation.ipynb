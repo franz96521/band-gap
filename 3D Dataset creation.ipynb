{
 "cells": [
  {
   "cell_type": "code",
   "execution_count": 1,
   "metadata": {},
   "outputs": [],
   "source": [
    "import torch \n",
    "import torch.nn as nn\n",
    "import torch.nn.functional as F\n",
    "import torch.optim as optim\n",
    "import numpy as np\n",
    "import matplotlib.pyplot as plt\n",
    "import pandas as pd\n",
    "from ase.io import read\n",
    "import matplotlib.pyplot as plt\n",
    "from ase.visualize.plot import plot_atoms\n",
    "import mogli"
   ]
  },
  {
   "cell_type": "code",
   "execution_count": 3,
   "metadata": {},
   "outputs": [],
   "source": [
    "bandgaps = np.loadtxt('Datasets/bandgaps.csv')\n",
    "cods = np.loadtxt('Datasets/CODids.csv', dtype=int)\n",
    "materials = mogli.read('Datasets/structures.xyz')"
   ]
  },
  {
   "cell_type": "code",
   "execution_count": 5,
   "metadata": {},
   "outputs": [],
   "source": [
    "import os\n",
    "bonds_param = 1\n",
    "\n",
    "path = f'Datasets/3d/512x512x {bonds_param}'\n",
    "width = 512\n",
    "height = 512\n",
    "distance = 25\n",
    "\n",
    "if not os.path.exists(path):\n",
    "    os.makedirs(path)\n",
    "    \n",
    "if not os.path.exists(f\"{path}/enfrente\"):\n",
    "    os.makedirs(f\"{path}/enfrente\")\n",
    "if not os.path.exists(f\"{path}/atras\"):\n",
    "    os.makedirs(f\"{path}/atras\")\n",
    "if not os.path.exists(f\"{path}/Izquierda\"):\n",
    "    os.makedirs(f\"{path}/Izquierda\")\n",
    "if not os.path.exists(f\"{path}/Derecha\"):\n",
    "    os.makedirs(f\"{path}/Derecha\")\n",
    "if not os.path.exists(f\"{path}/abajo\"):\n",
    "    os.makedirs(f\"{path}/abajo\")\n",
    "if not os.path.exists(f\"{path}/arriba\"):\n",
    "    os.makedirs(f\"{path}/arriba\")    \n",
    "\n",
    "\n",
    "for i, molecule in enumerate(materials):\n",
    "    # frente \n",
    "    mogli.export(molecule,f\"{path}/enfrente/enfrente_{i}.png\",bonds_param=bonds_param,camera=((distance, 0, 0),(0, 0, 0),(0 , 1 , 0)), width=width, height=height)\n",
    "    # atras\n",
    "    mogli.export(molecule,f\"{path}/atras/atras_{i}.png\",bonds_param=bonds_param,camera=((-distance, 0, 0),(0, 0, 0),(0, 1 , 0)), width=width, height=height)\n",
    "\n",
    "    # 90 grados derecha \n",
    "    mogli.export(molecule,f\"{path}/Izquierda/Izquierda_{i}.png\",bonds_param=bonds_param,camera=((0, 0, distance),(0, 0, 0),(0,1, 0)), width=width, height=height)\n",
    "    # 90 grados izquierda\n",
    "    mogli.export(molecule,f\"{path}/Derecha/Derecha_{i}.png\",bonds_param=bonds_param,camera=((0, 0, distance),(0, 0, 0),(0, -1, 0)), width=width, height=height)\n",
    "\n",
    "    # abajo\n",
    "    mogli.export(molecule,f\"{path}/abajo/abajo_{i}.png\",bonds_param=bonds_param,camera=((0, -distance, 0),(0, 0, 0),(1, 0, 0)), width=width, height=height)\n",
    "    # arriba\n",
    "    mogli.export(molecule,f\"{path}/arriba/arriba_{i}.png\",bonds_param=bonds_param,camera=((0, distance, 0),(0, 0, 0),(-1, 0, 0)), width=width, height=height)\n",
    "    "
   ]
  }
 ],
 "metadata": {
  "kernelspec": {
   "display_name": "ia",
   "language": "python",
   "name": "python3"
  },
  "language_info": {
   "codemirror_mode": {
    "name": "ipython",
    "version": 3
   },
   "file_extension": ".py",
   "mimetype": "text/x-python",
   "name": "python",
   "nbconvert_exporter": "python",
   "pygments_lexer": "ipython3",
   "version": "3.10.4"
  },
  "orig_nbformat": 4,
  "vscode": {
   "interpreter": {
    "hash": "88187885bc230902ad3ab747e8178d342bb12c7385bc4372aabd1ca59d846875"
   }
  }
 },
 "nbformat": 4,
 "nbformat_minor": 2
}
