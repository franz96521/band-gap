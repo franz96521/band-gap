{
  "cells": [
    {
      "cell_type": "markdown",
      "metadata": {
        "id": "-fAjMk8jDvp5"
      },
      "source": [
        "# Instant-ngp \n",
        "\n",
        "This notebook aims to be a step-by-step guide to train NeRF models and rendering videos from them with nvidia's [instant-ngp](https://github.com/NVlabs/instant-ngp) software using:\n",
        " * **Colab** for the heavy lifting.\n",
        " * A low-resource **local computer** for the steps that require having a graphical user interface (GUI).\n",
        "\n",
        "It has been tested on a GTX 1050ti in the local machine and an assigned Tesla T4 in the remote one.\n",
        "\n",
        "Based on this [notebook](https://colab.research.google.com/drive/10TgQ4gyVejlHiinrmm5XOvQQmgVziK3i?usp=sharing) by [@myagues](https://github.com/NVlabs/instant-ngp/issues/6#issuecomment-1016397579), the main differences being the addition of steps 3 and 4 to ensure compatibility between the local machine and the models trained in the remote machine, of step 10 to render a video from the scene, and a more guided approach."
      ]
    },
    {
      "cell_type": "markdown",
      "metadata": {
        "id": "SxsmRf03DFYe"
      },
      "source": [
        "## 1.Connect to a GPU runtime"
      ]
    },
    {
      "cell_type": "markdown",
      "metadata": {
        "id": "NyjFWI3WDPBr"
      },
      "source": [
        "Connect your colab session to a GPU runtime and check that you have been assigned a GPU. It should have a minimum of 8GB of available memory."
      ]
    },
    {
      "cell_type": "code",
      "execution_count": 1,
      "metadata": {
        "colab": {
          "base_uri": "https://localhost:8080/"
        },
        "id": "QJC-0GitoJEh",
        "outputId": "0af4179b-9dde-4df2-aaf4-fcbc10d4976c"
      },
      "outputs": [
        {
          "name": "stdout",
          "output_type": "stream",
          "text": [
            "Sun Mar  5 19:43:09 2023       \n",
            "+-----------------------------------------------------------------------------+\n",
            "| NVIDIA-SMI 527.19       Driver Version: 527.19       CUDA Version: 12.0     |\n",
            "|-------------------------------+----------------------+----------------------+\n",
            "| GPU  Name            TCC/WDDM | Bus-Id        Disp.A | Volatile Uncorr. ECC |\n",
            "| Fan  Temp  Perf  Pwr:Usage/Cap|         Memory-Usage | GPU-Util  Compute M. |\n",
            "|                               |                      |               MIG M. |\n",
            "|===============================+======================+======================|\n",
            "|   0  NVIDIA GeForce ... WDDM  | 00000000:06:00.0  On |                  N/A |\n",
            "|  0%   56C    P0    N/A / 120W |    548MiB /  4096MiB |      2%      Default |\n",
            "|                               |                      |                  N/A |\n",
            "+-------------------------------+----------------------+----------------------+\n",
            "|   1  NVIDIA GeForce ... WDDM  | 00000000:07:00.0  On |                  N/A |\n",
            "|  0%   55C    P8    37W / 215W |   5470MiB /  8192MiB |     33%      Default |\n",
            "|                               |                      |                  N/A |\n",
            "+-------------------------------+----------------------+----------------------+\n",
            "                                                                               \n",
            "+-----------------------------------------------------------------------------+\n",
            "| Processes:                                                                  |\n",
            "|  GPU   GI   CI        PID   Type   Process name                  GPU Memory |\n",
            "|        ID   ID                                                   Usage      |\n",
            "|=============================================================================|\n",
            "|    1   N/A  N/A      2628    C+G   ...\\ApplicationFrameHost.exe    N/A      |\n",
            "|    1   N/A  N/A      2828    C+G   ...-RTX-2000\\instant-ngp.exe    N/A      |\n",
            "|    1   N/A  N/A      3300      C   ...conda3\\envs\\AI\\python.exe    N/A      |\n",
            "|    1   N/A  N/A      5920    C+G   ...8bbwe\\WindowsTerminal.exe    N/A      |\n",
            "|    1   N/A  N/A      6344    C+G   ...txyewy\\CHXSmartScreen.exe    N/A      |\n",
            "|    1   N/A  N/A      7224    C+G   ...me\\Application\\chrome.exe    N/A      |\n",
            "|    1   N/A  N/A      7928    C+G   ...oft OneDrive\\OneDrive.exe    N/A      |\n",
            "|    1   N/A  N/A      9304    C+G   C:\\Windows\\explorer.exe         N/A      |\n",
            "|    1   N/A  N/A     10696    C+G   ...le.net.exe.444.17700.temp    N/A      |\n",
            "|    1   N/A  N/A     11360    C+G   ...artMenuExperienceHost.exe    N/A      |\n",
            "|    1   N/A  N/A     11916    C+G   ...-RTX-2000\\instant-ngp.exe    N/A      |\n",
            "|    1   N/A  N/A     12420    C+G   ...2txyewy\\TextInputHost.exe    N/A      |\n",
            "|    1   N/A  N/A     12708    C+G   ...y\\ShellExperienceHost.exe    N/A      |\n",
            "|    1   N/A  N/A     12976    C+G   ...v1g1gvanyjgm\\WhatsApp.exe    N/A      |\n",
            "|    1   N/A  N/A     13132    C+G   ...-RTX-2000\\instant-ngp.exe    N/A      |\n",
            "|    1   N/A  N/A     13992    C+G   ...ge\\Application\\msedge.exe    N/A      |\n",
            "|    1   N/A  N/A     14204    C+G   ...\\envs\\band-gap\\python.exe    N/A      |\n",
            "|    1   N/A  N/A     15184    C+G   ...\\app-1.0.9011\\Discord.exe    N/A      |\n",
            "|    1   N/A  N/A     16112    C+G   ...ray\\lghub_system_tray.exe    N/A      |\n",
            "|    1   N/A  N/A     16252    C+G   ...ram Files\\LGHUB\\lghub.exe    N/A      |\n",
            "|    1   N/A  N/A     18872    C+G   ...n1h2txyewy\\SearchHost.exe    N/A      |\n",
            "|    1   N/A  N/A     20616    C+G   ...icrosoft VS Code\\Code.exe    N/A      |\n",
            "+-----------------------------------------------------------------------------+\n"
          ]
        }
      ],
      "source": [
        "!nvidia-smi"
      ]
    },
    {
      "cell_type": "markdown",
      "metadata": {
        "id": "Da9sDpM-DXps"
      },
      "source": [
        "## 2. Install dependencies and clone the instant-ngp repo"
      ]
    },
    {
      "cell_type": "code",
      "execution_count": 2,
      "metadata": {
        "colab": {
          "base_uri": "https://localhost:8080/"
        },
        "id": "yKFsL8wSdQ8Q",
        "outputId": "0e16885c-9282-4c82-912c-465ec6dde54c"
      },
      "outputs": [
        {
          "name": "stderr",
          "output_type": "stream",
          "text": [
            "'apt' is not recognized as an internal or external command,\n",
            "operable program or batch file.\n"
          ]
        },
        {
          "name": "stdout",
          "output_type": "stream",
          "text": [
            "Requirement already satisfied: cmake in e:\\miniconda3\\envs\\ai\\lib\\site-packages (3.25.2)\n"
          ]
        }
      ],
      "source": [
        "!apt update && apt install build-essential git python3-dev python3-pip libopenexr-dev libxi-dev libglfw3-dev libglew-dev libomp-dev libxinerama-dev libxcursor-dev colmap ffmpeg jq\n",
        "!pip install --upgrade cmake"
      ]
    },
    {
      "cell_type": "code",
      "execution_count": 3,
      "metadata": {
        "colab": {
          "base_uri": "https://localhost:8080/"
        },
        "id": "ijgdl-TUcxnd",
        "outputId": "e413476f-5043-4723-8339-bf22988410cd"
      },
      "outputs": [
        {
          "name": "stdout",
          "output_type": "stream",
          "text": [
            "Submodule path 'dependencies/OpenXR-SDK': checked out 'e2da9ce83a4388c9622da328bf48548471261290'\n",
            "Submodule path 'dependencies/args': checked out 'a48e1f880813b367d2354963a58dedbf2b708584'\n",
            "Submodule path 'dependencies/dlss': checked out 'b3559040f968d26b2edbe37e8e3ceda4b8d1275a'\n",
            "Submodule path 'dependencies/dlss/NVIDIAImageScaling': checked out '4d3f6f1b421dda208b937f2ac78657c6753efccd'\n",
            "Submodule path 'dependencies/glfw': checked out '71eb7036b47e2733c2f7b4c0010e2ce62557009d'\n",
            "Submodule path 'dependencies/glm': checked out 'efec5db081e3aad807d0731e172ac597f6a39447'\n",
            "Submodule path 'dependencies/imgui': checked out 'fa2b318dd6190852a6fe7ebc952b6551e93899e0'\n",
            "Submodule path 'dependencies/pybind11': checked out '7a5068336979377fbf4aa66bbaa483c4cb1c76a7'\n",
            "Submodule path 'dependencies/tiny-cuda-nn': checked out '44f10182520fed8cd744113948045ee7ab1bacb5'\n",
            "Submodule path 'dependencies/tiny-cuda-nn/dependencies/cutlass': checked out '1eb6355182a5124639ce9d3ff165732a94ed9a70'\n",
            "Submodule path 'dependencies/tiny-cuda-nn/dependencies/fmt': checked out 'b0c8263cb26ea178d3a5df1b984e1a61ef578950'\n",
            "Submodule path 'dependencies/tinylogger': checked out 'aea07e21a3c0f0590513dd23f2ea7b2271312dfc'\n",
            "Submodule path 'dependencies/zlib': checked out 'fafd714d8b3ce85a6decf566e3b5b611352eadea'\n",
            "Submodule path 'dependencies/zstr': checked out '007f97607865934fb52e08248f152712e428688a'\n",
            "e:\\Github\\band-gap\\instant-ngp\n"
          ]
        },
        {
          "name": "stderr",
          "output_type": "stream",
          "text": [
            "Cloning into 'instant-ngp'...\n",
            "Submodule 'dependencies/OpenXR-SDK' (https://github.com/KhronosGroup/OpenXR-SDK.git) registered for path 'dependencies/OpenXR-SDK'\n",
            "Submodule 'dependencies/args' (https://github.com/Taywee/args) registered for path 'dependencies/args'\n",
            "Submodule 'dependencies/dlss' (https://github.com/NVIDIA/DLSS) registered for path 'dependencies/dlss'\n",
            "Submodule 'dependencies/glfw' (https://github.com/Tom94/glfw) registered for path 'dependencies/glfw'\n",
            "Submodule 'dependencies/glm' (https://github.com/g-truc/glm) registered for path 'dependencies/glm'\n",
            "Submodule 'dependencies/imgui' (https://github.com/ocornut/imgui.git) registered for path 'dependencies/imgui'\n",
            "Submodule 'dependencies/pybind11' (https://github.com/Tom94/pybind11) registered for path 'dependencies/pybind11'\n",
            "Submodule 'dependencies/tiny-cuda-nn' (https://github.com/NVlabs/tiny-cuda-nn) registered for path 'dependencies/tiny-cuda-nn'\n",
            "Submodule 'dependencies/tinylogger' (https://github.com/Tom94/tinylogger) registered for path 'dependencies/tinylogger'\n",
            "Submodule 'dependencies/zlib' (https://github.com/Tom94/zlib) registered for path 'dependencies/zlib'\n",
            "Submodule 'dependencies/zstr' (https://github.com/Tom94/zstr) registered for path 'dependencies/zstr'\n",
            "Cloning into 'E:/Github/band-gap/instant-ngp/dependencies/OpenXR-SDK'...\n",
            "Cloning into 'E:/Github/band-gap/instant-ngp/dependencies/args'...\n",
            "Cloning into 'E:/Github/band-gap/instant-ngp/dependencies/dlss'...\n",
            "Cloning into 'E:/Github/band-gap/instant-ngp/dependencies/glfw'...\n",
            "Cloning into 'E:/Github/band-gap/instant-ngp/dependencies/glm'...\n",
            "Cloning into 'E:/Github/band-gap/instant-ngp/dependencies/imgui'...\n",
            "Cloning into 'E:/Github/band-gap/instant-ngp/dependencies/pybind11'...\n",
            "Cloning into 'E:/Github/band-gap/instant-ngp/dependencies/tiny-cuda-nn'...\n",
            "Cloning into 'E:/Github/band-gap/instant-ngp/dependencies/tinylogger'...\n",
            "Cloning into 'E:/Github/band-gap/instant-ngp/dependencies/zlib'...\n",
            "Cloning into 'E:/Github/band-gap/instant-ngp/dependencies/zstr'...\n",
            "Submodule 'NVIDIAImageScaling' (https://github.com/NVIDIAGameWorks/NVIDIAImageScaling) registered for path 'dependencies/dlss/NVIDIAImageScaling'\n",
            "Cloning into 'E:/Github/band-gap/instant-ngp/dependencies/dlss/NVIDIAImageScaling'...\n",
            "Submodule 'dependencies/cutlass' (https://github.com/NVIDIA/cutlass) registered for path 'dependencies/tiny-cuda-nn/dependencies/cutlass'\n",
            "Submodule 'dependencies/fmt' (https://github.com/fmtlib/fmt) registered for path 'dependencies/tiny-cuda-nn/dependencies/fmt'\n",
            "Cloning into 'E:/Github/band-gap/instant-ngp/dependencies/tiny-cuda-nn/dependencies/cutlass'...\n",
            "Cloning into 'E:/Github/band-gap/instant-ngp/dependencies/tiny-cuda-nn/dependencies/fmt'...\n"
          ]
        }
      ],
      "source": [
        "!git clone --recursive https://github.com/nvlabs/instant-ngp\n",
        "%cd instant-ngp"
      ]
    },
    {
      "cell_type": "markdown",
      "metadata": {
        "id": "SF4CRM2-rqn1"
      },
      "source": [
        "## 3. Set compute capability\n",
        "Find the compute capability of the GPU in your **local** machine in the following link:\n",
        "https://developer.nvidia.com/cuda-gpus\n",
        "\n",
        "You need this to be able to open your trained models in `testbed` inside your local machine later on, so you can explore them or trace a camera path in order to generate a video from your scene."
      ]
    },
    {
      "cell_type": "code",
      "execution_count": 4,
      "metadata": {
        "colab": {
          "base_uri": "https://localhost:8080/"
        },
        "id": "Yf9H-wO0o1Ax",
        "outputId": "e6332360-f07d-487b-abda-9ce76ed379fc"
      },
      "outputs": [
        {
          "name": "stdout",
          "output_type": "stream",
          "text": [
            "env: TCNN_CUDA_ARCHITECTURES=61\n"
          ]
        }
      ],
      "source": [
        "compute_capability = \"61\" #@param [50, 52, 60, 61, 70, 72, 75, 80, 86, 87]\n",
        "%env TCNN_CUDA_ARCHITECTURES=$compute_capability\n"
      ]
    },
    {
      "cell_type": "markdown",
      "metadata": {
        "id": "X6PLafxjtoc1"
      },
      "source": [
        "## 4. Set the right network configuration\n",
        "For compatibility between the model trained here and the local machine, a network with FP32 or FP16 is chosen.\n",
        "\n",
        "https://docs.nvidia.com/deeplearning/tensorrt/support-matrix/index.html#hardware-precision-matrix "
      ]
    },
    {
      "cell_type": "code",
      "execution_count": 5,
      "metadata": {
        "colab": {
          "base_uri": "https://localhost:8080/"
        },
        "id": "KFZAbFtUqQkc",
        "outputId": "92cd4308-62ef-465f-d996-1ed301f1c4f4"
      },
      "outputs": [
        {
          "name": "stdout",
          "output_type": "stream",
          "text": [
            "Using CutlassMLP\n",
            "env: NN_CONFIG_PATH=./configs/nerf/base.json\n"
          ]
        },
        {
          "name": "stderr",
          "output_type": "stream",
          "text": [
            "'jq' is not recognized as an internal or external command,\n",
            "operable program or batch file.\n"
          ]
        }
      ],
      "source": [
        "network_type = \"FullyFusedMLP\" if int(compute_capability) >= 70 else \"CutlassMLP\"\n",
        "print(f\"Using {network_type}\")\n",
        "%env NN_CONFIG_PATH = ./configs/nerf/base.json\n",
        "!jq '.network.otype = \"CutlassMLP\" | .rgb_network.otype = \"CutlassMLP\"' $NN_CONFIG_PATH | sponge $NN_CONFIG_PATH"
      ]
    },
    {
      "cell_type": "markdown",
      "metadata": {
        "id": "P9XhY2souWum"
      },
      "source": [
        "## 5. Build the project and install python requirements"
      ]
    },
    {
      "cell_type": "code",
      "execution_count": 6,
      "metadata": {
        "colab": {
          "base_uri": "https://localhost:8080/"
        },
        "id": "B7E55zXYc1gD",
        "outputId": "904f6f13-36d9-47fa-c9c3-5475a62d67da"
      },
      "outputs": [
        {
          "name": "stdout",
          "output_type": "stream",
          "text": [
            "-- Building for: NMake Makefiles\n",
            "-- Configuring incomplete, errors occurred!\n",
            "See also \"E:/Github/band-gap/instant-ngp/build/CMakeFiles/CMakeOutput.log\".\n"
          ]
        },
        {
          "name": "stderr",
          "output_type": "stream",
          "text": [
            "CMake Error at CMakeLists.txt:11 (project):\n",
            "  Running\n",
            "\n",
            "   'nmake' '-?'\n",
            "\n",
            "  failed with:\n",
            "\n",
            "   The system cannot find the file specified\n",
            "\n",
            "\n",
            "CMake Error: CMAKE_C_COMPILER not set, after EnableLanguage\n",
            "CMake Error: CMAKE_CXX_COMPILER not set, after EnableLanguage\n",
            "CMake Error: CMAKE_CUDA_COMPILER not set, after EnableLanguage\n"
          ]
        }
      ],
      "source": [
        "!cmake . -B build -DNGP_BUILD_WITH_GUI=OFF"
      ]
    },
    {
      "cell_type": "code",
      "execution_count": 7,
      "metadata": {
        "colab": {
          "base_uri": "https://localhost:8080/"
        },
        "id": "cpuhlQmJcDPJ",
        "outputId": "9e8d56a9-e9aa-4db1-c73d-0b213ee0a6be"
      },
      "outputs": [
        {
          "name": "stderr",
          "output_type": "stream",
          "text": [
            "'-j' invalid number '`nproc`' given.\n",
            "\n",
            "Usage: cmake --build <dir>             [options] [-- [native-options]]\n",
            "       cmake --build --preset <preset> [options] [-- [native-options]]\n",
            "Options:\n",
            "  <dir>          = Project binary directory to be built.\n",
            "  --preset <preset>, --preset=<preset>\n",
            "                 = Specify a build preset.\n",
            "  --list-presets[=<type>]\n",
            "                 = List available build presets.\n",
            "  --parallel [<jobs>], -j [<jobs>]\n",
            "                 = Build in parallel using the given number of jobs. \n",
            "                   If <jobs> is omitted the native build tool's \n",
            "                   default number is used.\n",
            "                   The CMAKE_BUILD_PARALLEL_LEVEL environment variable\n",
            "                   specifies a default parallel level when this option\n",
            "                   is not given.\n",
            "  -t <tgt>..., --target <tgt>...\n",
            "                 = Build <tgt> instead of default targets.\n",
            "  --config <cfg> = For multi-configuration tools, choose <cfg>.\n",
            "  --clean-first  = Build target 'clean' first, then build.\n",
            "                   (To clean only, use --target 'clean'.)\n",
            "  --resolve-package-references={on|only|off}\n",
            "                 = Restore/resolve package references during build.\n",
            "  -v, --verbose  = Enable verbose output - if supported - including\n",
            "                   the build commands to be executed. \n",
            "  --             = Pass remaining options to the native tool.\n"
          ]
        }
      ],
      "source": [
        "!cmake --build build --config RelWithDebInfo -j `nproc`"
      ]
    },
    {
      "cell_type": "code",
      "execution_count": 8,
      "metadata": {
        "colab": {
          "base_uri": "https://localhost:8080/",
          "height": 1000
        },
        "id": "TRfrshaCdpY8",
        "outputId": "3e90ae80-0d15-490a-d17d-caa4d808af5a"
      },
      "outputs": [
        {
          "name": "stdout",
          "output_type": "stream",
          "text": [
            "Collecting commentjson\n",
            "  Downloading commentjson-0.9.0.tar.gz (8.7 kB)\n",
            "  Preparing metadata (setup.py): started\n",
            "  Preparing metadata (setup.py): finished with status 'done'\n",
            "Collecting imageio\n",
            "  Using cached imageio-2.26.0-py3-none-any.whl (3.4 MB)\n",
            "Requirement already satisfied: numpy in e:\\miniconda3\\envs\\ai\\lib\\site-packages (from -r requirements.txt (line 3)) (1.24.2)\n",
            "Collecting opencv-python-headless\n",
            "  Downloading opencv_python_headless-4.7.0.72-cp37-abi3-win_amd64.whl (38.1 MB)\n",
            "     ---------------------------------------- 38.1/38.1 MB 2.5 MB/s eta 0:00:00\n",
            "Collecting pybind11\n",
            "  Downloading pybind11-2.10.3-py3-none-any.whl (222 kB)\n",
            "     -------------------------------------- 222.4/222.4 kB 4.5 MB/s eta 0:00:00\n",
            "Collecting pyquaternion\n",
            "  Downloading pyquaternion-0.9.9-py3-none-any.whl (14 kB)\n",
            "Requirement already satisfied: scipy in e:\\miniconda3\\envs\\ai\\lib\\site-packages (from -r requirements.txt (line 7)) (1.10.1)\n",
            "Requirement already satisfied: tqdm in e:\\miniconda3\\envs\\ai\\lib\\site-packages (from -r requirements.txt (line 8)) (4.64.1)\n",
            "Collecting lark-parser<0.8.0,>=0.7.1\n",
            "  Downloading lark-parser-0.7.8.tar.gz (276 kB)\n",
            "     -------------------------------------- 276.2/276.2 kB 4.2 MB/s eta 0:00:00\n",
            "  Preparing metadata (setup.py): started\n",
            "  Preparing metadata (setup.py): finished with status 'done'\n",
            "Requirement already satisfied: pillow>=8.3.2 in e:\\miniconda3\\envs\\ai\\lib\\site-packages (from imageio->-r requirements.txt (line 2)) (9.4.0)\n",
            "Requirement already satisfied: colorama in e:\\miniconda3\\envs\\ai\\lib\\site-packages (from tqdm->-r requirements.txt (line 8)) (0.4.6)\n",
            "Building wheels for collected packages: commentjson, lark-parser\n",
            "  Building wheel for commentjson (setup.py): started\n",
            "  Building wheel for commentjson (setup.py): finished with status 'done'\n",
            "  Created wheel for commentjson: filename=commentjson-0.9.0-py3-none-any.whl size=12076 sha256=9a62b22ea93b8e07dc599ac64e4f6a00297bc36129168c3f99e1cbacfa44e887\n",
            "  Stored in directory: c:\\users\\franz\\appdata\\local\\pip\\cache\\wheels\\87\\fe\\07\\21f1a70e1404957105ec892ee37494e251c12441f1d2f6d7cf\n",
            "  Building wheel for lark-parser (setup.py): started\n",
            "  Building wheel for lark-parser (setup.py): finished with status 'done'\n",
            "  Created wheel for lark-parser: filename=lark_parser-0.7.8-py2.py3-none-any.whl size=62510 sha256=305e9b5f4dd56edc1d993d808454754ba96d8576c115f7eb797e8a80d1428bc1\n",
            "  Stored in directory: c:\\users\\franz\\appdata\\local\\pip\\cache\\wheels\\dc\\36\\5c\\8f16fd18792da023a19fc0ca2a1bc0cf4b35f62400d1b7c2cf\n",
            "Successfully built commentjson lark-parser\n",
            "Installing collected packages: lark-parser, pyquaternion, pybind11, opencv-python-headless, imageio, commentjson\n",
            "Successfully installed commentjson-0.9.0 imageio-2.26.0 lark-parser-0.7.8 opencv-python-headless-4.7.0.72 pybind11-2.10.3 pyquaternion-0.9.9\n"
          ]
        }
      ],
      "source": [
        "!pip3 install -r requirements.txt"
      ]
    },
    {
      "cell_type": "markdown",
      "metadata": {
        "id": "cHLYSiD05EnL"
      },
      "source": [
        "## 6. [LOCAL MACHINE] Run COLMAP on your scene\n",
        "COLMAP doesn't work on machines without a GUI.\n",
        "\n",
        "Go to your local machine and follow the [instructions](https://github.com/NVlabs/instant-ngp/blob/master/docs/nerf_dataset_tips.md#preparing-new-nerf-datasets) to run COLMAP from a video or a set of images to generate camera positions from your scene.\n",
        "\n",
        "After this, you should have an images folder, with the images of your scene, and a `transforms.json` file with the camera information extracted by COLMAP."
      ]
    },
    {
      "cell_type": "markdown",
      "metadata": {
        "id": "ZQP4PAyru3KA"
      },
      "source": [
        "## 7. Upload your scene"
      ]
    },
    {
      "cell_type": "markdown",
      "metadata": {
        "id": "h3Tl_nNpzfPR"
      },
      "source": [
        "Mount your google drive"
      ]
    },
    {
      "cell_type": "code",
      "execution_count": 9,
      "metadata": {
        "id": "a-CfnpVUze1G"
      },
      "outputs": [
        {
          "ename": "ModuleNotFoundError",
          "evalue": "No module named 'google.colab'",
          "output_type": "error",
          "traceback": [
            "\u001b[1;31m---------------------------------------------------------------------------\u001b[0m",
            "\u001b[1;31mModuleNotFoundError\u001b[0m                       Traceback (most recent call last)",
            "Cell \u001b[1;32mIn[9], line 1\u001b[0m\n\u001b[1;32m----> 1\u001b[0m \u001b[39mfrom\u001b[39;00m \u001b[39mgoogle\u001b[39;00m\u001b[39m.\u001b[39;00m\u001b[39mcolab\u001b[39;00m \u001b[39mimport\u001b[39;00m drive\n\u001b[0;32m      2\u001b[0m drive\u001b[39m.\u001b[39mmount(\u001b[39m'\u001b[39m\u001b[39m/content/drive\u001b[39m\u001b[39m'\u001b[39m)\n",
            "\u001b[1;31mModuleNotFoundError\u001b[0m: No module named 'google.colab'"
          ]
        }
      ],
      "source": [
        "from google.colab import drive\n",
        "drive.mount('/content/drive')"
      ]
    },
    {
      "cell_type": "markdown",
      "metadata": {
        "id": "WOx86Jz5xOQP"
      },
      "source": [
        "Then upload the `images` folder and the output of COLMAP, `transforms.json`, to your drive. The structure should be similar to the following:\n",
        "```\n",
        "/content/drive/MyDrive/nerf_scenes/\n",
        "└── fox\n",
        "    ├── images\n",
        "    │   ├── 00001.jpg\n",
        "    │   └── 00002.jpg\n",
        "    └── transforms.json\n",
        "```\n",
        "\n"
      ]
    },
    {
      "cell_type": "markdown",
      "metadata": {
        "id": "iNhWLCgH20-g"
      },
      "source": [
        "Enter the path to your scene"
      ]
    },
    {
      "cell_type": "code",
      "execution_count": 12,
      "metadata": {
        "id": "ayZ2gWkTz3sU"
      },
      "outputs": [],
      "source": [
        "import os\n",
        "scene_path = r\"data\\nerf\\fox\" #@param {type:\"string\"}\n",
        "if not os.path.isdir(scene_path):\n",
        "  raise NotADirectoryError(scene_path)"
      ]
    },
    {
      "cell_type": "markdown",
      "metadata": {
        "id": "YPr9nJ-w2_0J"
      },
      "source": [
        "## 8. Train a model on your scene!"
      ]
    },
    {
      "cell_type": "code",
      "execution_count": 13,
      "metadata": {
        "colab": {
          "base_uri": "https://localhost:8080/"
        },
        "id": "aijHZB0zJwWB",
        "outputId": "b947a4a1-e158-47a5-a4b9-a2e7d4db9290"
      },
      "outputs": [
        {
          "name": "stderr",
          "output_type": "stream",
          "text": [
            "Traceback (most recent call last):\n",
            "  File \"e:\\Github\\band-gap\\instant-ngp\\scripts\\run.py\", line 25, in <module>\n",
            "    import pyngp as ngp # noqa\n",
            "ModuleNotFoundError: No module named 'pyngp'\n"
          ]
        }
      ],
      "source": [
        "train_steps = 2000  #@param {type:\"integer\"}\n",
        "snapshot_path = os.path.join(scene_path, f\"{train_steps}.ingp\")\n",
        "!python ./scripts/run.py {scene_path} --n_steps {train_steps} --save_snapshot {snapshot_path}"
      ]
    },
    {
      "attachments": {},
      "cell_type": "markdown",
      "metadata": {
        "id": "RWuAHgOw8M4s"
      },
      "source": [
        "## 9. [LOCAL MACHINE] Generate a camera path\n",
        "\n",
        "Congrats! You now have a trained nerf checkpoint. Now, in order to generate a video with it, you will need to open it in your local machine with `testbed` and generate a `base_cam.jon` file following these [instructions](https://github.com/NVlabs/instant-ngp#testbed-controls). Remember to launch with the `--no-train` argument so that it doesn't start to train on your PC. Setting up the cameras can make your GUI pretty laggy, you can try to play with the `--height` and `--width` parameters or cropping your scene with the `Crop aabb` options to optimize the performance.\n",
        "\n",
        "Example command:\n",
        "```\n",
        "./build/instant-ngp /data/nerf/fox/2000.ingp\n",
        "```\n",
        "\n",
        "After you're done, **upload `base_cam.json` to the root folder of your scene.**"
      ]
    },
    {
      "cell_type": "markdown",
      "metadata": {
        "id": "L5XVO_oi-riY"
      },
      "source": [
        "## 10. Render video"
      ]
    },
    {
      "cell_type": "markdown",
      "metadata": {
        "id": "x_2t4NHHAvn5"
      },
      "source": [
        "Make sure `base_cam.json` exists:"
      ]
    },
    {
      "cell_type": "code",
      "execution_count": null,
      "metadata": {
        "id": "04Yt6prm_FJI"
      },
      "outputs": [],
      "source": [
        "video_camera_path = os.path.join(scene_path, \"base_cam.json\")\n",
        "if not os.path.isfile(video_camera_path):\n",
        "  raise FileNotFoundError(video_camera_path)"
      ]
    },
    {
      "cell_type": "markdown",
      "metadata": {
        "id": "xdFuUotyA0HV"
      },
      "source": [
        "Render the video"
      ]
    },
    {
      "cell_type": "code",
      "execution_count": null,
      "metadata": {
        "colab": {
          "base_uri": "https://localhost:8080/"
        },
        "id": "d3XJeTeF1yJE",
        "outputId": "e493bdd8-903e-4c8e-ab01-8c8baed8b5dc"
      },
      "outputs": [
        {
          "name": "stdout",
          "output_type": "stream",
          "text": [
            "\u001b[0m22:32:31 \u001b[0;36mINFO     \u001b[0mLoading NeRF dataset from\u001b[K\u001b[0m\n",
            "22:32:31 \u001b[0;36mINFO     \u001b[0m  /content/drive/MyDrive/nerf_scenes/fox/transforms.json\u001b[K\u001b[0m\n",
            "22:32:31 \u001b[1;33mWARNING  \u001b[0m  /content/drive/MyDrive/nerf_scenes/fox/base_cam.json does not contain any frames. Skipping.\u001b[K\u001b[0m\n",
            "22:32:31 \u001b[0;34mPROGRESS \u001b[0m[]   0% ( 0/50)  0s/inf\u001b[K\u001b[0m\u001b[0G22:32:31 \u001b[0;34mPROGRESS \u001b[0m[]   2% ( 1/50) 0s/1s\u001b[K\u001b[0m\u001b[0G22:32:31 \u001b[0;34mPROGRESS \u001b[0m[]   4% ( 2/50) 0s/0s\u001b[K\u001b[0m\u001b[0G22:32:31 \u001b[0;34mPROGRESS \u001b[0m[]   6% ( 3/50) 0s/0s\u001b[K\u001b[0m\u001b[0G22:32:31 \u001b[0;34mPROGRESS \u001b[0m[]   8% ( 4/50) 0s/0s\u001b[K\u001b[0m\u001b[0G22:32:31 \u001b[0;34mPROGRESS \u001b[0m[]  10% ( 5/50) 0s/0s\u001b[K\u001b[0m\u001b[0G22:32:31 \u001b[0;34mPROGRESS \u001b[0m[]  12% ( 6/50) 0s/0s\u001b[K\u001b[0m\u001b[0G22:32:31 \u001b[0;34mPROGRESS \u001b[0m[]  14% ( 7/50) 0s/0s\u001b[K\u001b[0m\u001b[0G22:32:31 \u001b[0;34mPROGRESS \u001b[0m[]  16% ( 8/50) 0s/0s\u001b[K\u001b[0m\u001b[0G22:32:31 \u001b[0;34mPROGRESS \u001b[0m[]  18% ( 9/50) 0s/0s\u001b[K\u001b[0m\u001b[0G22:32:31 \u001b[0;34mPROGRESS \u001b[0m[]  20% (10/50) 0s/0s\u001b[K\u001b[0m\u001b[0G22:32:31 \u001b[0;34mPROGRESS \u001b[0m[]  22% (11/50) 0s/0s\u001b[K\u001b[0m\u001b[0G22:32:31 \u001b[0;34mPROGRESS \u001b[0m[]  24% (12/50) 0s/0s\u001b[K\u001b[0m\u001b[0G22:32:31 \u001b[0;34mPROGRESS \u001b[0m[]  26% (13/50) 0s/0s\u001b[K\u001b[0m\u001b[0G22:32:31 \u001b[0;34mPROGRESS \u001b[0m[]  28% (14/50) 0s/0s\u001b[K\u001b[0m\u001b[0G22:32:31 \u001b[0;34mPROGRESS \u001b[0m[]  30% (15/50) 0s/0s\u001b[K\u001b[0m\u001b[0G22:32:31 \u001b[0;34mPROGRESS \u001b[0m[]  32% (16/50) 0s/0s\u001b[K\u001b[0m\u001b[0G22:32:31 \u001b[0;34mPROGRESS \u001b[0m[]  34% (17/50) 0s/0s\u001b[K\u001b[0m\u001b[0G22:32:31 \u001b[0;34mPROGRESS \u001b[0m[]  36% (18/50) 0s/0s\u001b[K\u001b[0m\u001b[0G22:32:31 \u001b[0;34mPROGRESS \u001b[0m[]  38% (19/50) 0s/0s\u001b[K\u001b[0m\u001b[0G22:32:31 \u001b[0;34mPROGRESS \u001b[0m[]  40% (20/50) 0s/0s\u001b[K\u001b[0m\u001b[0G22:32:31 \u001b[0;34mPROGRESS \u001b[0m[]  42% (21/50) 0s/0s\u001b[K\u001b[0m\u001b[0G22:32:31 \u001b[0;34mPROGRESS \u001b[0m[]  44% (22/50) 0s/0s\u001b[K\u001b[0m\u001b[0G22:32:31 \u001b[0;34mPROGRESS \u001b[0m[]  46% (23/50) 0s/0s\u001b[K\u001b[0m\u001b[0G22:32:31 \u001b[0;34mPROGRESS \u001b[0m[]  48% (24/50) 0s/0s\u001b[K\u001b[0m\u001b[0G22:32:31 \u001b[0;34mPROGRESS \u001b[0m[]  50% (25/50) 0s/0s\u001b[K\u001b[0m\u001b[0G22:32:31 \u001b[0;34mPROGRESS \u001b[0m[]  52% (26/50) 0s/0s\u001b[K\u001b[0m\u001b[0G22:32:31 \u001b[0;34mPROGRESS \u001b[0m[]  54% (27/50) 0s/0s\u001b[K\u001b[0m\u001b[0G22:32:31 \u001b[0;34mPROGRESS \u001b[0m[]  56% (28/50) 0s/0s\u001b[K\u001b[0m\u001b[0G22:32:31 \u001b[0;34mPROGRESS \u001b[0m[]  58% (29/50) 0s/0s\u001b[K\u001b[0m\u001b[0G22:32:31 \u001b[0;34mPROGRESS \u001b[0m[]  60% (30/50) 0s/0s\u001b[K\u001b[0m\u001b[0G22:32:31 \u001b[0;34mPROGRESS \u001b[0m[]  62% (31/50) 0s/0s\u001b[K\u001b[0m\u001b[0G22:32:31 \u001b[0;34mPROGRESS \u001b[0m[]  64% (32/50) 0s/0s\u001b[K\u001b[0m\u001b[0G22:32:31 \u001b[0;34mPROGRESS \u001b[0m[]  66% (33/50) 0s/0s\u001b[K\u001b[0m\u001b[0G22:32:31 \u001b[0;34mPROGRESS \u001b[0m[]  68% (34/50) 0s/0s\u001b[K\u001b[0m\u001b[0G22:32:31 \u001b[0;34mPROGRESS \u001b[0m[]  70% (35/50) 0s/0s\u001b[K\u001b[0m\u001b[0G22:32:31 \u001b[0;34mPROGRESS \u001b[0m[]  72% (36/50) 0s/0s\u001b[K\u001b[0m\u001b[0G22:32:31 \u001b[0;34mPROGRESS \u001b[0m[]  74% (37/50) 0s/0s\u001b[K\u001b[0m\u001b[0G22:32:31 \u001b[0;34mPROGRESS \u001b[0m[]  76% (38/50) 0s/0s\u001b[K\u001b[0m\u001b[0G22:32:31 \u001b[0;34mPROGRESS \u001b[0m[]  78% (39/50) 0s/0s\u001b[K\u001b[0m\u001b[0G22:32:31 \u001b[0;34mPROGRESS \u001b[0m[]  80% (40/50) 0s/0s\u001b[K\u001b[0m\u001b[0G22:32:31 \u001b[0;34mPROGRESS \u001b[0m[]  82% (41/50) 0s/0s\u001b[K\u001b[0m\u001b[0G22:32:31 \u001b[0;34mPROGRESS \u001b[0m[]  84% (42/50) 0s/0s\u001b[K\u001b[0m\u001b[0G22:32:31 \u001b[0;34mPROGRESS \u001b[0m[]  86% (43/50) 0s/0s\u001b[K\u001b[0m\u001b[0G22:32:31 \u001b[0;34mPROGRESS \u001b[0m[]  88% (44/50) 0s/0s\u001b[K\u001b[0m\u001b[0G22:32:31 \u001b[0;34mPROGRESS \u001b[0m[]  90% (45/50) 0s/0s\u001b[K\u001b[0m\u001b[0G22:32:31 \u001b[0;34mPROGRESS \u001b[0m[]  92% (46/50) 0s/0s\u001b[K\u001b[0m\u001b[0G22:32:31 \u001b[0;34mPROGRESS \u001b[0m[]  94% (47/50) 0s/0s\u001b[K\u001b[0m\u001b[0G22:32:31 \u001b[0;34mPROGRESS \u001b[0m[]  96% (48/50) 0s/0s\u001b[K\u001b[0m\u001b[0G22:32:32 \u001b[0;34mPROGRESS \u001b[0m[]  98% (49/50) 0s/0s\u001b[K\u001b[0m\u001b[0G22:32:32 \u001b[0;34mPROGRESS \u001b[0m[] 100% (50/50) 0s/0s\u001b[K\u001b[0m\u001b[0G22:32:32 \u001b[0;32mSUCCESS  \u001b[0mLoaded 50 images after 0s\u001b[K\u001b[0m\n",
            "22:32:32 \u001b[0;36mINFO     \u001b[0m  cam_aabb=[min=[1.0229,-1.33309,-0.378748], max=[2.46175,1.00721,1.41295]]\u001b[K\u001b[0m\n",
            "Loading snapshot  /content/drive/MyDrive/nerf_scenes/fox/2000.msgpack\n",
            "22:32:32 \u001b[0;36mINFO     \u001b[0mLoading network config from: /content/drive/MyDrive/nerf_scenes/fox/2000.msgpack\u001b[K\u001b[0m\n",
            "22:32:33 \u001b[0;36mINFO     \u001b[0mGridEncoding:  Nmin=16 b=1.51572 F=2 T=2^19 L=16\u001b[K\u001b[0m\n",
            "22:32:33 \u001b[0;36mINFO     \u001b[0mDensity model: 3--[HashGrid]-->32--[CutlassMLP(neurons=64,layers=3)]-->1\u001b[K\u001b[0m\n",
            "22:32:33 \u001b[0;36mINFO     \u001b[0mColor model:   3--[Composite]-->16+16--[CutlassMLP(neurons=64,layers=4)]-->3\u001b[K\u001b[0m\n",
            "22:32:33 \u001b[0;36mINFO     \u001b[0m  total_encoding_params=13074912 total_network_params=9728\u001b[K\u001b[0m\n",
            "Rendering video: 100% 50/50 [06:45<00:00,  8.11s/frames]\n",
            "ffmpeg version 3.4.11-0ubuntu0.1 Copyright (c) 2000-2022 the FFmpeg developers\n",
            "  built with gcc 7 (Ubuntu 7.5.0-3ubuntu1~18.04)\n",
            "  configuration: --prefix=/usr --extra-version=0ubuntu0.1 --toolchain=hardened --libdir=/usr/lib/x86_64-linux-gnu --incdir=/usr/include/x86_64-linux-gnu --enable-gpl --disable-stripping --enable-avresample --enable-avisynth --enable-gnutls --enable-ladspa --enable-libass --enable-libbluray --enable-libbs2b --enable-libcaca --enable-libcdio --enable-libflite --enable-libfontconfig --enable-libfreetype --enable-libfribidi --enable-libgme --enable-libgsm --enable-libmp3lame --enable-libmysofa --enable-libopenjpeg --enable-libopenmpt --enable-libopus --enable-libpulse --enable-librubberband --enable-librsvg --enable-libshine --enable-libsnappy --enable-libsoxr --enable-libspeex --enable-libssh --enable-libtheora --enable-libtwolame --enable-libvorbis --enable-libvpx --enable-libwavpack --enable-libwebp --enable-libx265 --enable-libxml2 --enable-libxvid --enable-libzmq --enable-libzvbi --enable-omx --enable-openal --enable-opengl --enable-sdl2 --enable-libdc1394 --enable-libdrm --enable-libiec61883 --enable-chromaprint --enable-frei0r --enable-libopencv --enable-libx264 --enable-shared\n",
            "  libavutil      55. 78.100 / 55. 78.100\n",
            "  libavcodec     57.107.100 / 57.107.100\n",
            "  libavformat    57. 83.100 / 57. 83.100\n",
            "  libavdevice    57. 10.100 / 57. 10.100\n",
            "  libavfilter     6.107.100 /  6.107.100\n",
            "  libavresample   3.  7.  0 /  3.  7.  0\n",
            "  libswscale      4.  8.100 /  4.  8.100\n",
            "  libswresample   2.  9.100 /  2.  9.100\n",
            "  libpostproc    54.  7.100 / 54.  7.100\n",
            "Input #0, image2, from 'tmp/%04d.jpg':\n",
            "  Duration: 00:00:02.00, start: 0.000000, bitrate: N/A\n",
            "    Stream #0:0: Video: mjpeg, yuvj444p(pc, bt470bg/unknown/unknown), 720x720 [SAR 1:1 DAR 1:1], 25 fps, 25 tbr, 25 tbn, 25 tbc\n",
            "Stream mapping:\n",
            "  Stream #0:0 -> #0:0 (mjpeg (native) -> h264 (libx264))\n",
            "Press [q] to stop, [?] for help\n",
            "\u001b[1;34m[swscaler @ 0x56187f4ae000] \u001b[0m\u001b[0;33mdeprecated pixel format used, make sure you did set range correctly\n",
            "\u001b[0m\u001b[1;36m[libx264 @ 0x56187ed35e00] \u001b[0musing SAR=1/1\n",
            "\u001b[1;36m[libx264 @ 0x56187ed35e00] \u001b[0musing cpu capabilities: MMX2 SSE2Fast SSSE3 SSE4.2 AVX FMA3 BMI2 AVX2\n",
            "\u001b[1;36m[libx264 @ 0x56187ed35e00] \u001b[0mprofile High, level 3.1\n",
            "\u001b[1;36m[libx264 @ 0x56187ed35e00] \u001b[0m264 - core 152 r2854 e9a5903 - H.264/MPEG-4 AVC codec - Copyleft 2003-2017 - http://www.videolan.org/x264.html - options: cabac=1 ref=3 deblock=1:0:0 analyse=0x3:0x113 me=hex subme=7 psy=1 psy_rd=1.00:0.00 mixed_ref=1 me_range=16 chroma_me=1 trellis=1 8x8dct=1 cqm=0 deadzone=21,11 fast_pskip=1 chroma_qp_offset=-2 threads=3 lookahead_threads=1 sliced_threads=0 nr=0 decimate=1 interlaced=0 bluray_compat=0 constrained_intra=0 bframes=3 b_pyramid=2 b_adapt=1 b_bias=0 direct=1 weightb=1 open_gop=0 weightp=2 keyint=250 keyint_min=25 scenecut=40 intra_refresh=0 rc_lookahead=40 rc=crf mbtree=1 crf=23.0 qcomp=0.60 qpmin=0 qpmax=69 qpstep=4 ip_ratio=1.40 aq=1:1.00\n",
            "Output #0, mp4, to '/content/drive/MyDrive/nerf_scenes/fox/output_video.mp4':\n",
            "  Metadata:\n",
            "    encoder         : Lavf57.83.100\n",
            "    Stream #0:0: Video: h264 (libx264) (avc1 / 0x31637661), yuv420p, 720x720 [SAR 1:1 DAR 1:1], q=-1--1, 25 fps, 12800 tbn, 25 tbc\n",
            "    Metadata:\n",
            "      encoder         : Lavc57.107.100 libx264\n",
            "    Side data:\n",
            "      cpb: bitrate max/min/avg: 0/0/0 buffer size: 0 vbv_delay: -1\n",
            "frame=   50 fps= 27 q=-1.0 Lsize=     256kB time=00:00:01.88 bitrate=1116.2kbits/s speed=   1x    \n",
            "video:255kB audio:0kB subtitle:0kB other streams:0kB global headers:0kB muxing overhead: 0.550445%\n",
            "\u001b[1;36m[libx264 @ 0x56187ed35e00] \u001b[0mframe I:2     Avg QP:24.03  size: 18560\n",
            "\u001b[1;36m[libx264 @ 0x56187ed35e00] \u001b[0mframe P:13    Avg QP:23.89  size: 11026\n",
            "\u001b[1;36m[libx264 @ 0x56187ed35e00] \u001b[0mframe B:35    Avg QP:26.40  size:  2278\n",
            "\u001b[1;36m[libx264 @ 0x56187ed35e00] \u001b[0mconsecutive B-frames:  6.0%  0.0%  6.0% 88.0%\n",
            "\u001b[1;36m[libx264 @ 0x56187ed35e00] \u001b[0mmb I  I16..4: 12.0% 81.5%  6.5%\n",
            "\u001b[1;36m[libx264 @ 0x56187ed35e00] \u001b[0mmb P  I16..4:  0.7%  7.2%  0.5%  P16..4: 53.7% 21.4%  6.9%  0.0%  0.0%    skip: 9.7%\n",
            "\u001b[1;36m[libx264 @ 0x56187ed35e00] \u001b[0mmb B  I16..4:  0.0%  0.2%  0.0%  B16..8: 44.9%  3.0%  0.4%  direct: 0.9%  skip:50.6%  L0:29.0% L1:66.9% BI: 4.1%\n",
            "\u001b[1;36m[libx264 @ 0x56187ed35e00] \u001b[0m8x8 transform intra:83.0% inter:86.7%\n",
            "\u001b[1;36m[libx264 @ 0x56187ed35e00] \u001b[0mcoded y,uvDC,uvAC intra: 68.5% 71.2% 20.3% inter: 16.5% 12.8% 0.1%\n",
            "\u001b[1;36m[libx264 @ 0x56187ed35e00] \u001b[0mi16 v,h,dc,p: 12%  9%  3% 76%\n",
            "\u001b[1;36m[libx264 @ 0x56187ed35e00] \u001b[0mi8 v,h,dc,ddl,ddr,vr,hd,vl,hu: 21% 14% 13%  7%  9% 10%  8%  9%  9%\n",
            "\u001b[1;36m[libx264 @ 0x56187ed35e00] \u001b[0mi4 v,h,dc,ddl,ddr,vr,hd,vl,hu: 23% 14% 11%  9% 10% 12%  8%  8%  5%\n",
            "\u001b[1;36m[libx264 @ 0x56187ed35e00] \u001b[0mi8c dc,h,v,p: 50% 17% 23% 10%\n",
            "\u001b[1;36m[libx264 @ 0x56187ed35e00] \u001b[0mWeighted P-Frames: Y:23.1% UV:0.0%\n",
            "\u001b[1;36m[libx264 @ 0x56187ed35e00] \u001b[0mref P L0: 44.2% 46.1%  7.7%  1.6%  0.3%\n",
            "\u001b[1;36m[libx264 @ 0x56187ed35e00] \u001b[0mref B L0: 98.2%  1.4%  0.4%\n",
            "\u001b[1;36m[libx264 @ 0x56187ed35e00] \u001b[0mref B L1: 99.6%  0.4%\n",
            "\u001b[1;36m[libx264 @ 0x56187ed35e00] \u001b[0mkb/s:1040.76\n",
            "\u001b[0mGenerated video saved to:\n",
            "/content/drive/MyDrive/nerf_scenes/fox/output_video.mp4\n"
          ]
        }
      ],
      "source": [
        "video_n_seconds = 5 #@param {type:\"integer\"}\n",
        "video_fps = 25 #@param {type:\"integer\"}\n",
        "width = 720 #@param {type:\"integer\"}\n",
        "height = 720 #@param {type:\"integer\"}\n",
        "output_video_path = os.path.join(scene_path, \"output_video.mp4\")\n",
        "\n",
        "!python scripts/run.py {snapshot_path} --video_camera_path {video_camera_path} --video_n_seconds 2 --video_fps 25 --width 720 --height 720 --video_output {output_video_path}\n",
        "print(f\"Generated video saved to:\\n{output_video_path}\")"
      ]
    }
  ],
  "metadata": {
    "accelerator": "GPU",
    "colab": {
      "collapsed_sections": [],
      "name": "instant_ngp.ipynb",
      "provenance": []
    },
    "kernelspec": {
      "display_name": "AI",
      "language": "python",
      "name": "python3"
    },
    "language_info": {
      "codemirror_mode": {
        "name": "ipython",
        "version": 3
      },
      "file_extension": ".py",
      "mimetype": "text/x-python",
      "name": "python",
      "nbconvert_exporter": "python",
      "pygments_lexer": "ipython3",
      "version": "3.10.9"
    },
    "vscode": {
      "interpreter": {
        "hash": "53596613db86253c1e93184c1c3f1083c5b82e8b4983f550555c2699c26fb4c4"
      }
    }
  },
  "nbformat": 4,
  "nbformat_minor": 0
}
