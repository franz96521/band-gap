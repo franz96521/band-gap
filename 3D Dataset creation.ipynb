{
 "cells": [
  {
   "cell_type": "code",
   "execution_count": 1,
   "metadata": {},
   "outputs": [],
   "source": [
    "import numpy as np\n",
    "import matplotlib.pyplot as plt\n",
    "import mogli\n",
    "import os\n",
    "from ipywidgets import IntProgress\n",
    "from IPython.display import display"
   ]
  },
  {
   "cell_type": "code",
   "execution_count": 2,
   "metadata": {},
   "outputs": [],
   "source": [
    "bandgaps = np.loadtxt('Datasets/bandgaps.csv')\n",
    "cods = np.loadtxt('Datasets/CODids.csv', dtype=int)\n",
    "materials = mogli.read('Datasets/structures.xyz')"
   ]
  },
  {
   "cell_type": "code",
   "execution_count": 14,
   "metadata": {},
   "outputs": [
    {
     "data": {
      "application/vnd.jupyter.widget-view+json": {
       "model_id": "fddc5d662a614861a9af327feb596697",
       "version_major": 2,
       "version_minor": 0
      },
      "text/plain": [
       "IntProgress(value=0, bar_style='info', description='Progress: ', layout=Layout(width='100%'), max=12500)"
      ]
     },
     "metadata": {},
     "output_type": "display_data"
    }
   ],
   "source": [
    "bonds_param = 1.5\n",
    "width = 512\n",
    "height = 512\n",
    "\n",
    "path = f'Datasets/3d/{width}x{height}_BP{bonds_param}'\n",
    "print(path)\n",
    "\n",
    "\n",
    "distance = 25\n",
    "\n",
    "if not os.path.exists(path):\n",
    "    os.makedirs(path)    \n",
    "if not os.path.exists(f\"{path}/enfrente\"):\n",
    "    os.makedirs(f\"{path}/enfrente\")\n",
    "if not os.path.exists(f\"{path}/atras\"):\n",
    "    os.makedirs(f\"{path}/atras\")\n",
    "if not os.path.exists(f\"{path}/Izquierda\"):\n",
    "    os.makedirs(f\"{path}/Izquierda\")\n",
    "if not os.path.exists(f\"{path}/Derecha\"):\n",
    "    os.makedirs(f\"{path}/Derecha\")\n",
    "if not os.path.exists(f\"{path}/abajo\"):\n",
    "    os.makedirs(f\"{path}/abajo\")\n",
    "if not os.path.exists(f\"{path}/arriba\"):\n",
    "    os.makedirs(f\"{path}/arriba\")    \n",
    "\n",
    "f = IntProgress(min=0, max=len(materials)) \n",
    "\n",
    "f.description = 'Progress: '\n",
    "f.bar_style = 'info'\n",
    "f.layout.width = '100%'\n",
    "display(f)\n",
    "\n",
    "for i, molecule in enumerate(materials):\n",
    "    # frente \n",
    "    mogli.export(molecule,f\"{path}/enfrente/enfrente_{i}.png\",bonds_param=bonds_param,camera=((distance, 0, 0),(0, 0, 0),(0 , 1 , 0)), width=width, height=height)\n",
    "    # atras\n",
    "    mogli.export(molecule,f\"{path}/atras/atras_{i}.png\",bonds_param=bonds_param,camera=((-distance, 0, 0),(0, 0, 0),(0, 1 , 0)), width=width, height=height)\n",
    "\n",
    "    # 90 grados derecha \n",
    "    mogli.export(molecule,f\"{path}/Izquierda/Izquierda_{i}.png\",bonds_param=bonds_param,camera=((0, 0, distance),(0, 0, 0),(0,1, 0)), width=width, height=height)\n",
    "    # 90 grados izquierda\n",
    "    mogli.export(molecule,f\"{path}/Derecha/Derecha_{i}.png\",bonds_param=bonds_param,camera=((0, 0, distance),(0, 0, 0),(0, -1, 0)), width=width, height=height)\n",
    "\n",
    "    # abajo\n",
    "    mogli.export(molecule,f\"{path}/abajo/abajo_{i}.png\",bonds_param=bonds_param,camera=((0, -distance, 0),(0, 0, 0),(1, 0, 0)), width=width, height=height)\n",
    "    # arriba\n",
    "    mogli.export(molecule,f\"{path}/arriba/arriba_{i}.png\",bonds_param=bonds_param,camera=((0, distance, 0),(0, 0, 0),(-1, 0, 0)), width=width, height=height)\n",
    "    f.value += 1"
   ]
  },
  {
   "cell_type": "code",
   "execution_count": 16,
   "metadata": {},
   "outputs": [
    {
     "name": "stdout",
     "output_type": "stream",
     "text": [
      "Datasets/3d/512x512_BP1.75\n"
     ]
    },
    {
     "data": {
      "application/vnd.jupyter.widget-view+json": {
       "model_id": "53d1ab599e1e443b84bd1ab7ae99b4f0",
       "version_major": 2,
       "version_minor": 0
      },
      "text/plain": [
       "IntProgress(value=0, bar_style='info', description='Progress: ', layout=Layout(width='100%'), max=12500)"
      ]
     },
     "metadata": {},
     "output_type": "display_data"
    }
   ],
   "source": [
    "bonds_param = 1.75\n",
    "width = 512\n",
    "height = 512\n",
    "\n",
    "path = f'Datasets/3d/{width}x{height}_BP{bonds_param}'\n",
    "print(path)\n",
    "\n",
    "\n",
    "distance = 25\n",
    "\n",
    "if not os.path.exists(path):\n",
    "    os.makedirs(path)    \n",
    "if not os.path.exists(f\"{path}/enfrente\"):\n",
    "    os.makedirs(f\"{path}/enfrente\")\n",
    "if not os.path.exists(f\"{path}/atras\"):\n",
    "    os.makedirs(f\"{path}/atras\")\n",
    "if not os.path.exists(f\"{path}/Izquierda\"):\n",
    "    os.makedirs(f\"{path}/Izquierda\")\n",
    "if not os.path.exists(f\"{path}/Derecha\"):\n",
    "    os.makedirs(f\"{path}/Derecha\")\n",
    "if not os.path.exists(f\"{path}/abajo\"):\n",
    "    os.makedirs(f\"{path}/abajo\")\n",
    "if not os.path.exists(f\"{path}/arriba\"):\n",
    "    os.makedirs(f\"{path}/arriba\")    \n",
    "\n",
    "f = IntProgress(min=0, max=len(materials)) \n",
    "\n",
    "f.description = 'Progress: '\n",
    "f.bar_style = 'info'\n",
    "f.layout.width = '100%'\n",
    "display(f)\n",
    "\n",
    "for i, molecule in enumerate(materials):\n",
    "    # frente \n",
    "    mogli.export(molecule,f\"{path}/enfrente/enfrente_{i}.png\",bonds_param=bonds_param,camera=((distance, 0, 0),(0, 0, 0),(0 , 1 , 0)), width=width, height=height)\n",
    "    # atras\n",
    "    mogli.export(molecule,f\"{path}/atras/atras_{i}.png\",bonds_param=bonds_param,camera=((-distance, 0, 0),(0, 0, 0),(0, 1 , 0)), width=width, height=height)\n",
    "\n",
    "    # 90 grados derecha \n",
    "    mogli.export(molecule,f\"{path}/Izquierda/Izquierda_{i}.png\",bonds_param=bonds_param,camera=((0, 0, distance),(0, 0, 0),(0,1, 0)), width=width, height=height)\n",
    "    # 90 grados izquierda\n",
    "    mogli.export(molecule,f\"{path}/Derecha/Derecha_{i}.png\",bonds_param=bonds_param,camera=((0, 0, distance),(0, 0, 0),(0, -1, 0)), width=width, height=height)\n",
    "\n",
    "    # abajo\n",
    "    mogli.export(molecule,f\"{path}/abajo/abajo_{i}.png\",bonds_param=bonds_param,camera=((0, -distance, 0),(0, 0, 0),(1, 0, 0)), width=width, height=height)\n",
    "    # arriba\n",
    "    mogli.export(molecule,f\"{path}/arriba/arriba_{i}.png\",bonds_param=bonds_param,camera=((0, distance, 0),(0, 0, 0),(-1, 0, 0)), width=width, height=height)\n",
    "    f.value += 1"
   ]
  },
  {
   "cell_type": "code",
   "execution_count": 17,
   "metadata": {},
   "outputs": [
    {
     "name": "stdout",
     "output_type": "stream",
     "text": [
      "Datasets/3d/512x512_BP1.25\n"
     ]
    },
    {
     "data": {
      "application/vnd.jupyter.widget-view+json": {
       "model_id": "33c8f27703db4948a2f00a5ed1696f5d",
       "version_major": 2,
       "version_minor": 0
      },
      "text/plain": [
       "IntProgress(value=0, bar_style='info', description='Progress: ', layout=Layout(width='100%'), max=12500)"
      ]
     },
     "metadata": {},
     "output_type": "display_data"
    }
   ],
   "source": [
    "bonds_param = 1.25\n",
    "width = 512\n",
    "height = 512\n",
    "\n",
    "path = f'Datasets/3d/{width}x{height}_BP{bonds_param}'\n",
    "print(path)\n",
    "\n",
    "\n",
    "distance = 25\n",
    "\n",
    "if not os.path.exists(path):\n",
    "    os.makedirs(path)    \n",
    "if not os.path.exists(f\"{path}/enfrente\"):\n",
    "    os.makedirs(f\"{path}/enfrente\")\n",
    "if not os.path.exists(f\"{path}/atras\"):\n",
    "    os.makedirs(f\"{path}/atras\")\n",
    "if not os.path.exists(f\"{path}/Izquierda\"):\n",
    "    os.makedirs(f\"{path}/Izquierda\")\n",
    "if not os.path.exists(f\"{path}/Derecha\"):\n",
    "    os.makedirs(f\"{path}/Derecha\")\n",
    "if not os.path.exists(f\"{path}/abajo\"):\n",
    "    os.makedirs(f\"{path}/abajo\")\n",
    "if not os.path.exists(f\"{path}/arriba\"):\n",
    "    os.makedirs(f\"{path}/arriba\")    \n",
    "\n",
    "f = IntProgress(min=0, max=len(materials)) \n",
    "\n",
    "f.description = 'Progress: '\n",
    "f.bar_style = 'info'\n",
    "f.layout.width = '100%'\n",
    "display(f)\n",
    "\n",
    "for i, molecule in enumerate(materials):\n",
    "    # frente \n",
    "    mogli.export(molecule,f\"{path}/enfrente/enfrente_{i}.png\",bonds_param=bonds_param,camera=((distance, 0, 0),(0, 0, 0),(0 , 1 , 0)), width=width, height=height)\n",
    "    # atras\n",
    "    mogli.export(molecule,f\"{path}/atras/atras_{i}.png\",bonds_param=bonds_param,camera=((-distance, 0, 0),(0, 0, 0),(0, 1 , 0)), width=width, height=height)\n",
    "\n",
    "    # 90 grados derecha \n",
    "    mogli.export(molecule,f\"{path}/Izquierda/Izquierda_{i}.png\",bonds_param=bonds_param,camera=((0, 0, distance),(0, 0, 0),(0,1, 0)), width=width, height=height)\n",
    "    # 90 grados izquierda\n",
    "    mogli.export(molecule,f\"{path}/Derecha/Derecha_{i}.png\",bonds_param=bonds_param,camera=((0, 0, distance),(0, 0, 0),(0, -1, 0)), width=width, height=height)\n",
    "\n",
    "    # abajo\n",
    "    mogli.export(molecule,f\"{path}/abajo/abajo_{i}.png\",bonds_param=bonds_param,camera=((0, -distance, 0),(0, 0, 0),(1, 0, 0)), width=width, height=height)\n",
    "    # arriba\n",
    "    mogli.export(molecule,f\"{path}/arriba/arriba_{i}.png\",bonds_param=bonds_param,camera=((0, distance, 0),(0, 0, 0),(-1, 0, 0)), width=width, height=height)\n",
    "    f.value += 1"
   ]
  }
 ],
 "metadata": {
  "kernelspec": {
   "display_name": "band-gap",
   "language": "python",
   "name": "python3"
  },
  "language_info": {
   "codemirror_mode": {
    "name": "ipython",
    "version": 3
   },
   "file_extension": ".py",
   "mimetype": "text/x-python",
   "name": "python",
   "nbconvert_exporter": "python",
   "pygments_lexer": "ipython3",
   "version": "3.10.9"
  },
  "orig_nbformat": 4,
  "vscode": {
   "interpreter": {
    "hash": "c501a9e2f27050cdfbe443c99ecee669c6f759c67735d8e3a090baa58611bfdd"
   }
  }
 },
 "nbformat": 4,
 "nbformat_minor": 2
}
