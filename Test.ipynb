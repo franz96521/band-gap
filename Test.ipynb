{
 "cells": [
  {
   "cell_type": "code",
   "execution_count": 1,
   "metadata": {},
   "outputs": [],
   "source": [
    "import torch\n",
    "import torch.nn as nn\n",
    "import pytorch_lightning as pl\n",
    "from pytorch_lightning.callbacks import ModelCheckpoint, EarlyStopping\n",
    "from pytorch_lightning.callbacks import ModelCheckpoint\n",
    "import BandGapPredictor as bgp\n",
    "import numpy as np\n",
    "from torchsummary import summary\n",
    "\n",
    "\n",
    "import importlib"
   ]
  },
  {
   "cell_type": "code",
   "execution_count": 2,
   "metadata": {},
   "outputs": [
    {
     "name": "stderr",
     "output_type": "stream",
     "text": [
      "c:\\Users\\franz\\miniconda3\\envs\\IA\\lib\\site-packages\\pytorch_lightning\\utilities\\parsing.py:262: UserWarning: Attribute 'model' is an instance of `nn.Module` and is already saved during checkpointing. It is recommended to ignore them using `self.save_hyperparameters(ignore=['model'])`.\n",
      "  rank_zero_warn(\n"
     ]
    },
    {
     "name": "stdout",
     "output_type": "stream",
     "text": [
      "Dimensions of the last convolutional feature map:  torch.Size([10, 512, 4, 4, 4])\n"
     ]
    },
    {
     "data": {
      "text/plain": [
       "tensor([[-0.0147],\n",
       "        [-0.0141],\n",
       "        [-0.0157],\n",
       "        [-0.0174],\n",
       "        [-0.0148],\n",
       "        [-0.0154],\n",
       "        [-0.0157],\n",
       "        [-0.0174],\n",
       "        [-0.0170],\n",
       "        [-0.0148]], grad_fn=<AddmmBackward0>)"
      ]
     },
     "execution_count": 2,
     "metadata": {},
     "output_type": "execute_result"
    }
   ],
   "source": [
    "# random tensor of 3x128x128x128\n",
    "import BandGapPredictor as bgp\n",
    "import torch\n",
    "\n",
    "import importlib\n",
    "\n",
    "importlib.reload(bgp)\n",
    "\n",
    "model = bgp.PLModule.BandGap(lr=1e-3,model = bgp.RESNET.ResNet(img_channels=3, num_layers=18, block=bgp.RESNET.BasicBlock, num_classes=1))\n",
    "x = torch.rand(10,3, 128, 128, 128)\n",
    "model(x)"
   ]
  },
  {
   "cell_type": "code",
   "execution_count": 3,
   "metadata": {},
   "outputs": [
    {
     "data": {
      "text/plain": [
       "tensor([1, 2, 3, 1, 2, 3], dtype=torch.int32)"
      ]
     },
     "execution_count": 3,
     "metadata": {},
     "output_type": "execute_result"
    }
   ],
   "source": [
    "x = torch.from_numpy(np.array([1,2,3]))\n",
    "y = torch.from_numpy(np.array([1,2,3]))\n",
    "\n",
    "cat = torch.cat((x,y),0)\n",
    "cat "
   ]
  }
 ],
 "metadata": {
  "kernelspec": {
   "display_name": "IA",
   "language": "python",
   "name": "python3"
  },
  "language_info": {
   "codemirror_mode": {
    "name": "ipython",
    "version": 3
   },
   "file_extension": ".py",
   "mimetype": "text/x-python",
   "name": "python",
   "nbconvert_exporter": "python",
   "pygments_lexer": "ipython3",
   "version": "3.10.4"
  },
  "orig_nbformat": 4,
  "vscode": {
   "interpreter": {
    "hash": "76b2a29125357fbf7f8c3442961fc91fe87852aee5ccacebc27154b122ae2218"
   }
  }
 },
 "nbformat": 4,
 "nbformat_minor": 2
}
