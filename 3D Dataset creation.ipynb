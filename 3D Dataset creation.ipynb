{
 "cells": [
  {
   "cell_type": "code",
   "execution_count": 1,
   "metadata": {},
   "outputs": [],
   "source": [
    "import torch \n",
    "import torch.nn as nn\n",
    "import torch.nn.functional as F\n",
    "import torch.optim as optim\n",
    "import numpy as np\n",
    "import matplotlib.pyplot as plt\n",
    "import pandas as pd\n",
    "from ase.io import read\n",
    "import matplotlib.pyplot as plt\n",
    "from ase.visualize.plot import plot_atoms\n",
    "import mogli"
   ]
  },
  {
   "cell_type": "code",
   "execution_count": 2,
   "metadata": {},
   "outputs": [],
   "source": [
    "bandgaps = np.loadtxt('Datasets/bandgaps.csv')\n",
    "cods = np.loadtxt('Datasets/CODids.csv', dtype=int)\n",
    "materials = mogli.read('Datasets/structures.xyz')"
   ]
  },
  {
   "cell_type": "code",
   "execution_count": 1,
   "metadata": {},
   "outputs": [
    {
     "ename": "NameError",
     "evalue": "name 'materials' is not defined",
     "output_type": "error",
     "traceback": [
      "\u001b[1;31m---------------------------------------------------------------------------\u001b[0m",
      "\u001b[1;31mNameError\u001b[0m                                 Traceback (most recent call last)",
      "\u001b[1;32mc:\\Users\\franz\\OneDrive\\Documentos\\GitHub\\band-gap\\3D Dataset creation.ipynb Cell 3\u001b[0m in \u001b[0;36m<cell line: 6>\u001b[1;34m()\u001b[0m\n\u001b[0;32m      <a href='vscode-notebook-cell:/c%3A/Users/franz/OneDrive/Documentos/GitHub/band-gap/3D%20Dataset%20creation.ipynb#W2sZmlsZQ%3D%3D?line=3'>4</a>\u001b[0m     os\u001b[39m.\u001b[39mmakedirs(path)\n\u001b[0;32m      <a href='vscode-notebook-cell:/c%3A/Users/franz/OneDrive/Documentos/GitHub/band-gap/3D%20Dataset%20creation.ipynb#W2sZmlsZQ%3D%3D?line=4'>5</a>\u001b[0m distance \u001b[39m=\u001b[39m \u001b[39m25\u001b[39m\n\u001b[1;32m----> <a href='vscode-notebook-cell:/c%3A/Users/franz/OneDrive/Documentos/GitHub/band-gap/3D%20Dataset%20creation.ipynb#W2sZmlsZQ%3D%3D?line=5'>6</a>\u001b[0m \u001b[39mfor\u001b[39;00m i, molecule \u001b[39min\u001b[39;00m \u001b[39menumerate\u001b[39m(materials):\n\u001b[0;32m      <a href='vscode-notebook-cell:/c%3A/Users/franz/OneDrive/Documentos/GitHub/band-gap/3D%20Dataset%20creation.ipynb#W2sZmlsZQ%3D%3D?line=6'>7</a>\u001b[0m     \u001b[39m# frente \u001b[39;00m\n\u001b[0;32m      <a href='vscode-notebook-cell:/c%3A/Users/franz/OneDrive/Documentos/GitHub/band-gap/3D%20Dataset%20creation.ipynb#W2sZmlsZQ%3D%3D?line=7'>8</a>\u001b[0m     mogli\u001b[39m.\u001b[39mexport(molecule,\u001b[39mf\u001b[39m\u001b[39m\"\u001b[39m\u001b[39m{\u001b[39;00mpath\u001b[39m}\u001b[39;00m\u001b[39m/enfrente/enfrente_\u001b[39m\u001b[39m{\u001b[39;00mi\u001b[39m}\u001b[39;00m\u001b[39m.png\u001b[39m\u001b[39m\"\u001b[39m,bonds_param\u001b[39m=\u001b[39m\u001b[39m1.75\u001b[39m,camera\u001b[39m=\u001b[39m((distance, \u001b[39m0\u001b[39m, \u001b[39m0\u001b[39m),(\u001b[39m0\u001b[39m, \u001b[39m0\u001b[39m, \u001b[39m0\u001b[39m),(\u001b[39m0\u001b[39m , \u001b[39m1\u001b[39m , \u001b[39m0\u001b[39m)), width\u001b[39m=\u001b[39m\u001b[39m500\u001b[39m, height\u001b[39m=\u001b[39m\u001b[39m500\u001b[39m)\n\u001b[0;32m      <a href='vscode-notebook-cell:/c%3A/Users/franz/OneDrive/Documentos/GitHub/band-gap/3D%20Dataset%20creation.ipynb#W2sZmlsZQ%3D%3D?line=8'>9</a>\u001b[0m     \u001b[39m# atras\u001b[39;00m\n",
      "\u001b[1;31mNameError\u001b[0m: name 'materials' is not defined"
     ]
    }
   ],
   "source": [
    "import os\n",
    "path = 'Datasets/3d'\n",
    "if not os.path.exists(path):\n",
    "    os.makedirs(path)\n",
    "distance = 25\n",
    "for i, molecule in enumerate(materials):\n",
    "    # frente \n",
    "    mogli.export(molecule,f\"{path}/enfrente/enfrente_{i}.png\",bonds_param=1.75,camera=((distance, 0, 0),(0, 0, 0),(0 , 1 , 0)), width=500, height=500)\n",
    "    # atras\n",
    "    mogli.export(molecule,f\"{path}/atras/atras_{i}.png\",bonds_param=1.75,camera=((-distance, 0, 0),(0, 0, 0),(0, 1 , 0)), width=500, height=500)\n",
    "\n",
    "    # 90 grados derecha \n",
    "    mogli.export(molecule,f\"{path}/Izquierda/Izquierda_{i}.png\",bonds_param=1.75,camera=((0, 0, distance),(0, 0, 0),(0,1, 0)), width=500, height=500)\n",
    "    # 90 grados izquierda\n",
    "    mogli.export(molecule,f\"{path}/Derecha/Derecha_{i}.png\",bonds_param=1.75,camera=((0, 0, distance),(0, 0, 0),(0, -1, 0)), width=500, height=500)\n",
    "\n",
    "    # abajo\n",
    "    mogli.export(molecule,f\"{path}/abajo/abajo_{i}.png\",bonds_param=1.75,camera=((0, -distance, 0),(0, 0, 0),(1, 0, 0)), width=500, height=500)\n",
    "    # arriba\n",
    "    mogli.export(molecule,f\"{path}/arriba/arriba_{i}.png\",bonds_param=1.75,camera=((0, distance, 0),(0, 0, 0),(-1, 0, 0)), width=500, height=500)\n",
    "    "
   ]
  }
 ],
 "metadata": {
  "kernelspec": {
   "display_name": "ia",
   "language": "python",
   "name": "python3"
  },
  "language_info": {
   "codemirror_mode": {
    "name": "ipython",
    "version": 3
   },
   "file_extension": ".py",
   "mimetype": "text/x-python",
   "name": "python",
   "nbconvert_exporter": "python",
   "pygments_lexer": "ipython3",
   "version": "3.10.4"
  },
  "orig_nbformat": 4,
  "vscode": {
   "interpreter": {
    "hash": "88187885bc230902ad3ab747e8178d342bb12c7385bc4372aabd1ca59d846875"
   }
  }
 },
 "nbformat": 4,
 "nbformat_minor": 2
}
