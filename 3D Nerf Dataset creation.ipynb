{
 "cells": [
  {
   "cell_type": "code",
   "execution_count": 24,
   "metadata": {},
   "outputs": [],
   "source": [
    "import numpy as np\n",
    "import matplotlib.pyplot as plt\n",
    "import src.mogli as mogli\n",
    "import os\n",
    "from ipywidgets import IntProgress\n",
    "from IPython.display import display, clear_output\n",
    "from PIL import Image\n",
    "\n",
    "from src.CameraPoseVisualizer import CameraPoseVisualizer\n",
    "# import numpy as np\n",
    "\n",
    "import importlib\n",
    "import json\n",
    "import time\n"
   ]
  },
  {
   "cell_type": "code",
   "execution_count": 25,
   "metadata": {},
   "outputs": [],
   "source": [
    "bandgaps = np.loadtxt('Datasets/bandgaps.csv')\n",
    "cods = np.loadtxt('Datasets/CODids.csv', dtype=int)\n",
    "materials = mogli.read('Datasets/structures.xyz')"
   ]
  },
  {
   "cell_type": "code",
   "execution_count": null,
   "metadata": {},
   "outputs": [],
   "source": [
    "def circle(radius, n):\n",
    "    theta = np.linspace(0, 2*np.pi, n)\n",
    "    x = radius*np.cos(theta)\n",
    "    y = radius*np.sin(theta)\n",
    "    z = np.zeros_like(theta)\n",
    "    # put x,y, and z as columns in a matrix\n",
    "\n",
    "    return np.column_stack((x.flatten(), y.flatten(), z.flatten()))\n",
    "# x = circle(100, 20)\n",
    "\n",
    "# plt.figure(figsize=(10,10))\n",
    "# plt.plot(x[:,0], x[:,1], 'o')\n"
   ]
  },
  {
   "cell_type": "code",
   "execution_count": null,
   "metadata": {},
   "outputs": [],
   "source": [
    "def sphere (radius, n):\n",
    "    theta = np.linspace(0, 2*np.pi, n)\n",
    "    phi = np.linspace(0, np.pi, n)\n",
    "    x = radius*np.outer(np.cos(theta), np.sin(phi)).flatten()\n",
    "    y = radius*np.outer(np.sin(theta), np.sin(phi)).flatten()\n",
    "    z = radius*np.outer(np.ones(np.size(theta)), np.cos(phi)).flatten()\n",
    "    \n",
    "    \n",
    "    mask = np.logical_and(x != 0, y != 0)\n",
    "    x = x[mask]\n",
    "    y = y[mask]\n",
    "    z = z[mask]\n",
    "    \n",
    "    # print(x.shape)\n",
    "    \n",
    "    return np.column_stack((x,y,z))\n",
    "# s = sphere(25, 10)\n",
    "# # plot points\n",
    "# fig = plt.figure(figsize=(10,10))\n",
    "# ax = fig.add_subplot(111, projection='3d')\n",
    "\n",
    "# ax.scatter(s[:,0], s[:,1], s[:,2], c='b', marker='o')"
   ]
  },
  {
   "cell_type": "code",
   "execution_count": null,
   "metadata": {},
   "outputs": [],
   "source": [
    "class Cameraframe():\n",
    "    def __init__(self,filePath,transform_matrix, sharpness=5725):\n",
    "        self.file_path = filePath\n",
    "        self.sharpness= sharpness\n",
    "        self.transform_matrix = transform_matrix\n",
    "    def toJson(self):\n",
    "        return {\n",
    "            \"file_path\": self.file_path,\n",
    "            # \"sharpness\": self.sharpness,\n",
    "            \"transform_matrix\": self.transform_matrix.tolist()\n",
    "        }\n",
    "    \n",
    "class dataset():\n",
    "    def __init__(self, w, h ,angle_degrees = 45):        \n",
    "        self.camera_angle_x= np.radians(angle_degrees)\n",
    "        self.camera_angle_y= np.radians(angle_degrees)   \n",
    "        self.w= w\n",
    "        self.h= h\n",
    "        self.frames = []\n",
    "    def toJson(self):\n",
    "        return {\n",
    "            \"camera_angle_x\": self.camera_angle_x,\n",
    "            \"camera_angle_y\": self.camera_angle_y,           \n",
    "            \"cx\": self.w / 2,\n",
    "            \"cy\": self.h / 2,\n",
    "            \"w\": self.w,\n",
    "            \"h\": self.h,\n",
    "            \"frames\": [frame.toJson() for frame in self.frames]             \n",
    "        }\n",
    "    def save(self, path):\n",
    "        with open(path, 'w') as outfile:\n",
    "            json.dump(self.toJson(), outfile)\n",
    "        "
   ]
  },
  {
   "cell_type": "code",
   "execution_count": null,
   "metadata": {},
   "outputs": [],
   "source": [
    "def run(scene_path, train_steps):\n",
    "    snapshot_path = os.path.join(scene_path, f\"snapshot.ingp\")    \n",
    "    !python ./instant-ngp/scripts/run.py {scene_path} --n_steps {train_steps} --save_snapshot {snapshot_path}  --save_raw_volumes\n",
    "def open_snapshot(scene_path):\n",
    "    train_steps = 10\n",
    "    snapshot_path = os.path.join(scene_path, f\"snapshot.ingp\")\n",
    "    !python ./instant-ngp/scripts/run.py {scene_path} --n_steps {train_steps} --load_snapshot {snapshot_path} --gui\n",
    "\n",
    "def save_raw_volumes(scene_path):\n",
    "    snapshot_path = os.path.join(scene_path, f\"snapshot.ingp\")    \n",
    "    !python ./instant-ngp/scripts/run.py {scene_path} --load_snapshot {snapshot_path} --save_raw_volumes"
   ]
  },
  {
   "cell_type": "code",
   "execution_count": null,
   "metadata": {},
   "outputs": [],
   "source": [
    "def viewCameras(poses ):\n",
    "    visualizer = CameraPoseVisualizer([-10, 10], [-10, 10], [-10, 10])\n",
    "    for pose in poses:\n",
    "        visualizer.extrinsic2pyramid(pose.transform_matrix, 'c', 10)\n",
    "    visualizer.show()   \n",
    "    "
   ]
  },
  {
   "cell_type": "code",
   "execution_count": null,
   "metadata": {},
   "outputs": [],
   "source": [
    "bonds_param = 1.5\n",
    "width = 100\n",
    "height = 100\n",
    "distance = 25\n",
    "formatFile = \"jpg\"\n",
    "train_steps = 4000  \n",
    "start_molecue = 0 \n",
    "path = f'E:\\Datasets\\BandGap\\{width}x{height}_BP{bonds_param}/'\n",
    "if not os.path.exists(path):\n",
    "    os.makedirs(path)    \n",
    "for i, molecule in enumerate(materials[start_molecue:]):  \n",
    "    # if i == 34:\n",
    "    #     break\n",
    "    start_time = time.time()\n",
    "    i+=start_molecue\n",
    "    print(f'molecule {i} stated')  \n",
    "    pathmolecule = f'{path}/{i}'\n",
    "    if not os.path.exists(pathmolecule):\n",
    "        os.makedirs(pathmolecule)   \n",
    "    Nerf = dataset(width,height)\n",
    "    data  = {}\n",
    "    sp = sphere(distance, 15)\n",
    "    for n , (x,y,z) in enumerate(sp):              \n",
    "        img_path = f\"{pathmolecule}/molecula_x_{i}_{n}.{formatFile}\"\n",
    "        camerapos = np.array([x,y,z])\n",
    "        camera = mogli.export(molecule,img_path,bonds_param=bonds_param,camera=((x,y,z),(0, 0, 0),(0 , 0 , 1)), width=width, height=height,distance=distance,scale=2)\n",
    "        # camera[:3,3] =  camerapos / distance\n",
    "        Nerf.frames.append(Cameraframe(f\"molecula_x_{i}_{n}.{formatFile}\",camera))\n",
    "    Nerf.save(f\"{pathmolecule}/nerf.json\")   \n",
    "    # viewCameras(Nerf.frames)    \n",
    "     \n",
    "    # open_snapshot(pathmolecule) \n",
    "    # save_raw_volumes(pathmolecule)\n",
    "    \n",
    "    run(pathmolecule, train_steps)\n",
    "    clear_output(wait=True)  \n",
    "\n",
    "    print(f'molecule {i} finished--- {time.time() - start_time}seconds ---'  )\n",
    "    break"
   ]
  },
  {
   "cell_type": "code",
   "execution_count": null,
   "metadata": {},
   "outputs": [],
   "source": [
    "\n",
    "img_path = r\"E:\\Datasets\\BandGap\\100x100_BP1.5\\1\\volume_raw\\128x128x128_0.bin\"\n",
    "\n",
    "data =None\n",
    "with open(img_path, \"rb\") as f:\n",
    "    data = f.read()\n",
    "\n",
    "data = np.frombuffer(data, dtype=np.float32)\n",
    "size = np.cbrt(data.shape[0]/4).astype(int)\n",
    "data = data.reshape((size,size,size,4))\n",
    "data.shape\n",
    "for i in range(size):\n",
    "    img = data[i]\n",
    "    plt.imshow(img)\n",
    "    \n",
    "    plt.show()\n"
   ]
  }
 ],
 "metadata": {
  "kernelspec": {
   "display_name": "band-gap",
   "language": "python",
   "name": "python3"
  },
  "language_info": {
   "codemirror_mode": {
    "name": "ipython",
    "version": 3
   },
   "file_extension": ".py",
   "mimetype": "text/x-python",
   "name": "python",
   "nbconvert_exporter": "python",
   "pygments_lexer": "ipython3",
   "version": "3.10.9"
  },
  "orig_nbformat": 4,
  "vscode": {
   "interpreter": {
    "hash": "c501a9e2f27050cdfbe443c99ecee669c6f759c67735d8e3a090baa58611bfdd"
   }
  }
 },
 "nbformat": 4,
 "nbformat_minor": 2
}
