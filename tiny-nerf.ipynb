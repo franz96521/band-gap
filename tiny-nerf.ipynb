{
 "cells": [
  {
   "cell_type": "markdown",
   "id": "f8fb7fa0",
   "metadata": {
    "id": "lLDTVWKq7-ei",
    "papermill": {
     "duration": 0.016937,
     "end_time": "2022-04-16T01:10:02.024889",
     "exception": false,
     "start_time": "2022-04-16T01:10:02.007952",
     "status": "completed"
    },
    "tags": []
   },
   "source": [
    "# Tiny NeRF\n",
    "This is a simplied version of the method presented in *NeRF: Representing Scenes as Neural Radiance Fields for View Synthesis*\n",
    "\n",
    "[Project Website](http://www.matthewtancik.com/nerf)\n",
    "\n",
    "[arXiv Paper](https://arxiv.org/abs/2003.08934)\n",
    "\n",
    "[Full Code](github.com/bmild/nerf)\n",
    "\n",
    "Components not included in the notebook\n",
    "*   5D input including view directions\n",
    "*   Hierarchical Sampling\n",
    "\n"
   ]
  },
  {
   "cell_type": "code",
   "execution_count": 111,
   "id": "66cc848f",
   "metadata": {
    "execution": {
     "iopub.execute_input": "2022-04-16T01:10:02.056786Z",
     "iopub.status.busy": "2022-04-16T01:10:02.056311Z",
     "iopub.status.idle": "2022-04-16T01:10:17.920576Z",
     "shell.execute_reply": "2022-04-16T01:10:17.919516Z"
    },
    "papermill": {
     "duration": 15.883595,
     "end_time": "2022-04-16T01:10:17.923340",
     "exception": false,
     "start_time": "2022-04-16T01:10:02.039745",
     "status": "completed"
    },
    "tags": []
   },
   "outputs": [
    {
     "name": "stdout",
     "output_type": "stream",
     "text": [
      "Requirement already satisfied: imageio-ffmpeg in e:\\miniconda3\\envs\\ai\\lib\\site-packages (0.4.8)\n"
     ]
    }
   ],
   "source": [
    "!pip install imageio-ffmpeg"
   ]
  },
  {
   "cell_type": "code",
   "execution_count": 2,
   "id": "974ac531",
   "metadata": {
    "execution": {
     "iopub.execute_input": "2022-04-16T01:10:17.981121Z",
     "iopub.status.busy": "2022-04-16T01:10:17.980418Z",
     "iopub.status.idle": "2022-04-16T01:10:22.867873Z",
     "shell.execute_reply": "2022-04-16T01:10:22.866839Z"
    },
    "id": "bZNXlxmEj0FC",
    "papermill": {
     "duration": 4.918903,
     "end_time": "2022-04-16T01:10:22.870357",
     "exception": false,
     "start_time": "2022-04-16T01:10:17.951454",
     "status": "completed"
    },
    "tags": []
   },
   "outputs": [],
   "source": [
    "import os, sys\n",
    "import tensorflow as tf\n",
    "tf.compat.v1.enable_eager_execution()\n",
    "\n",
    "from tqdm import tqdm_notebook as tqdm\n",
    "import numpy as np\n",
    "import matplotlib.pyplot as plt\n",
    "from PIL import Image\n",
    "import json"
   ]
  },
  {
   "cell_type": "code",
   "execution_count": 113,
   "id": "e853e5b4",
   "metadata": {
    "execution": {
     "iopub.execute_input": "2022-04-16T01:10:22.928758Z",
     "iopub.status.busy": "2022-04-16T01:10:22.928497Z",
     "iopub.status.idle": "2022-04-16T01:10:26.561258Z",
     "shell.execute_reply": "2022-04-16T01:10:26.560300Z"
    },
    "id": "5mTxAwgrj4yn",
    "outputId": "fbb14c52-6ca3-46c2-cf50-9cc3955fdc02",
    "papermill": {
     "duration": 3.663722,
     "end_time": "2022-04-16T01:10:26.563425",
     "exception": false,
     "start_time": "2022-04-16T01:10:22.899703",
     "status": "completed"
    },
    "tags": []
   },
   "outputs": [],
   "source": [
    "if not os.path.exists('tiny_nerf_data.npz'):\n",
    "    !wget http://cseweb.ucsd.edu/~viscomp/projects/LF/papers/ECCV20/nerf/tiny_nerf_data.npz"
   ]
  },
  {
   "cell_type": "markdown",
   "id": "21f3073a",
   "metadata": {
    "id": "t2dgdCDi-m3T",
    "papermill": {
     "duration": 0.033178,
     "end_time": "2022-04-16T01:10:26.630853",
     "exception": false,
     "start_time": "2022-04-16T01:10:26.597675",
     "status": "completed"
    },
    "tags": []
   },
   "source": [
    "# Load Input Images and Poses"
   ]
  },
  {
   "cell_type": "code",
   "execution_count": 3,
   "id": "09c3469b",
   "metadata": {
    "execution": {
     "iopub.execute_input": "2022-04-16T01:10:26.695761Z",
     "iopub.status.busy": "2022-04-16T01:10:26.695484Z",
     "iopub.status.idle": "2022-04-16T01:10:26.958905Z",
     "shell.execute_reply": "2022-04-16T01:10:26.958009Z"
    },
    "id": "jj1lof2ej0FI",
    "outputId": "6eef311a-11bd-495f-97e8-6b23029b3936",
    "papermill": {
     "duration": 0.298835,
     "end_time": "2022-04-16T01:10:26.961521",
     "exception": false,
     "start_time": "2022-04-16T01:10:26.662686",
     "status": "completed"
    },
    "tags": []
   },
   "outputs": [
    {
     "name": "stdout",
     "output_type": "stream",
     "text": [
      "(106, 100, 100, 3) (106, 4, 4) 138.88887889922103\n"
     ]
    },
    {
     "data": {
      "image/png": "[encoded data removed]",
      "text/plain": [
       "<Figure size 640x480 with 1 Axes>"
      ]
     },
     "metadata": {},
     "output_type": "display_data"
    }
   ],
   "source": [
    "data = np.load('tiny_nerf_data.npz')\n",
    "images = data['images']\n",
    "poses = data['poses']\n",
    "focal = data['focal']\n",
    "\n",
    "H, W = images.shape[1:3]\n",
    "print(images.shape, poses.shape, focal)\n",
    "\n",
    "testimg, testpose = images[101], poses[101]\n",
    "images = images[:100,...,:3]\n",
    "poses = poses[:100]\n",
    "\n",
    "plt.imshow(testimg)\n",
    "plt.show()"
   ]
  },
  {
   "cell_type": "code",
   "execution_count": 8,
   "id": "25d76301",
   "metadata": {},
   "outputs": [
    {
     "name": "stderr",
     "output_type": "stream",
     "text": [
      "C:\\Users\\franz\\AppData\\Local\\Temp\\ipykernel_9596\\413012515.py:4: TqdmDeprecationWarning: This function will be removed in tqdm==5.0.0\n",
      "Please use `tqdm.notebook.tqdm` instead of `tqdm.tqdm_notebook`\n",
      "  for i in tqdm(range(images.shape[0])):\n"
     ]
    },
    {
     "data": {
      "application/vnd.jupyter.widget-view+json": {
       "model_id": "25be48056559408c9200ebf2bbb0650b",
       "version_major": 2,
       "version_minor": 0
      },
      "text/plain": [
       "  0%|          | 0/100 [00:00<?, ?it/s]"
      ]
     },
     "metadata": {},
     "output_type": "display_data"
    }
   ],
   "source": [
    "# save images to disk\n",
    "if not os.path.exists('images'):\n",
    "    os.mkdir('images')\n",
    "for i in tqdm(range(images.shape[0])):\n",
    "    x = images[i] * 255\n",
    "    img = Image.fromarray(x.astype(np.uint8))\n",
    "    img.save('images/%03d.png' % i)\n",
    "\n"
   ]
  },
  {
   "cell_type": "code",
   "execution_count": 10,
   "id": "c7b5dfa8",
   "metadata": {},
   "outputs": [],
   "source": [
    "# sae poses to json\n",
    "with open('poses.json', 'w') as f:\n",
    "    json.dump(poses.tolist(), f)\n",
    "    \n",
    "\n"
   ]
  },
  {
   "cell_type": "code",
   "execution_count": 4,
   "id": "76c6498d",
   "metadata": {},
   "outputs": [
    {
     "data": {
      "text/plain": [
       "0.99803925"
      ]
     },
     "execution_count": 4,
     "metadata": {},
     "output_type": "execute_result"
    }
   ],
   "source": [
    "images[0].max()"
   ]
  },
  {
   "cell_type": "code",
   "execution_count": 116,
   "id": "0198f448",
   "metadata": {},
   "outputs": [
    {
     "data": {
      "text/plain": [
       "numpy.float32"
      ]
     },
     "execution_count": 116,
     "metadata": {},
     "output_type": "execute_result"
    }
   ],
   "source": [
    "type(images[0][0][0][0])"
   ]
  },
  {
   "cell_type": "code",
   "execution_count": 122,
   "id": "913cc4f1",
   "metadata": {},
   "outputs": [],
   "source": [
    "\n",
    "# def loadData(Path):\n",
    "#     images = []\n",
    "#     poses = []\n",
    "#     focal = None\n",
    "#     data = None\n",
    "#     with open(Path) as f:\n",
    "#         data = json.load(f)\n",
    "#     focal = data[\"fl_x\"]\n",
    "#     for frame in data[\"frames\"]:\n",
    "#         img = Image.open(frame[\"file_path\"])\n",
    "#         images.append(np.array(img, dtype=np.float32))\n",
    "#         poses.append(frame[\"transform_matrix\"])\n",
    "#     # float np float\n",
    "    \n",
    "#     return np.array(images,dtype=np.float32), np.array(poses,dtype=np.float32), focal"
   ]
  },
  {
   "cell_type": "code",
   "execution_count": 118,
   "id": "57a61fa0",
   "metadata": {},
   "outputs": [],
   "source": [
    "# path = r\"E:\\Github\\band-gap\\Datasets\\3d\\512x512_BP1.55\\0\\nerf.json\"\n",
    "# images, poses, focal = loadData(path)\n",
    "# # images = np.array(images)\n",
    "# # poses = np.array(poses)\n",
    "# # print(images.shape)\n",
    "# # plt.imshow(images[0])"
   ]
  },
  {
   "cell_type": "code",
   "execution_count": 123,
   "id": "89e1506e",
   "metadata": {},
   "outputs": [
    {
     "name": "stdout",
     "output_type": "stream",
     "text": [
      "<class 'numpy.float32'>\n",
      "(19, 512, 512, 3) (19, 4, 4) 149.1562685862765\n",
      "[[[255. 255. 255.]\n",
      "  [255. 255. 255.]\n",
      "  [255. 255. 255.]\n",
      "  ...\n",
      "  [255. 255. 255.]\n",
      "  [255. 255. 255.]\n",
      "  [255. 255. 255.]]\n",
      "\n",
      " [[255. 255. 255.]\n",
      "  [255. 255. 255.]\n",
      "  [255. 255. 255.]\n",
      "  ...\n",
      "  [255. 255. 255.]\n",
      "  [255. 255. 255.]\n",
      "  [255. 255. 255.]]\n",
      "\n",
      " [[255. 255. 255.]\n",
      "  [255. 255. 255.]\n",
      "  [255. 255. 255.]\n",
      "  ...\n",
      "  [255. 255. 255.]\n",
      "  [255. 255. 255.]\n",
      "  [255. 255. 255.]]\n",
      "\n",
      " ...\n",
      "\n",
      " [[255. 255. 255.]\n",
      "  [255. 255. 255.]\n",
      "  [255. 255. 255.]\n",
      "  ...\n",
      "  [255. 255. 255.]\n",
      "  [255. 255. 255.]\n",
      "  [255. 255. 255.]]\n",
      "\n",
      " [[255. 255. 255.]\n",
      "  [255. 255. 255.]\n",
      "  [255. 255. 255.]\n",
      "  ...\n",
      "  [255. 255. 255.]\n",
      "  [255. 255. 255.]\n",
      "  [255. 255. 255.]]\n",
      "\n",
      " [[255. 255. 255.]\n",
      "  [255. 255. 255.]\n",
      "  [255. 255. 255.]\n",
      "  ...\n",
      "  [255. 255. 255.]\n",
      "  [255. 255. 255.]\n",
      "  [255. 255. 255.]]]\n"
     ]
    },
    {
     "data": {
      "image/png": "[encoded data removed]",
      "text/plain": [
       "<Figure size 640x480 with 1 Axes>"
      ]
     },
     "metadata": {},
     "output_type": "display_data"
    }
   ],
   "source": [
    "# images, poses, focal = loadData(path)\n",
    "# print(type(images[0][0][0][0]))\n",
    "# H, W = images.shape[1:3]\n",
    "# print(images.shape, poses.shape, focal)\n",
    "# print(images[0])\n",
    "# testimg, testpose = images[1], poses[1]\n",
    "# # images = images[:100,...,:3]\n",
    "# # poses = poses[:100]\n",
    "\n",
    "# plt.imshow(testimg.astype(np.uint8))\n",
    "# plt.show()"
   ]
  },
  {
   "cell_type": "code",
   "execution_count": null,
   "id": "e5080045",
   "metadata": {},
   "outputs": [],
   "source": []
  },
  {
   "cell_type": "markdown",
   "id": "e77dd1a3",
   "metadata": {
    "id": "jxDt192E-v6i",
    "papermill": {
     "duration": 0.035059,
     "end_time": "2022-04-16T01:10:27.033538",
     "exception": false,
     "start_time": "2022-04-16T01:10:26.998479",
     "status": "completed"
    },
    "tags": []
   },
   "source": [
    "# Optimize NeRF"
   ]
  },
  {
   "cell_type": "code",
   "execution_count": 120,
   "id": "6d8c6b2c",
   "metadata": {
    "execution": {
     "iopub.execute_input": "2022-04-16T01:10:27.103976Z",
     "iopub.status.busy": "2022-04-16T01:10:27.103767Z",
     "iopub.status.idle": "2022-04-16T01:10:27.126127Z",
     "shell.execute_reply": "2022-04-16T01:10:27.125124Z"
    },
    "id": "R1avtwVoAQTu",
    "papermill": {
     "duration": 0.060579,
     "end_time": "2022-04-16T01:10:27.128249",
     "exception": false,
     "start_time": "2022-04-16T01:10:27.067670",
     "status": "completed"
    },
    "tags": []
   },
   "outputs": [],
   "source": [
    "def posenc(x):\n",
    "  rets = [x]\n",
    "  for i in range(L_embed):\n",
    "    for fn in [tf.sin, tf.cos]:\n",
    "      rets.append(fn(2.**i * x))\n",
    "  return tf.concat(rets, -1)\n",
    "\n",
    "L_embed = 6\n",
    "embed_fn = posenc\n",
    "# L_embed = 0\n",
    "# embed_fn = tf.identity\n",
    "\n",
    "def init_model(D=8, W=256):\n",
    "    relu = tf.keras.layers.ReLU()    \n",
    "    dense = lambda W=W, act=relu : tf.keras.layers.Dense(W, activation=act)\n",
    "\n",
    "    inputs = tf.keras.Input(shape=(3 + 3*2*L_embed)) \n",
    "    outputs = inputs\n",
    "    for i in range(D):\n",
    "        outputs = dense()(outputs)\n",
    "        if i%4==0 and i>0:\n",
    "            outputs = tf.concat([outputs, inputs], -1)\n",
    "    outputs = dense(4, act=None)(outputs)\n",
    "    \n",
    "    model = tf.keras.Model(inputs=inputs, outputs=outputs)\n",
    "    return model\n",
    "\n",
    "\n",
    "def get_rays(H, W, focal, c2w):\n",
    "    i, j = tf.meshgrid(tf.range(W, dtype=tf.float32), tf.range(H, dtype=tf.float32), indexing='xy')\n",
    "    dirs = tf.stack([(i-W*.5)/focal, -(j-H*.5)/focal, -tf.ones_like(i)], -1)\n",
    "    rays_d = tf.reduce_sum(dirs[..., np.newaxis, :] * c2w[:3,:3], -1)\n",
    "    rays_o = tf.broadcast_to(c2w[:3,-1], tf.shape(rays_d))\n",
    "    return rays_o, rays_d\n",
    "\n",
    "def render_rays(network_fn, rays_o, rays_d, near, far, N_samples, rand=False):\n",
    "\n",
    "    def batchify(fn, chunk=1024*32):\n",
    "        return lambda inputs : tf.concat([fn(inputs[i:i+chunk]) for i in range(0, inputs.shape[0], chunk)], 0)\n",
    "    \n",
    "    # Compute 3D query points\n",
    "    z_vals = tf.linspace(near, far, N_samples) \n",
    "    if rand:\n",
    "      z_vals += tf.random.uniform(list(rays_o.shape[:-1]) + [N_samples]) * (far-near)/N_samples\n",
    "    pts = rays_o[...,None,:] + rays_d[...,None,:] * z_vals[...,:,None]\n",
    "    \n",
    "    # Run network\n",
    "    pts_flat = tf.reshape(pts, [-1,3])\n",
    "    pts_flat = embed_fn(pts_flat)\n",
    "    raw = batchify(network_fn)(pts_flat)\n",
    "    raw = tf.reshape(raw, list(pts.shape[:-1]) + [4])\n",
    "    \n",
    "    # Compute opacities and colors\n",
    "    sigma_a = tf.nn.relu(raw[...,3])\n",
    "    rgb = tf.math.sigmoid(raw[...,:3]) \n",
    "    \n",
    "    # Do volume rendering\n",
    "    dists = tf.concat([z_vals[..., 1:] - z_vals[..., :-1], tf.broadcast_to([1e10], z_vals[...,:1].shape)], -1) \n",
    "    alpha = 1.-tf.exp(-sigma_a * dists)  \n",
    "    weights = alpha * tf.math.cumprod(1.-alpha + 1e-10, -1, exclusive=True)\n",
    "    \n",
    "    rgb_map = tf.reduce_sum(weights[...,None] * rgb, -2) \n",
    "    depth_map = tf.reduce_sum(weights * z_vals, -1) \n",
    "    acc_map = tf.reduce_sum(weights, -1)\n",
    "\n",
    "    return rgb_map, depth_map, acc_map"
   ]
  },
  {
   "cell_type": "markdown",
   "id": "edeb40d1",
   "metadata": {
    "id": "3TSAyVcKAiyI",
    "papermill": {
     "duration": 0.034101,
     "end_time": "2022-04-16T01:10:27.196625",
     "exception": false,
     "start_time": "2022-04-16T01:10:27.162524",
     "status": "completed"
    },
    "tags": []
   },
   "source": [
    "Here we optimize the model. We plot a rendered holdout view and its PSNR every 50 iterations."
   ]
  },
  {
   "cell_type": "code",
   "execution_count": 121,
   "id": "29e84a5d",
   "metadata": {
    "execution": {
     "iopub.execute_input": "2022-04-16T01:10:27.268083Z",
     "iopub.status.busy": "2022-04-16T01:10:27.267861Z",
     "iopub.status.idle": "2022-04-16T01:18:28.279673Z",
     "shell.execute_reply": "2022-04-16T01:18:28.278648Z"
    },
    "id": "6XurcHoCj0FQ",
    "outputId": "fac34e31-85ff-4226-b4e0-cab616245459",
    "papermill": {
     "duration": 481.058279,
     "end_time": "2022-04-16T01:18:28.289868",
     "exception": false,
     "start_time": "2022-04-16T01:10:27.231589",
     "status": "completed"
    },
    "tags": []
   },
   "outputs": [
    {
     "ename": "KeyboardInterrupt",
     "evalue": "",
     "output_type": "error",
     "traceback": [
      "\u001b[1;31m---------------------------------------------------------------------------\u001b[0m",
      "\u001b[1;31mKeyboardInterrupt\u001b[0m                         Traceback (most recent call last)",
      "Cell \u001b[1;32mIn[121], line 19\u001b[0m\n\u001b[0;32m     17\u001b[0m rays_o, rays_d \u001b[39m=\u001b[39m get_rays(H, W, focal, pose)\n\u001b[0;32m     18\u001b[0m \u001b[39mwith\u001b[39;00m tf\u001b[39m.\u001b[39mGradientTape() \u001b[39mas\u001b[39;00m tape:\n\u001b[1;32m---> 19\u001b[0m     rgb, depth, acc \u001b[39m=\u001b[39m render_rays(model, rays_o, rays_d, near\u001b[39m=\u001b[39;49m\u001b[39m2.\u001b[39;49m, far\u001b[39m=\u001b[39;49m\u001b[39m6.\u001b[39;49m, N_samples\u001b[39m=\u001b[39;49mN_samples, rand\u001b[39m=\u001b[39;49m\u001b[39mTrue\u001b[39;49;00m)\n\u001b[0;32m     20\u001b[0m     loss \u001b[39m=\u001b[39m tf\u001b[39m.\u001b[39mreduce_mean(tf\u001b[39m.\u001b[39msquare(rgb \u001b[39m-\u001b[39m target))\n\u001b[0;32m     21\u001b[0m gradients \u001b[39m=\u001b[39m tape\u001b[39m.\u001b[39mgradient(loss, model\u001b[39m.\u001b[39mtrainable_variables)\n",
      "Cell \u001b[1;32mIn[120], line 50\u001b[0m, in \u001b[0;36mrender_rays\u001b[1;34m(network_fn, rays_o, rays_d, near, far, N_samples, rand)\u001b[0m\n\u001b[0;32m     48\u001b[0m pts_flat \u001b[39m=\u001b[39m tf\u001b[39m.\u001b[39mreshape(pts, [\u001b[39m-\u001b[39m\u001b[39m1\u001b[39m,\u001b[39m3\u001b[39m])\n\u001b[0;32m     49\u001b[0m pts_flat \u001b[39m=\u001b[39m embed_fn(pts_flat)\n\u001b[1;32m---> 50\u001b[0m raw \u001b[39m=\u001b[39m batchify(network_fn)(pts_flat)\n\u001b[0;32m     51\u001b[0m raw \u001b[39m=\u001b[39m tf\u001b[39m.\u001b[39mreshape(raw, \u001b[39mlist\u001b[39m(pts\u001b[39m.\u001b[39mshape[:\u001b[39m-\u001b[39m\u001b[39m1\u001b[39m]) \u001b[39m+\u001b[39m [\u001b[39m4\u001b[39m])\n\u001b[0;32m     53\u001b[0m \u001b[39m# Compute opacities and colors\u001b[39;00m\n",
      "Cell \u001b[1;32mIn[120], line 39\u001b[0m, in \u001b[0;36mrender_rays.<locals>.batchify.<locals>.<lambda>\u001b[1;34m(inputs)\u001b[0m\n\u001b[0;32m     38\u001b[0m \u001b[39mdef\u001b[39;00m \u001b[39mbatchify\u001b[39m(fn, chunk\u001b[39m=\u001b[39m\u001b[39m1024\u001b[39m\u001b[39m*\u001b[39m\u001b[39m32\u001b[39m):\n\u001b[1;32m---> 39\u001b[0m     \u001b[39mreturn\u001b[39;00m \u001b[39mlambda\u001b[39;00m inputs : tf\u001b[39m.\u001b[39mconcat([fn(inputs[i:i\u001b[39m+\u001b[39mchunk]) \u001b[39mfor\u001b[39;00m i \u001b[39min\u001b[39;00m \u001b[39mrange\u001b[39m(\u001b[39m0\u001b[39m, inputs\u001b[39m.\u001b[39mshape[\u001b[39m0\u001b[39m], chunk)], \u001b[39m0\u001b[39m)\n",
      "Cell \u001b[1;32mIn[120], line 39\u001b[0m, in \u001b[0;36m<listcomp>\u001b[1;34m(.0)\u001b[0m\n\u001b[0;32m     38\u001b[0m \u001b[39mdef\u001b[39;00m \u001b[39mbatchify\u001b[39m(fn, chunk\u001b[39m=\u001b[39m\u001b[39m1024\u001b[39m\u001b[39m*\u001b[39m\u001b[39m32\u001b[39m):\n\u001b[1;32m---> 39\u001b[0m     \u001b[39mreturn\u001b[39;00m \u001b[39mlambda\u001b[39;00m inputs : tf\u001b[39m.\u001b[39mconcat([fn(inputs[i:i\u001b[39m+\u001b[39;49mchunk]) \u001b[39mfor\u001b[39;00m i \u001b[39min\u001b[39;00m \u001b[39mrange\u001b[39m(\u001b[39m0\u001b[39m, inputs\u001b[39m.\u001b[39mshape[\u001b[39m0\u001b[39m], chunk)], \u001b[39m0\u001b[39m)\n",
      "File \u001b[1;32me:\\miniconda3\\envs\\AI\\lib\\site-packages\\keras\\utils\\traceback_utils.py:65\u001b[0m, in \u001b[0;36mfilter_traceback.<locals>.error_handler\u001b[1;34m(*args, **kwargs)\u001b[0m\n\u001b[0;32m     63\u001b[0m filtered_tb \u001b[39m=\u001b[39m \u001b[39mNone\u001b[39;00m\n\u001b[0;32m     64\u001b[0m \u001b[39mtry\u001b[39;00m:\n\u001b[1;32m---> 65\u001b[0m     \u001b[39mreturn\u001b[39;00m fn(\u001b[39m*\u001b[39margs, \u001b[39m*\u001b[39m\u001b[39m*\u001b[39mkwargs)\n\u001b[0;32m     66\u001b[0m \u001b[39mexcept\u001b[39;00m \u001b[39mException\u001b[39;00m \u001b[39mas\u001b[39;00m e:\n\u001b[0;32m     67\u001b[0m     filtered_tb \u001b[39m=\u001b[39m _process_traceback_frames(e\u001b[39m.\u001b[39m__traceback__)\n",
      "File \u001b[1;32me:\\miniconda3\\envs\\AI\\lib\\site-packages\\keras\\engine\\training.py:561\u001b[0m, in \u001b[0;36mModel.__call__\u001b[1;34m(self, *args, **kwargs)\u001b[0m\n\u001b[0;32m    557\u001b[0m         \u001b[39msuper\u001b[39m()\u001b[39m.\u001b[39m\u001b[39m__call__\u001b[39m(inputs, \u001b[39m*\u001b[39mcopied_args, \u001b[39m*\u001b[39m\u001b[39m*\u001b[39mcopied_kwargs)\n\u001b[0;32m    559\u001b[0m     layout_map_lib\u001b[39m.\u001b[39m_map_subclass_model_variable(\u001b[39mself\u001b[39m, \u001b[39mself\u001b[39m\u001b[39m.\u001b[39m_layout_map)\n\u001b[1;32m--> 561\u001b[0m \u001b[39mreturn\u001b[39;00m \u001b[39msuper\u001b[39m()\u001b[39m.\u001b[39m\u001b[39m__call__\u001b[39m(\u001b[39m*\u001b[39margs, \u001b[39m*\u001b[39m\u001b[39m*\u001b[39mkwargs)\n",
      "File \u001b[1;32me:\\miniconda3\\envs\\AI\\lib\\site-packages\\keras\\utils\\traceback_utils.py:65\u001b[0m, in \u001b[0;36mfilter_traceback.<locals>.error_handler\u001b[1;34m(*args, **kwargs)\u001b[0m\n\u001b[0;32m     63\u001b[0m filtered_tb \u001b[39m=\u001b[39m \u001b[39mNone\u001b[39;00m\n\u001b[0;32m     64\u001b[0m \u001b[39mtry\u001b[39;00m:\n\u001b[1;32m---> 65\u001b[0m     \u001b[39mreturn\u001b[39;00m fn(\u001b[39m*\u001b[39margs, \u001b[39m*\u001b[39m\u001b[39m*\u001b[39mkwargs)\n\u001b[0;32m     66\u001b[0m \u001b[39mexcept\u001b[39;00m \u001b[39mException\u001b[39;00m \u001b[39mas\u001b[39;00m e:\n\u001b[0;32m     67\u001b[0m     filtered_tb \u001b[39m=\u001b[39m _process_traceback_frames(e\u001b[39m.\u001b[39m__traceback__)\n",
      "File \u001b[1;32me:\\miniconda3\\envs\\AI\\lib\\site-packages\\keras\\engine\\base_layer.py:1132\u001b[0m, in \u001b[0;36mLayer.__call__\u001b[1;34m(self, *args, **kwargs)\u001b[0m\n\u001b[0;32m   1127\u001b[0m     inputs \u001b[39m=\u001b[39m \u001b[39mself\u001b[39m\u001b[39m.\u001b[39m_maybe_cast_inputs(inputs, input_list)\n\u001b[0;32m   1129\u001b[0m \u001b[39mwith\u001b[39;00m autocast_variable\u001b[39m.\u001b[39menable_auto_cast_variables(\n\u001b[0;32m   1130\u001b[0m     \u001b[39mself\u001b[39m\u001b[39m.\u001b[39m_compute_dtype_object\n\u001b[0;32m   1131\u001b[0m ):\n\u001b[1;32m-> 1132\u001b[0m     outputs \u001b[39m=\u001b[39m call_fn(inputs, \u001b[39m*\u001b[39margs, \u001b[39m*\u001b[39m\u001b[39m*\u001b[39mkwargs)\n\u001b[0;32m   1134\u001b[0m \u001b[39mif\u001b[39;00m \u001b[39mself\u001b[39m\u001b[39m.\u001b[39m_activity_regularizer:\n\u001b[0;32m   1135\u001b[0m     \u001b[39mself\u001b[39m\u001b[39m.\u001b[39m_handle_activity_regularization(inputs, outputs)\n",
      "File \u001b[1;32me:\\miniconda3\\envs\\AI\\lib\\site-packages\\keras\\utils\\traceback_utils.py:96\u001b[0m, in \u001b[0;36minject_argument_info_in_traceback.<locals>.error_handler\u001b[1;34m(*args, **kwargs)\u001b[0m\n\u001b[0;32m     94\u001b[0m bound_signature \u001b[39m=\u001b[39m \u001b[39mNone\u001b[39;00m\n\u001b[0;32m     95\u001b[0m \u001b[39mtry\u001b[39;00m:\n\u001b[1;32m---> 96\u001b[0m     \u001b[39mreturn\u001b[39;00m fn(\u001b[39m*\u001b[39margs, \u001b[39m*\u001b[39m\u001b[39m*\u001b[39mkwargs)\n\u001b[0;32m     97\u001b[0m \u001b[39mexcept\u001b[39;00m \u001b[39mException\u001b[39;00m \u001b[39mas\u001b[39;00m e:\n\u001b[0;32m     98\u001b[0m     \u001b[39mif\u001b[39;00m \u001b[39mhasattr\u001b[39m(e, \u001b[39m\"\u001b[39m\u001b[39m_keras_call_info_injected\u001b[39m\u001b[39m\"\u001b[39m):\n\u001b[0;32m     99\u001b[0m         \u001b[39m# Only inject info for the innermost failing call\u001b[39;00m\n",
      "File \u001b[1;32me:\\miniconda3\\envs\\AI\\lib\\site-packages\\keras\\engine\\functional.py:511\u001b[0m, in \u001b[0;36mFunctional.call\u001b[1;34m(self, inputs, training, mask)\u001b[0m\n\u001b[0;32m    492\u001b[0m \u001b[39m@doc_controls\u001b[39m\u001b[39m.\u001b[39mdo_not_doc_inheritable\n\u001b[0;32m    493\u001b[0m \u001b[39mdef\u001b[39;00m \u001b[39mcall\u001b[39m(\u001b[39mself\u001b[39m, inputs, training\u001b[39m=\u001b[39m\u001b[39mNone\u001b[39;00m, mask\u001b[39m=\u001b[39m\u001b[39mNone\u001b[39;00m):\n\u001b[0;32m    494\u001b[0m     \u001b[39m\"\"\"Calls the model on new inputs.\u001b[39;00m\n\u001b[0;32m    495\u001b[0m \n\u001b[0;32m    496\u001b[0m \u001b[39m    In this case `call` just reapplies\u001b[39;00m\n\u001b[1;32m   (...)\u001b[0m\n\u001b[0;32m    509\u001b[0m \u001b[39m        a list of tensors if there are more than one outputs.\u001b[39;00m\n\u001b[0;32m    510\u001b[0m \u001b[39m    \"\"\"\u001b[39;00m\n\u001b[1;32m--> 511\u001b[0m     \u001b[39mreturn\u001b[39;00m \u001b[39mself\u001b[39;49m\u001b[39m.\u001b[39;49m_run_internal_graph(inputs, training\u001b[39m=\u001b[39;49mtraining, mask\u001b[39m=\u001b[39;49mmask)\n",
      "File \u001b[1;32me:\\miniconda3\\envs\\AI\\lib\\site-packages\\keras\\engine\\functional.py:668\u001b[0m, in \u001b[0;36mFunctional._run_internal_graph\u001b[1;34m(self, inputs, training, mask)\u001b[0m\n\u001b[0;32m    665\u001b[0m     \u001b[39mcontinue\u001b[39;00m  \u001b[39m# Node is not computable, try skipping.\u001b[39;00m\n\u001b[0;32m    667\u001b[0m args, kwargs \u001b[39m=\u001b[39m node\u001b[39m.\u001b[39mmap_arguments(tensor_dict)\n\u001b[1;32m--> 668\u001b[0m outputs \u001b[39m=\u001b[39m node\u001b[39m.\u001b[39mlayer(\u001b[39m*\u001b[39margs, \u001b[39m*\u001b[39m\u001b[39m*\u001b[39mkwargs)\n\u001b[0;32m    670\u001b[0m \u001b[39m# Update tensor_dict.\u001b[39;00m\n\u001b[0;32m    671\u001b[0m \u001b[39mfor\u001b[39;00m x_id, y \u001b[39min\u001b[39;00m \u001b[39mzip\u001b[39m(\n\u001b[0;32m    672\u001b[0m     node\u001b[39m.\u001b[39mflat_output_ids, tf\u001b[39m.\u001b[39mnest\u001b[39m.\u001b[39mflatten(outputs)\n\u001b[0;32m    673\u001b[0m ):\n",
      "File \u001b[1;32me:\\miniconda3\\envs\\AI\\lib\\site-packages\\keras\\utils\\traceback_utils.py:65\u001b[0m, in \u001b[0;36mfilter_traceback.<locals>.error_handler\u001b[1;34m(*args, **kwargs)\u001b[0m\n\u001b[0;32m     63\u001b[0m filtered_tb \u001b[39m=\u001b[39m \u001b[39mNone\u001b[39;00m\n\u001b[0;32m     64\u001b[0m \u001b[39mtry\u001b[39;00m:\n\u001b[1;32m---> 65\u001b[0m     \u001b[39mreturn\u001b[39;00m fn(\u001b[39m*\u001b[39margs, \u001b[39m*\u001b[39m\u001b[39m*\u001b[39mkwargs)\n\u001b[0;32m     66\u001b[0m \u001b[39mexcept\u001b[39;00m \u001b[39mException\u001b[39;00m \u001b[39mas\u001b[39;00m e:\n\u001b[0;32m     67\u001b[0m     filtered_tb \u001b[39m=\u001b[39m _process_traceback_frames(e\u001b[39m.\u001b[39m__traceback__)\n",
      "File \u001b[1;32me:\\miniconda3\\envs\\AI\\lib\\site-packages\\keras\\engine\\base_layer.py:1132\u001b[0m, in \u001b[0;36mLayer.__call__\u001b[1;34m(self, *args, **kwargs)\u001b[0m\n\u001b[0;32m   1127\u001b[0m     inputs \u001b[39m=\u001b[39m \u001b[39mself\u001b[39m\u001b[39m.\u001b[39m_maybe_cast_inputs(inputs, input_list)\n\u001b[0;32m   1129\u001b[0m \u001b[39mwith\u001b[39;00m autocast_variable\u001b[39m.\u001b[39menable_auto_cast_variables(\n\u001b[0;32m   1130\u001b[0m     \u001b[39mself\u001b[39m\u001b[39m.\u001b[39m_compute_dtype_object\n\u001b[0;32m   1131\u001b[0m ):\n\u001b[1;32m-> 1132\u001b[0m     outputs \u001b[39m=\u001b[39m call_fn(inputs, \u001b[39m*\u001b[39margs, \u001b[39m*\u001b[39m\u001b[39m*\u001b[39mkwargs)\n\u001b[0;32m   1134\u001b[0m \u001b[39mif\u001b[39;00m \u001b[39mself\u001b[39m\u001b[39m.\u001b[39m_activity_regularizer:\n\u001b[0;32m   1135\u001b[0m     \u001b[39mself\u001b[39m\u001b[39m.\u001b[39m_handle_activity_regularization(inputs, outputs)\n",
      "File \u001b[1;32me:\\miniconda3\\envs\\AI\\lib\\site-packages\\keras\\utils\\traceback_utils.py:96\u001b[0m, in \u001b[0;36minject_argument_info_in_traceback.<locals>.error_handler\u001b[1;34m(*args, **kwargs)\u001b[0m\n\u001b[0;32m     94\u001b[0m bound_signature \u001b[39m=\u001b[39m \u001b[39mNone\u001b[39;00m\n\u001b[0;32m     95\u001b[0m \u001b[39mtry\u001b[39;00m:\n\u001b[1;32m---> 96\u001b[0m     \u001b[39mreturn\u001b[39;00m fn(\u001b[39m*\u001b[39margs, \u001b[39m*\u001b[39m\u001b[39m*\u001b[39mkwargs)\n\u001b[0;32m     97\u001b[0m \u001b[39mexcept\u001b[39;00m \u001b[39mException\u001b[39;00m \u001b[39mas\u001b[39;00m e:\n\u001b[0;32m     98\u001b[0m     \u001b[39mif\u001b[39;00m \u001b[39mhasattr\u001b[39m(e, \u001b[39m\"\u001b[39m\u001b[39m_keras_call_info_injected\u001b[39m\u001b[39m\"\u001b[39m):\n\u001b[0;32m     99\u001b[0m         \u001b[39m# Only inject info for the innermost failing call\u001b[39;00m\n",
      "File \u001b[1;32me:\\miniconda3\\envs\\AI\\lib\\site-packages\\keras\\layers\\core\\dense.py:252\u001b[0m, in \u001b[0;36mDense.call\u001b[1;34m(self, inputs)\u001b[0m\n\u001b[0;32m    249\u001b[0m         outputs\u001b[39m.\u001b[39mset_shape(output_shape)\n\u001b[0;32m    251\u001b[0m \u001b[39mif\u001b[39;00m \u001b[39mself\u001b[39m\u001b[39m.\u001b[39muse_bias:\n\u001b[1;32m--> 252\u001b[0m     outputs \u001b[39m=\u001b[39m tf\u001b[39m.\u001b[39;49mnn\u001b[39m.\u001b[39;49mbias_add(outputs, \u001b[39mself\u001b[39;49m\u001b[39m.\u001b[39;49mbias)\n\u001b[0;32m    254\u001b[0m \u001b[39mif\u001b[39;00m \u001b[39mself\u001b[39m\u001b[39m.\u001b[39mactivation \u001b[39mis\u001b[39;00m \u001b[39mnot\u001b[39;00m \u001b[39mNone\u001b[39;00m:\n\u001b[0;32m    255\u001b[0m     outputs \u001b[39m=\u001b[39m \u001b[39mself\u001b[39m\u001b[39m.\u001b[39mactivation(outputs)\n",
      "File \u001b[1;32me:\\miniconda3\\envs\\AI\\lib\\site-packages\\tensorflow\\python\\util\\traceback_utils.py:150\u001b[0m, in \u001b[0;36mfilter_traceback.<locals>.error_handler\u001b[1;34m(*args, **kwargs)\u001b[0m\n\u001b[0;32m    148\u001b[0m filtered_tb \u001b[39m=\u001b[39m \u001b[39mNone\u001b[39;00m\n\u001b[0;32m    149\u001b[0m \u001b[39mtry\u001b[39;00m:\n\u001b[1;32m--> 150\u001b[0m   \u001b[39mreturn\u001b[39;00m fn(\u001b[39m*\u001b[39margs, \u001b[39m*\u001b[39m\u001b[39m*\u001b[39mkwargs)\n\u001b[0;32m    151\u001b[0m \u001b[39mexcept\u001b[39;00m \u001b[39mException\u001b[39;00m \u001b[39mas\u001b[39;00m e:\n\u001b[0;32m    152\u001b[0m   filtered_tb \u001b[39m=\u001b[39m _process_traceback_frames(e\u001b[39m.\u001b[39m__traceback__)\n",
      "File \u001b[1;32me:\\miniconda3\\envs\\AI\\lib\\site-packages\\tensorflow\\python\\util\\dispatch.py:1176\u001b[0m, in \u001b[0;36madd_dispatch_support.<locals>.decorator.<locals>.op_dispatch_handler\u001b[1;34m(*args, **kwargs)\u001b[0m\n\u001b[0;32m   1174\u001b[0m \u001b[39m# Fallback dispatch system (dispatch v1):\u001b[39;00m\n\u001b[0;32m   1175\u001b[0m \u001b[39mtry\u001b[39;00m:\n\u001b[1;32m-> 1176\u001b[0m   \u001b[39mreturn\u001b[39;00m dispatch_target(\u001b[39m*\u001b[39margs, \u001b[39m*\u001b[39m\u001b[39m*\u001b[39mkwargs)\n\u001b[0;32m   1177\u001b[0m \u001b[39mexcept\u001b[39;00m (\u001b[39mTypeError\u001b[39;00m, \u001b[39mValueError\u001b[39;00m):\n\u001b[0;32m   1178\u001b[0m   \u001b[39m# Note: convert_to_eager_tensor currently raises a ValueError, not a\u001b[39;00m\n\u001b[0;32m   1179\u001b[0m   \u001b[39m# TypeError, when given unexpected types.  So we need to catch both.\u001b[39;00m\n\u001b[0;32m   1180\u001b[0m   result \u001b[39m=\u001b[39m dispatch(op_dispatch_handler, args, kwargs)\n",
      "File \u001b[1;32me:\\miniconda3\\envs\\AI\\lib\\site-packages\\tensorflow\\python\\ops\\nn_ops.py:3554\u001b[0m, in \u001b[0;36mbias_add\u001b[1;34m(value, bias, data_format, name)\u001b[0m\n\u001b[0;32m   3551\u001b[0m   value \u001b[39m=\u001b[39m ops\u001b[39m.\u001b[39mconvert_to_tensor(value, name\u001b[39m=\u001b[39m\u001b[39m\"\u001b[39m\u001b[39minput\u001b[39m\u001b[39m\"\u001b[39m)\n\u001b[0;32m   3552\u001b[0m   bias \u001b[39m=\u001b[39m ops\u001b[39m.\u001b[39mconvert_to_tensor(bias, dtype\u001b[39m=\u001b[39mvalue\u001b[39m.\u001b[39mdtype, name\u001b[39m=\u001b[39m\u001b[39m\"\u001b[39m\u001b[39mbias\u001b[39m\u001b[39m\"\u001b[39m)\n\u001b[1;32m-> 3554\u001b[0m \u001b[39mreturn\u001b[39;00m gen_nn_ops\u001b[39m.\u001b[39;49mbias_add(value, bias, data_format\u001b[39m=\u001b[39;49mdata_format, name\u001b[39m=\u001b[39;49mname)\n",
      "File \u001b[1;32me:\\miniconda3\\envs\\AI\\lib\\site-packages\\tensorflow\\python\\ops\\gen_nn_ops.py:901\u001b[0m, in \u001b[0;36mbias_add\u001b[1;34m(value, bias, data_format, name)\u001b[0m\n\u001b[0;32m    899\u001b[0m \u001b[39mif\u001b[39;00m tld\u001b[39m.\u001b[39mis_eager:\n\u001b[0;32m    900\u001b[0m   \u001b[39mtry\u001b[39;00m:\n\u001b[1;32m--> 901\u001b[0m     _result \u001b[39m=\u001b[39m pywrap_tfe\u001b[39m.\u001b[39;49mTFE_Py_FastPathExecute(\n\u001b[0;32m    902\u001b[0m       _ctx, \u001b[39m\"\u001b[39;49m\u001b[39mBiasAdd\u001b[39;49m\u001b[39m\"\u001b[39;49m, name, value, bias, \u001b[39m\"\u001b[39;49m\u001b[39mdata_format\u001b[39;49m\u001b[39m\"\u001b[39;49m, data_format)\n\u001b[0;32m    903\u001b[0m     \u001b[39mreturn\u001b[39;00m _result\n\u001b[0;32m    904\u001b[0m   \u001b[39mexcept\u001b[39;00m _core\u001b[39m.\u001b[39m_NotOkStatusException \u001b[39mas\u001b[39;00m e:\n",
      "\u001b[1;31mKeyboardInterrupt\u001b[0m: "
     ]
    }
   ],
   "source": [
    "model = init_model()\n",
    "optimizer = tf.keras.optimizers.Adam(5e-4)\n",
    "\n",
    "N_samples = 64\n",
    "N_iters = 1000\n",
    "psnrs = []\n",
    "iternums = []\n",
    "i_plot = 25\n",
    "\n",
    "import time\n",
    "t = time.time()\n",
    "for i in range(N_iters+1):\n",
    "    \n",
    "    img_i = np.random.randint(images.shape[0])\n",
    "    target = images[img_i]\n",
    "    pose = poses[img_i]\n",
    "    rays_o, rays_d = get_rays(H, W, focal, pose)\n",
    "    with tf.GradientTape() as tape:\n",
    "        rgb, depth, acc = render_rays(model, rays_o, rays_d, near=2., far=6., N_samples=N_samples, rand=True)\n",
    "        loss = tf.reduce_mean(tf.square(rgb - target))\n",
    "    gradients = tape.gradient(loss, model.trainable_variables)\n",
    "    optimizer.apply_gradients(zip(gradients, model.trainable_variables))\n",
    "    \n",
    "    if i%i_plot==0:\n",
    "        print(i, (time.time() - t) / i_plot, 'secs per iter')\n",
    "        t = time.time()\n",
    "        \n",
    "        # Render the holdout view for logging\n",
    "        rays_o, rays_d = get_rays(H, W, focal, testpose)\n",
    "        rgb, depth, acc = render_rays(model, rays_o, rays_d, near=2., far=6., N_samples=N_samples)\n",
    "        loss = tf.reduce_mean(tf.square(rgb - testimg))\n",
    "        psnr = -10. * tf.math.log(loss) / tf.math.log(10.)\n",
    "\n",
    "        psnrs.append(psnr.numpy())\n",
    "        iternums.append(i)\n",
    "        \n",
    "        plt.figure(figsize=(10,4))\n",
    "        plt.subplot(121)\n",
    "        plt.imshow(rgb)\n",
    "        plt.title(f'Iteration: {i}')\n",
    "        plt.subplot(122)\n",
    "        plt.plot(iternums, psnrs)\n",
    "        plt.title('PSNR')\n",
    "        plt.show()\n",
    "\n",
    "print('Done')"
   ]
  },
  {
   "cell_type": "markdown",
   "id": "7f31ccaf",
   "metadata": {
    "id": "bZLEFNox_UVK",
    "papermill": {
     "duration": 0.214533,
     "end_time": "2022-04-16T01:18:28.728720",
     "exception": false,
     "start_time": "2022-04-16T01:18:28.514187",
     "status": "completed"
    },
    "tags": []
   },
   "source": [
    "# Interactive Visualization"
   ]
  },
  {
   "cell_type": "code",
   "execution_count": null,
   "id": "f355332d",
   "metadata": {
    "execution": {
     "iopub.execute_input": "2022-04-16T01:18:29.002372Z",
     "iopub.status.busy": "2022-04-16T01:18:29.002055Z",
     "iopub.status.idle": "2022-04-16T01:18:29.518443Z",
     "shell.execute_reply": "2022-04-16T01:18:29.517486Z"
    },
    "id": "L92jHDI7j0FT",
    "outputId": "758e5559-8b25-47ff-bfb6-4a6c088e01af",
    "papermill": {
     "duration": 0.653739,
     "end_time": "2022-04-16T01:18:29.521500",
     "exception": false,
     "start_time": "2022-04-16T01:18:28.867761",
     "status": "completed"
    },
    "tags": []
   },
   "outputs": [
    {
     "data": {
      "application/vnd.jupyter.widget-view+json": {
       "model_id": "bbb072f32fd849d5beeaaa8cf69150f2",
       "version_major": 2,
       "version_minor": 0
      },
      "text/plain": [
       "interactive(children=(FloatSlider(value=100.0, description='theta', max=360.0, step=0.01), FloatSlider(value=-…"
      ]
     },
     "metadata": {},
     "output_type": "display_data"
    }
   ],
   "source": [
    "%matplotlib inline\n",
    "from ipywidgets import interactive, widgets\n",
    "\n",
    "\n",
    "trans_t = lambda t : tf.convert_to_tensor([\n",
    "    [1,0,0,0],\n",
    "    [0,1,0,0],\n",
    "    [0,0,1,t],\n",
    "    [0,0,0,1],\n",
    "], dtype=tf.float32)\n",
    "\n",
    "rot_phi = lambda phi : tf.convert_to_tensor([\n",
    "    [1,0,0,0],\n",
    "    [0,tf.cos(phi),-tf.sin(phi),0],\n",
    "    [0,tf.sin(phi), tf.cos(phi),0],\n",
    "    [0,0,0,1],\n",
    "], dtype=tf.float32)\n",
    "\n",
    "rot_theta = lambda th : tf.convert_to_tensor([\n",
    "    [tf.cos(th),0,-tf.sin(th),0],\n",
    "    [0,1,0,0],\n",
    "    [tf.sin(th),0, tf.cos(th),0],\n",
    "    [0,0,0,1],\n",
    "], dtype=tf.float32)\n",
    "\n",
    "\n",
    "def pose_spherical(theta, phi, radius):\n",
    "    c2w = trans_t(radius)\n",
    "    c2w = rot_phi(phi/180.*np.pi) @ c2w\n",
    "    c2w = rot_theta(theta/180.*np.pi) @ c2w\n",
    "    c2w = np.array([[-1,0,0,0],[0,0,1,0],[0,1,0,0],[0,0,0,1]]) @ c2w\n",
    "    return c2w\n",
    "\n",
    "\n",
    "def f(**kwargs):\n",
    "    c2w = pose_spherical(**kwargs)\n",
    "    rays_o, rays_d = get_rays(H, W, focal, c2w[:3,:4])\n",
    "    rgb, depth, acc = render_rays(model, rays_o, rays_d, near=2., far=6., N_samples=N_samples)\n",
    "    img = np.clip(rgb,0,1)\n",
    "    \n",
    "    plt.figure(2, figsize=(20,6))\n",
    "    plt.imshow(img)\n",
    "    plt.show()\n",
    "    \n",
    "\n",
    "sldr = lambda v, mi, ma: widgets.FloatSlider(\n",
    "    value=v,\n",
    "    min=mi,\n",
    "    max=ma,\n",
    "    step=.01,\n",
    ")\n",
    "\n",
    "names = [\n",
    "    ['theta', [100., 0., 360]],\n",
    "    ['phi', [-30., -90, 0]],\n",
    "    ['radius', [4., 3., 5.]],\n",
    "]\n",
    "\n",
    "interactive_plot = interactive(f, **{s[0] : sldr(*s[1]) for s in names})\n",
    "output = interactive_plot.children[-1]\n",
    "output.layout.height = '350px'\n",
    "interactive_plot"
   ]
  },
  {
   "cell_type": "markdown",
   "id": "c4e6564e",
   "metadata": {
    "id": "PpKhAn2a__Iu",
    "papermill": {
     "duration": 0.13035,
     "end_time": "2022-04-16T01:18:29.785424",
     "exception": false,
     "start_time": "2022-04-16T01:18:29.655074",
     "status": "completed"
    },
    "tags": []
   },
   "source": [
    "# Render 360 Video"
   ]
  },
  {
   "cell_type": "code",
   "execution_count": null,
   "id": "7c3f2402",
   "metadata": {
    "execution": {
     "iopub.execute_input": "2022-04-16T01:18:30.040791Z",
     "iopub.status.busy": "2022-04-16T01:18:30.040367Z",
     "iopub.status.idle": "2022-04-16T01:18:49.552817Z",
     "shell.execute_reply": "2022-04-16T01:18:49.551719Z"
    },
    "id": "8Sg4aV0cmVPs",
    "outputId": "b88362ee-8e98-4ac1-c704-59dc9df5b283",
    "papermill": {
     "duration": 19.643435,
     "end_time": "2022-04-16T01:18:49.556284",
     "exception": false,
     "start_time": "2022-04-16T01:18:29.912849",
     "status": "completed"
    },
    "tags": []
   },
   "outputs": [
    {
     "name": "stderr",
     "output_type": "stream",
     "text": [
      "/opt/conda/lib/python3.7/site-packages/ipykernel_launcher.py:2: TqdmDeprecationWarning: This function will be removed in tqdm==5.0.0\n",
      "Please use `tqdm.notebook.tqdm` instead of `tqdm.tqdm_notebook`\n",
      "  \n"
     ]
    },
    {
     "data": {
      "application/vnd.jupyter.widget-view+json": {
       "model_id": "bbbf7936ce2b411b9af585b4dc519ea0",
       "version_major": 2,
       "version_minor": 0
      },
      "text/plain": [
       "  0%|          | 0/120 [00:00<?, ?it/s]"
      ]
     },
     "metadata": {},
     "output_type": "display_data"
    },
    {
     "name": "stderr",
     "output_type": "stream",
     "text": [
      "[swscaler @ 0x5589cc0] Warning: data is not aligned! This can lead to a speed loss\n"
     ]
    }
   ],
   "source": [
    "frames = []\n",
    "for th in tqdm(np.linspace(0., 360., 120, endpoint=False)):\n",
    "    c2w = pose_spherical(th, -30., 4.)\n",
    "    rays_o, rays_d = get_rays(H, W, focal, c2w[:3,:4])\n",
    "    rgb, depth, acc = render_rays(model, rays_o, rays_d, near=2., far=6., N_samples=N_samples)\n",
    "    frames.append((255*np.clip(rgb,0,1)).astype(np.uint8))\n",
    "\n",
    "import imageio\n",
    "f = 'video.mp4'\n",
    "imageio.mimwrite(f, frames, fps=30, quality=7)"
   ]
  },
  {
   "cell_type": "code",
   "execution_count": null,
   "id": "93d969a0",
   "metadata": {
    "execution": {
     "iopub.execute_input": "2022-04-16T01:18:49.820482Z",
     "iopub.status.busy": "2022-04-16T01:18:49.820143Z",
     "iopub.status.idle": "2022-04-16T01:18:49.832559Z",
     "shell.execute_reply": "2022-04-16T01:18:49.831413Z"
    },
    "id": "OQ_ms-YMyFly",
    "outputId": "5354e038-5cc1-4ac5-88e7-8a34849cc7e4",
    "papermill": {
     "duration": 0.15052,
     "end_time": "2022-04-16T01:18:49.836052",
     "exception": false,
     "start_time": "2022-04-16T01:18:49.685532",
     "status": "completed"
    },
    "tags": []
   },
   "outputs": [
    {
     "data": {
      "text/html": [
       "\n",
       "<video width=400 controls autoplay loop>\n",
       "      <source src=\"data:video/mp4;base64,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\" type=\"video/mp4\">\n",
       "</video>\n"
      ],
      "text/plain": [
       "<IPython.core.display.HTML object>"
      ]
     },
     "execution_count": 9,
     "metadata": {},
     "output_type": "execute_result"
    }
   ],
   "source": [
    "from IPython.display import HTML\n",
    "from base64 import b64encode\n",
    "mp4 = open('video.mp4','rb').read()\n",
    "data_url = \"data:video/mp4;base64,\" + b64encode(mp4).decode()\n",
    "HTML(\"\"\"\n",
    "<video width=400 controls autoplay loop>\n",
    "      <source src=\"%s\" type=\"video/mp4\">\n",
    "</video>\n",
    "\"\"\" % data_url)"
   ]
  },
  {
   "cell_type": "code",
   "execution_count": null,
   "id": "004daf14",
   "metadata": {
    "id": "CT38DMfyCICr",
    "papermill": {
     "duration": 0.129877,
     "end_time": "2022-04-16T01:18:50.102383",
     "exception": false,
     "start_time": "2022-04-16T01:18:49.972506",
     "status": "completed"
    },
    "tags": []
   },
   "outputs": [],
   "source": []
  }
 ],
 "metadata": {
  "kernelspec": {
   "display_name": "AI",
   "language": "python",
   "name": "python3"
  },
  "language_info": {
   "codemirror_mode": {
    "name": "ipython",
    "version": 3
   },
   "file_extension": ".py",
   "mimetype": "text/x-python",
   "name": "python",
   "nbconvert_exporter": "python",
   "pygments_lexer": "ipython3",
   "version": "3.10.9"
  },
  "papermill": {
   "default_parameters": {},
   "duration": 540.736348,
   "end_time": "2022-04-16T01:18:53.074711",
   "environment_variables": {},
   "exception": null,
   "input_path": "__notebook__.ipynb",
   "output_path": "__notebook__.ipynb",
   "parameters": {},
   "start_time": "2022-04-16T01:09:52.338363",
   "version": "2.3.4"
  },
  "vscode": {
   "interpreter": {
    "hash": "53596613db86253c1e93184c1c3f1083c5b82e8b4983f550555c2699c26fb4c4"
   }
  },
  "widgets": {
   "application/vnd.jupyter.widget-state+json": {
    "state": {
     "0c8cddd9761b4e59aab9384f18dcda05": {
      "model_module": "@jupyter-widgets/controls",
      "model_module_version": "1.5.0",
      "model_name": "ProgressStyleModel",
      "state": {
       "_model_module": "@jupyter-widgets/controls",
       "_model_module_version": "1.5.0",
       "_model_name": "ProgressStyleModel",
       "_view_count": null,
       "_view_module": "@jupyter-widgets/base",
       "_view_module_version": "1.2.0",
       "_view_name": "StyleView",
       "bar_color": null,
       "description_width": ""
      }
     },
     "1fefaec1655c48339e02128821aa68c8": {
      "model_module": "@jupyter-widgets/controls",
      "model_module_version": "1.5.0",
      "model_name": "SliderStyleModel",
      "state": {
       "_model_module": "@jupyter-widgets/controls",
       "_model_module_version": "1.5.0",
       "_model_name": "SliderStyleModel",
       "_view_count": null,
       "_view_module": "@jupyter-widgets/base",
       "_view_module_version": "1.2.0",
       "_view_name": "StyleView",
       "description_width": "",
       "handle_color": null
      }
     },
     "2207391d33884aecb83cf371e75e8fed": {
      "model_module": "@jupyter-widgets/base",
      "model_module_version": "1.2.0",
      "model_name": "LayoutModel",
      "state": {
       "_model_module": "@jupyter-widgets/base",
       "_model_module_version": "1.2.0",
       "_model_name": "LayoutModel",
       "_view_count": null,
       "_view_module": "@jupyter-widgets/base",
       "_view_module_version": "1.2.0",
       "_view_name": "LayoutView",
       "align_content": null,
       "align_items": null,
       "align_self": null,
       "border": null,
       "bottom": null,
       "display": null,
       "flex": null,
       "flex_flow": null,
       "grid_area": null,
       "grid_auto_columns": null,
       "grid_auto_flow": null,
       "grid_auto_rows": null,
       "grid_column": null,
       "grid_gap": null,
       "grid_row": null,
       "grid_template_areas": null,
       "grid_template_columns": null,
       "grid_template_rows": null,
       "height": null,
       "justify_content": null,
       "justify_items": null,
       "left": null,
       "margin": null,
       "max_height": null,
       "max_width": null,
       "min_height": null,
       "min_width": null,
       "object_fit": null,
       "object_position": null,
       "order": null,
       "overflow": null,
       "overflow_x": null,
       "overflow_y": null,
       "padding": null,
       "right": null,
       "top": null,
       "visibility": null,
       "width": null
      }
     },
     "3b9ddcced6324ddc86edc000f58ddb47": {
      "model_module": "@jupyter-widgets/base",
      "model_module_version": "1.2.0",
      "model_name": "LayoutModel",
      "state": {
       "_model_module": "@jupyter-widgets/base",
       "_model_module_version": "1.2.0",
       "_model_name": "LayoutModel",
       "_view_count": null,
       "_view_module": "@jupyter-widgets/base",
       "_view_module_version": "1.2.0",
       "_view_name": "LayoutView",
       "align_content": null,
       "align_items": null,
       "align_self": null,
       "border": null,
       "bottom": null,
       "display": null,
       "flex": null,
       "flex_flow": null,
       "grid_area": null,
       "grid_auto_columns": null,
       "grid_auto_flow": null,
       "grid_auto_rows": null,
       "grid_column": null,
       "grid_gap": null,
       "grid_row": null,
       "grid_template_areas": null,
       "grid_template_columns": null,
       "grid_template_rows": null,
       "height": null,
       "justify_content": null,
       "justify_items": null,
       "left": null,
       "margin": null,
       "max_height": null,
       "max_width": null,
       "min_height": null,
       "min_width": null,
       "object_fit": null,
       "object_position": null,
       "order": null,
       "overflow": null,
       "overflow_x": null,
       "overflow_y": null,
       "padding": null,
       "right": null,
       "top": null,
       "visibility": null,
       "width": null
      }
     },
     "45913f9c66754a4bafbde6a99d329491": {
      "model_module": "@jupyter-widgets/controls",
      "model_module_version": "1.5.0",
      "model_name": "FloatSliderModel",
      "state": {
       "_dom_classes": [],
       "_model_module": "@jupyter-widgets/controls",
       "_model_module_version": "1.5.0",
       "_model_name": "FloatSliderModel",
       "_view_count": null,
       "_view_module": "@jupyter-widgets/controls",
       "_view_module_version": "1.5.0",
       "_view_name": "FloatSliderView",
       "continuous_update": true,
       "description": "theta",
       "description_tooltip": null,
       "disabled": false,
       "layout": "IPY_MODEL_91888a242a44428db9d83e1c075e204b",
       "max": 360,
       "min": 0,
       "orientation": "horizontal",
       "readout": true,
       "readout_format": ".2f",
       "step": 0.01,
       "style": "IPY_MODEL_1fefaec1655c48339e02128821aa68c8",
       "value": 100
      }
     },
     "546b9180c2e341689c40308d35a4fbd8": {
      "model_module": "@jupyter-widgets/controls",
      "model_module_version": "1.5.0",
      "model_name": "SliderStyleModel",
      "state": {
       "_model_module": "@jupyter-widgets/controls",
       "_model_module_version": "1.5.0",
       "_model_name": "SliderStyleModel",
       "_view_count": null,
       "_view_module": "@jupyter-widgets/base",
       "_view_module_version": "1.2.0",
       "_view_name": "StyleView",
       "description_width": "",
       "handle_color": null
      }
     },
     "5c30bf6b67914d198113de47ab36f0f0": {
      "model_module": "@jupyter-widgets/controls",
      "model_module_version": "1.5.0",
      "model_name": "FloatSliderModel",
      "state": {
       "_dom_classes": [],
       "_model_module": "@jupyter-widgets/controls",
       "_model_module_version": "1.5.0",
       "_model_name": "FloatSliderModel",
       "_view_count": null,
       "_view_module": "@jupyter-widgets/controls",
       "_view_module_version": "1.5.0",
       "_view_name": "FloatSliderView",
       "continuous_update": true,
       "description": "radius",
       "description_tooltip": null,
       "disabled": false,
       "layout": "IPY_MODEL_7c7e7fb6ebc545eeb7cd4098f973bc26",
       "max": 5,
       "min": 3,
       "orientation": "horizontal",
       "readout": true,
       "readout_format": ".2f",
       "step": 0.01,
       "style": "IPY_MODEL_546b9180c2e341689c40308d35a4fbd8",
       "value": 4
      }
     },
     "73d014639a2141dc8c7bd354cf919170": {
      "model_module": "@jupyter-widgets/controls",
      "model_module_version": "1.5.0",
      "model_name": "DescriptionStyleModel",
      "state": {
       "_model_module": "@jupyter-widgets/controls",
       "_model_module_version": "1.5.0",
       "_model_name": "DescriptionStyleModel",
       "_view_count": null,
       "_view_module": "@jupyter-widgets/base",
       "_view_module_version": "1.2.0",
       "_view_name": "StyleView",
       "description_width": ""
      }
     },
     "7c7e7fb6ebc545eeb7cd4098f973bc26": {
      "model_module": "@jupyter-widgets/base",
      "model_module_version": "1.2.0",
      "model_name": "LayoutModel",
      "state": {
       "_model_module": "@jupyter-widgets/base",
       "_model_module_version": "1.2.0",
       "_model_name": "LayoutModel",
       "_view_count": null,
       "_view_module": "@jupyter-widgets/base",
       "_view_module_version": "1.2.0",
       "_view_name": "LayoutView",
       "align_content": null,
       "align_items": null,
       "align_self": null,
       "border": null,
       "bottom": null,
       "display": null,
       "flex": null,
       "flex_flow": null,
       "grid_area": null,
       "grid_auto_columns": null,
       "grid_auto_flow": null,
       "grid_auto_rows": null,
       "grid_column": null,
       "grid_gap": null,
       "grid_row": null,
       "grid_template_areas": null,
       "grid_template_columns": null,
       "grid_template_rows": null,
       "height": null,
       "justify_content": null,
       "justify_items": null,
       "left": null,
       "margin": null,
       "max_height": null,
       "max_width": null,
       "min_height": null,
       "min_width": null,
       "object_fit": null,
       "object_position": null,
       "order": null,
       "overflow": null,
       "overflow_x": null,
       "overflow_y": null,
       "padding": null,
       "right": null,
       "top": null,
       "visibility": null,
       "width": null
      }
     },
     "89d86ac5f53c490dba60de3d176b01c3": {
      "model_module": "@jupyter-widgets/controls",
      "model_module_version": "1.5.0",
      "model_name": "HTMLModel",
      "state": {
       "_dom_classes": [],
       "_model_module": "@jupyter-widgets/controls",
       "_model_module_version": "1.5.0",
       "_model_name": "HTMLModel",
       "_view_count": null,
       "_view_module": "@jupyter-widgets/controls",
       "_view_module_version": "1.5.0",
       "_view_name": "HTMLView",
       "description": "",
       "description_tooltip": null,
       "layout": "IPY_MODEL_b7b57099e68e4de3bb1c27f20143433b",
       "placeholder": "​",
       "style": "IPY_MODEL_73d014639a2141dc8c7bd354cf919170",
       "value": "100%"
      }
     },
     "91888a242a44428db9d83e1c075e204b": {
      "model_module": "@jupyter-widgets/base",
      "model_module_version": "1.2.0",
      "model_name": "LayoutModel",
      "state": {
       "_model_module": "@jupyter-widgets/base",
       "_model_module_version": "1.2.0",
       "_model_name": "LayoutModel",
       "_view_count": null,
       "_view_module": "@jupyter-widgets/base",
       "_view_module_version": "1.2.0",
       "_view_name": "LayoutView",
       "align_content": null,
       "align_items": null,
       "align_self": null,
       "border": null,
       "bottom": null,
       "display": null,
       "flex": null,
       "flex_flow": null,
       "grid_area": null,
       "grid_auto_columns": null,
       "grid_auto_flow": null,
       "grid_auto_rows": null,
       "grid_column": null,
       "grid_gap": null,
       "grid_row": null,
       "grid_template_areas": null,
       "grid_template_columns": null,
       "grid_template_rows": null,
       "height": null,
       "justify_content": null,
       "justify_items": null,
       "left": null,
       "margin": null,
       "max_height": null,
       "max_width": null,
       "min_height": null,
       "min_width": null,
       "object_fit": null,
       "object_position": null,
       "order": null,
       "overflow": null,
       "overflow_x": null,
       "overflow_y": null,
       "padding": null,
       "right": null,
       "top": null,
       "visibility": null,
       "width": null
      }
     },
     "9cb05b5eec794298a4380042b5e76d00": {
      "model_module": "@jupyter-widgets/controls",
      "model_module_version": "1.5.0",
      "model_name": "FloatSliderModel",
      "state": {
       "_dom_classes": [],
       "_model_module": "@jupyter-widgets/controls",
       "_model_module_version": "1.5.0",
       "_model_name": "FloatSliderModel",
       "_view_count": null,
       "_view_module": "@jupyter-widgets/controls",
       "_view_module_version": "1.5.0",
       "_view_name": "FloatSliderView",
       "continuous_update": true,
       "description": "phi",
       "description_tooltip": null,
       "disabled": false,
       "layout": "IPY_MODEL_3b9ddcced6324ddc86edc000f58ddb47",
       "max": 0,
       "min": -90,
       "orientation": "horizontal",
       "readout": true,
       "readout_format": ".2f",
       "step": 0.01,
       "style": "IPY_MODEL_adb3123c6c0c47dcb0cf2d0e0ac138c1",
       "value": -30
      }
     },
     "aa47cbdaaabc4ff4be0449287aea6ebb": {
      "model_module": "@jupyter-widgets/base",
      "model_module_version": "1.2.0",
      "model_name": "LayoutModel",
      "state": {
       "_model_module": "@jupyter-widgets/base",
       "_model_module_version": "1.2.0",
       "_model_name": "LayoutModel",
       "_view_count": null,
       "_view_module": "@jupyter-widgets/base",
       "_view_module_version": "1.2.0",
       "_view_name": "LayoutView",
       "align_content": null,
       "align_items": null,
       "align_self": null,
       "border": null,
       "bottom": null,
       "display": null,
       "flex": null,
       "flex_flow": null,
       "grid_area": null,
       "grid_auto_columns": null,
       "grid_auto_flow": null,
       "grid_auto_rows": null,
       "grid_column": null,
       "grid_gap": null,
       "grid_row": null,
       "grid_template_areas": null,
       "grid_template_columns": null,
       "grid_template_rows": null,
       "height": null,
       "justify_content": null,
       "justify_items": null,
       "left": null,
       "margin": null,
       "max_height": null,
       "max_width": null,
       "min_height": null,
       "min_width": null,
       "object_fit": null,
       "object_position": null,
       "order": null,
       "overflow": null,
       "overflow_x": null,
       "overflow_y": null,
       "padding": null,
       "right": null,
       "top": null,
       "visibility": null,
       "width": null
      }
     },
     "acbed4acfa544113a3e70e4faeb4fde5": {
      "model_module": "@jupyter-widgets/base",
      "model_module_version": "1.2.0",
      "model_name": "LayoutModel",
      "state": {
       "_model_module": "@jupyter-widgets/base",
       "_model_module_version": "1.2.0",
       "_model_name": "LayoutModel",
       "_view_count": null,
       "_view_module": "@jupyter-widgets/base",
       "_view_module_version": "1.2.0",
       "_view_name": "LayoutView",
       "align_content": null,
       "align_items": null,
       "align_self": null,
       "border": null,
       "bottom": null,
       "display": null,
       "flex": null,
       "flex_flow": null,
       "grid_area": null,
       "grid_auto_columns": null,
       "grid_auto_flow": null,
       "grid_auto_rows": null,
       "grid_column": null,
       "grid_gap": null,
       "grid_row": null,
       "grid_template_areas": null,
       "grid_template_columns": null,
       "grid_template_rows": null,
       "height": null,
       "justify_content": null,
       "justify_items": null,
       "left": null,
       "margin": null,
       "max_height": null,
       "max_width": null,
       "min_height": null,
       "min_width": null,
       "object_fit": null,
       "object_position": null,
       "order": null,
       "overflow": null,
       "overflow_x": null,
       "overflow_y": null,
       "padding": null,
       "right": null,
       "top": null,
       "visibility": null,
       "width": null
      }
     },
     "adb3123c6c0c47dcb0cf2d0e0ac138c1": {
      "model_module": "@jupyter-widgets/controls",
      "model_module_version": "1.5.0",
      "model_name": "SliderStyleModel",
      "state": {
       "_model_module": "@jupyter-widgets/controls",
       "_model_module_version": "1.5.0",
       "_model_name": "SliderStyleModel",
       "_view_count": null,
       "_view_module": "@jupyter-widgets/base",
       "_view_module_version": "1.2.0",
       "_view_name": "StyleView",
       "description_width": "",
       "handle_color": null
      }
     },
     "aec1710bf14a4b77bc30a1b4eae6828e": {
      "model_module": "@jupyter-widgets/output",
      "model_module_version": "1.0.0",
      "model_name": "OutputModel",
      "state": {
       "_dom_classes": [],
       "_model_module": "@jupyter-widgets/output",
       "_model_module_version": "1.0.0",
       "_model_name": "OutputModel",
       "_view_count": null,
       "_view_module": "@jupyter-widgets/output",
       "_view_module_version": "1.0.0",
       "_view_name": "OutputView",
       "layout": "IPY_MODEL_c65136e2de65480ca27d6cb96a944226",
       "msg_id": "",
       "outputs": [
        {
         "data": {
          "image/png": "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\n",
          "text/plain": "<Figure size 1440x432 with 1 Axes>"
         },
         "metadata": {
          "needs_background": "light"
         },
         "output_type": "display_data"
        }
       ]
      }
     },
     "b3bec4b38760400384dfc8895bb0e961": {
      "model_module": "@jupyter-widgets/controls",
      "model_module_version": "1.5.0",
      "model_name": "HTMLModel",
      "state": {
       "_dom_classes": [],
       "_model_module": "@jupyter-widgets/controls",
       "_model_module_version": "1.5.0",
       "_model_name": "HTMLModel",
       "_view_count": null,
       "_view_module": "@jupyter-widgets/controls",
       "_view_module_version": "1.5.0",
       "_view_name": "HTMLView",
       "description": "",
       "description_tooltip": null,
       "layout": "IPY_MODEL_acbed4acfa544113a3e70e4faeb4fde5",
       "placeholder": "​",
       "style": "IPY_MODEL_c40be9d20c054cd3a6264496d3be0051",
       "value": " 120/120 [00:18&lt;00:00,  6.39it/s]"
      }
     },
     "b7b57099e68e4de3bb1c27f20143433b": {
      "model_module": "@jupyter-widgets/base",
      "model_module_version": "1.2.0",
      "model_name": "LayoutModel",
      "state": {
       "_model_module": "@jupyter-widgets/base",
       "_model_module_version": "1.2.0",
       "_model_name": "LayoutModel",
       "_view_count": null,
       "_view_module": "@jupyter-widgets/base",
       "_view_module_version": "1.2.0",
       "_view_name": "LayoutView",
       "align_content": null,
       "align_items": null,
       "align_self": null,
       "border": null,
       "bottom": null,
       "display": null,
       "flex": null,
       "flex_flow": null,
       "grid_area": null,
       "grid_auto_columns": null,
       "grid_auto_flow": null,
       "grid_auto_rows": null,
       "grid_column": null,
       "grid_gap": null,
       "grid_row": null,
       "grid_template_areas": null,
       "grid_template_columns": null,
       "grid_template_rows": null,
       "height": null,
       "justify_content": null,
       "justify_items": null,
       "left": null,
       "margin": null,
       "max_height": null,
       "max_width": null,
       "min_height": null,
       "min_width": null,
       "object_fit": null,
       "object_position": null,
       "order": null,
       "overflow": null,
       "overflow_x": null,
       "overflow_y": null,
       "padding": null,
       "right": null,
       "top": null,
       "visibility": null,
       "width": null
      }
     },
     "bbb072f32fd849d5beeaaa8cf69150f2": {
      "model_module": "@jupyter-widgets/controls",
      "model_module_version": "1.5.0",
      "model_name": "VBoxModel",
      "state": {
       "_dom_classes": [
        "widget-interact"
       ],
       "_model_module": "@jupyter-widgets/controls",
       "_model_module_version": "1.5.0",
       "_model_name": "VBoxModel",
       "_view_count": null,
       "_view_module": "@jupyter-widgets/controls",
       "_view_module_version": "1.5.0",
       "_view_name": "VBoxView",
       "box_style": "",
       "children": [
        "IPY_MODEL_45913f9c66754a4bafbde6a99d329491",
        "IPY_MODEL_9cb05b5eec794298a4380042b5e76d00",
        "IPY_MODEL_5c30bf6b67914d198113de47ab36f0f0",
        "IPY_MODEL_aec1710bf14a4b77bc30a1b4eae6828e"
       ],
       "layout": "IPY_MODEL_de33e35f7efe4a7b84baa6b01c11c4e5"
      }
     },
     "bbbf7936ce2b411b9af585b4dc519ea0": {
      "model_module": "@jupyter-widgets/controls",
      "model_module_version": "1.5.0",
      "model_name": "HBoxModel",
      "state": {
       "_dom_classes": [],
       "_model_module": "@jupyter-widgets/controls",
       "_model_module_version": "1.5.0",
       "_model_name": "HBoxModel",
       "_view_count": null,
       "_view_module": "@jupyter-widgets/controls",
       "_view_module_version": "1.5.0",
       "_view_name": "HBoxView",
       "box_style": "",
       "children": [
        "IPY_MODEL_89d86ac5f53c490dba60de3d176b01c3",
        "IPY_MODEL_c411d267ae134635b3b790055580e112",
        "IPY_MODEL_b3bec4b38760400384dfc8895bb0e961"
       ],
       "layout": "IPY_MODEL_2207391d33884aecb83cf371e75e8fed"
      }
     },
     "c40be9d20c054cd3a6264496d3be0051": {
      "model_module": "@jupyter-widgets/controls",
      "model_module_version": "1.5.0",
      "model_name": "DescriptionStyleModel",
      "state": {
       "_model_module": "@jupyter-widgets/controls",
       "_model_module_version": "1.5.0",
       "_model_name": "DescriptionStyleModel",
       "_view_count": null,
       "_view_module": "@jupyter-widgets/base",
       "_view_module_version": "1.2.0",
       "_view_name": "StyleView",
       "description_width": ""
      }
     },
     "c411d267ae134635b3b790055580e112": {
      "model_module": "@jupyter-widgets/controls",
      "model_module_version": "1.5.0",
      "model_name": "FloatProgressModel",
      "state": {
       "_dom_classes": [],
       "_model_module": "@jupyter-widgets/controls",
       "_model_module_version": "1.5.0",
       "_model_name": "FloatProgressModel",
       "_view_count": null,
       "_view_module": "@jupyter-widgets/controls",
       "_view_module_version": "1.5.0",
       "_view_name": "ProgressView",
       "bar_style": "success",
       "description": "",
       "description_tooltip": null,
       "layout": "IPY_MODEL_aa47cbdaaabc4ff4be0449287aea6ebb",
       "max": 120,
       "min": 0,
       "orientation": "horizontal",
       "style": "IPY_MODEL_0c8cddd9761b4e59aab9384f18dcda05",
       "value": 120
      }
     },
     "c65136e2de65480ca27d6cb96a944226": {
      "model_module": "@jupyter-widgets/base",
      "model_module_version": "1.2.0",
      "model_name": "LayoutModel",
      "state": {
       "_model_module": "@jupyter-widgets/base",
       "_model_module_version": "1.2.0",
       "_model_name": "LayoutModel",
       "_view_count": null,
       "_view_module": "@jupyter-widgets/base",
       "_view_module_version": "1.2.0",
       "_view_name": "LayoutView",
       "align_content": null,
       "align_items": null,
       "align_self": null,
       "border": null,
       "bottom": null,
       "display": null,
       "flex": null,
       "flex_flow": null,
       "grid_area": null,
       "grid_auto_columns": null,
       "grid_auto_flow": null,
       "grid_auto_rows": null,
       "grid_column": null,
       "grid_gap": null,
       "grid_row": null,
       "grid_template_areas": null,
       "grid_template_columns": null,
       "grid_template_rows": null,
       "height": "350px",
       "justify_content": null,
       "justify_items": null,
       "left": null,
       "margin": null,
       "max_height": null,
       "max_width": null,
       "min_height": null,
       "min_width": null,
       "object_fit": null,
       "object_position": null,
       "order": null,
       "overflow": null,
       "overflow_x": null,
       "overflow_y": null,
       "padding": null,
       "right": null,
       "top": null,
       "visibility": null,
       "width": null
      }
     },
     "de33e35f7efe4a7b84baa6b01c11c4e5": {
      "model_module": "@jupyter-widgets/base",
      "model_module_version": "1.2.0",
      "model_name": "LayoutModel",
      "state": {
       "_model_module": "@jupyter-widgets/base",
       "_model_module_version": "1.2.0",
       "_model_name": "LayoutModel",
       "_view_count": null,
       "_view_module": "@jupyter-widgets/base",
       "_view_module_version": "1.2.0",
       "_view_name": "LayoutView",
       "align_content": null,
       "align_items": null,
       "align_self": null,
       "border": null,
       "bottom": null,
       "display": null,
       "flex": null,
       "flex_flow": null,
       "grid_area": null,
       "grid_auto_columns": null,
       "grid_auto_flow": null,
       "grid_auto_rows": null,
       "grid_column": null,
       "grid_gap": null,
       "grid_row": null,
       "grid_template_areas": null,
       "grid_template_columns": null,
       "grid_template_rows": null,
       "height": null,
       "justify_content": null,
       "justify_items": null,
       "left": null,
       "margin": null,
       "max_height": null,
       "max_width": null,
       "min_height": null,
       "min_width": null,
       "object_fit": null,
       "object_position": null,
       "order": null,
       "overflow": null,
       "overflow_x": null,
       "overflow_y": null,
       "padding": null,
       "right": null,
       "top": null,
       "visibility": null,
       "width": null
      }
     }
    },
    "version_major": 2,
    "version_minor": 0
   }
  }
 },
 "nbformat": 4,
 "nbformat_minor": 5
}
